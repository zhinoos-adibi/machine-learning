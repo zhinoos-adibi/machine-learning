{
 "cells": [
  {
   "cell_type": "code",
   "execution_count": 1,
   "id": "84a55bee",
   "metadata": {},
   "outputs": [],
   "source": [
    "import numpy as np\n",
    "import pandas as pd\n",
    "from sklearn.linear_model import LinearRegression\n",
    "#import statsmodels.formula.api as smf\n",
    "import statsmodels.api as sm\n",
    "from sklearn.metrics import mean_squared_error, r2_score\n",
    "import joblib\n",
    "import sys\n",
    "sys.modules['sklearn.externals.joblib'] = joblib\n",
    "from mlxtend.feature_selection import SequentialFeatureSelector as sfs\n",
    "import matplotlib.pyplot as plt\n",
    "import seaborn as sns\n",
    "sns.set()\n",
    "import time\n",
    "import itertools\n",
    "from sklearn.model_selection import train_test_split, cross_val_score, RepeatedKFold\n",
    "import sklearn"
   ]
  },
  {
   "cell_type": "markdown",
   "id": "e76c8069",
   "metadata": {},
   "source": [
    "# Import air quality\n"
   ]
  },
  {
   "cell_type": "code",
   "execution_count": 2,
   "id": "da009be2",
   "metadata": {},
   "outputs": [
    {
     "data": {
      "text/html": [
       "<div>\n",
       "<style scoped>\n",
       "    .dataframe tbody tr th:only-of-type {\n",
       "        vertical-align: middle;\n",
       "    }\n",
       "\n",
       "    .dataframe tbody tr th {\n",
       "        vertical-align: top;\n",
       "    }\n",
       "\n",
       "    .dataframe thead th {\n",
       "        text-align: right;\n",
       "    }\n",
       "</style>\n",
       "<table border=\"1\" class=\"dataframe\">\n",
       "  <thead>\n",
       "    <tr style=\"text-align: right;\">\n",
       "      <th></th>\n",
       "      <th>Ozone</th>\n",
       "      <th>Solar.R</th>\n",
       "      <th>Wind</th>\n",
       "      <th>Temp</th>\n",
       "    </tr>\n",
       "  </thead>\n",
       "  <tbody>\n",
       "    <tr>\n",
       "      <th>0</th>\n",
       "      <td>41.0</td>\n",
       "      <td>190.0</td>\n",
       "      <td>7.4</td>\n",
       "      <td>67</td>\n",
       "    </tr>\n",
       "    <tr>\n",
       "      <th>1</th>\n",
       "      <td>36.0</td>\n",
       "      <td>118.0</td>\n",
       "      <td>8.0</td>\n",
       "      <td>72</td>\n",
       "    </tr>\n",
       "    <tr>\n",
       "      <th>2</th>\n",
       "      <td>12.0</td>\n",
       "      <td>149.0</td>\n",
       "      <td>12.6</td>\n",
       "      <td>74</td>\n",
       "    </tr>\n",
       "    <tr>\n",
       "      <th>3</th>\n",
       "      <td>18.0</td>\n",
       "      <td>313.0</td>\n",
       "      <td>11.5</td>\n",
       "      <td>62</td>\n",
       "    </tr>\n",
       "    <tr>\n",
       "      <th>4</th>\n",
       "      <td>NaN</td>\n",
       "      <td>NaN</td>\n",
       "      <td>14.3</td>\n",
       "      <td>56</td>\n",
       "    </tr>\n",
       "  </tbody>\n",
       "</table>\n",
       "</div>"
      ],
      "text/plain": [
       "   Ozone  Solar.R  Wind  Temp\n",
       "0   41.0    190.0   7.4    67\n",
       "1   36.0    118.0   8.0    72\n",
       "2   12.0    149.0  12.6    74\n",
       "3   18.0    313.0  11.5    62\n",
       "4    NaN      NaN  14.3    56"
      ]
     },
     "execution_count": 2,
     "metadata": {},
     "output_type": "execute_result"
    }
   ],
   "source": [
    "df_airquality = pd.read_csv('airquality.csv',usecols = ['Ozone','Solar.R','Wind','Temp'])\n",
    "df_airquality.head()"
   ]
  },
  {
   "cell_type": "markdown",
   "id": "099be83c",
   "metadata": {},
   "source": [
    "**Adding 'TWcp'Column and 'TWrat' Column to the df_airquality**"
   ]
  },
  {
   "cell_type": "code",
   "execution_count": 3,
   "id": "d14c0386",
   "metadata": {},
   "outputs": [
    {
     "data": {
      "text/plain": [
       "Ozone      False\n",
       "Solar.R    False\n",
       "Wind       False\n",
       "Temp       False\n",
       "TWcp       False\n",
       "TWrat      False\n",
       "dtype: bool"
      ]
     },
     "execution_count": 3,
     "metadata": {},
     "output_type": "execute_result"
    }
   ],
   "source": [
    "df_airquality['TWcp'] = np.round(df_airquality['Temp']* df_airquality['Wind'],2)\n",
    "df_airquality['TWrat'] = np.round(df_airquality['Temp']/ df_airquality['Wind'],2)\n",
    "\n",
    "df_airquality = df_airquality.dropna()\n",
    "\n",
    "df_airquality.isna().any()"
   ]
  },
  {
   "cell_type": "markdown",
   "id": "7aa09e8a",
   "metadata": {},
   "source": [
    "# Report the variables in the best model of each size\n",
    "\n",
    "**steps:** \n",
    "\n",
    "**fit LinearRegression() , call sfs() for each size tor report the best variables**"
   ]
  },
  {
   "cell_type": "code",
   "execution_count": 4,
   "id": "fd104a4b",
   "metadata": {},
   "outputs": [],
   "source": [
    "# # Call multiple linear regression model\n",
    "ozonReg = LinearRegression()\n",
    "sfs1 = sfs(ozonReg, k_features=1, forward=True, verbose=0,\n",
    "           scoring='neg_mean_squared_error')\n",
    "sfs1 = sfs1.fit(df_airquality[['Solar.R', 'Wind', 'Temp', 'TWcp', 'TWrat']],\n",
    "                df_airquality['Ozone'])\n",
    "\n",
    "sfs2 = sfs(ozonReg, k_features=2, forward=True, verbose=0,\n",
    "           scoring='neg_mean_squared_error')\n",
    "sfs2 = sfs2.fit(df_airquality[['Solar.R', 'Wind', 'Temp', 'TWcp', 'TWrat']],\n",
    "                df_airquality['Ozone'])\n",
    "\n",
    "\n",
    "sfs3 = sfs(ozonReg, k_features=3, forward=True, verbose=0,\n",
    "           scoring='neg_mean_squared_error')\n",
    "sfs3 = sfs3.fit(df_airquality[['Solar.R', 'Wind', 'Temp', 'TWcp', 'TWrat']],\n",
    "                df_airquality['Ozone'])\n",
    "\n",
    "\n",
    "\n",
    "sfs4 = sfs(ozonReg, k_features=4, forward=True, verbose=0,\n",
    "           scoring='neg_mean_squared_error')\n",
    "sfs4 = sfs4.fit(df_airquality[['Solar.R', 'Wind', 'Temp', 'TWcp', 'TWrat']],\n",
    "                df_airquality['Ozone'])"
   ]
  },
  {
   "cell_type": "markdown",
   "id": "f2dafe24",
   "metadata": {},
   "source": [
    "# 1-a : Report the variables in the best  forward models of each size\n"
   ]
  },
  {
   "cell_type": "code",
   "execution_count": 5,
   "id": "5ff3ca45",
   "metadata": {},
   "outputs": [
    {
     "name": "stdout",
     "output_type": "stream",
     "text": [
      "\n",
      "\n",
      "The answer of 1-a : Report the variables in the best models of each size\n",
      "\n",
      " ----------------------------------------------------------------------------------------------------\n",
      "forward _model1_features: ['Temp'] \n",
      "\n",
      "forward _ model2_features: ['Temp', 'TWcp'] \n",
      "\n",
      "forward _model3_features: ['Wind', 'Temp', 'TWcp'] \n",
      "\n",
      "forward _model4_features: ['Solar.R', 'Wind', 'Temp', 'TWcp']\n"
     ]
    }
   ],
   "source": [
    "print('\\n\\nThe answer of 1-a : Report the variables in the best models of each size\\n\\n',\n",
    "      50 * \"--\")\n",
    "print('forward _model1_features:',list(sfs1.k_feature_names_),\"\\n\")\n",
    "print('forward _ model2_features:',list(sfs2.k_feature_names_),\"\\n\")\n",
    "print('forward _model3_features:',list(sfs3.k_feature_names_),\"\\n\")\n",
    "print('forward _model4_features:',list(sfs4.k_feature_names_))"
   ]
  },
  {
   "cell_type": "markdown",
   "id": "01995440",
   "metadata": {},
   "source": [
    "# 1-b)Fit statmodel in the best forward models of each size to report BIC  of each models"
   ]
  },
  {
   "cell_type": "code",
   "execution_count": 6,
   "id": "cc840d33",
   "metadata": {},
   "outputs": [
    {
     "name": "stderr",
     "output_type": "stream",
     "text": [
      "C:\\Users\\mzand\\AppData\\Roaming\\Python\\Python39\\site-packages\\statsmodels\\tsa\\tsatools.py:142: FutureWarning: In a future version of pandas all arguments of concat except for the argument 'objs' will be keyword-only\n",
      "  x = pd.concat(x[::order], 1)\n"
     ]
    }
   ],
   "source": [
    "x1 = sm.add_constant(df_airquality[['Temp']])    \n",
    " \n",
    "x2= sm.add_constant(df_airquality[['Temp','TWcp']]) \n",
    "\n",
    "x3= sm.add_constant(df_airquality[['Wind','Temp','TWcp']]) \n",
    "\n",
    "x4= sm.add_constant(df_airquality[['Solar.R','Wind','Temp','TWcp']]) \n",
    "\n",
    "model1_reg = sm.OLS(df_airquality[['Ozone']],x1).fit()\n",
    "\n",
    "model2_reg = sm.OLS(df_airquality[['Ozone']],x2).fit()\n",
    "\n",
    "model3_reg = sm.OLS(df_airquality[['Ozone']],x3).fit()\n",
    "\n",
    "model4_reg = sm.OLS(df_airquality[['Ozone']],x4).fit()"
   ]
  },
  {
   "cell_type": "code",
   "execution_count": 7,
   "id": "690d2fbe",
   "metadata": {},
   "outputs": [
    {
     "name": "stdout",
     "output_type": "stream",
     "text": [
      "bic of model1 is : 1027.19 \n",
      "\n",
      "bic of model2 is : 1004.16 \n",
      "\n",
      "bic of model3 is : 998.88 \n",
      "\n",
      "bic of model4 is : 994.15\n"
     ]
    }
   ],
   "source": [
    "print('bic of model1 is :' ,np.round(model1_reg.bic,2),\"\\n\" )\n",
    "print('bic of model2 is :' ,np.round(model2_reg.bic,2),\"\\n\" )\n",
    "print('bic of model3 is :' ,np.round(model3_reg.bic,2),\"\\n\" )\n",
    "print('bic of model4 is :' ,np.round(model4_reg.bic,2) )\n"
   ]
  },
  {
   "cell_type": "markdown",
   "id": "f6f61cb7",
   "metadata": {},
   "source": [
    "## 1-c) Identify the best model : "
   ]
  },
  {
   "cell_type": "markdown",
   "id": "dbfde658",
   "metadata": {},
   "source": [
    "**Based in the  smallest bic ,the 4th model which contain**\n",
    "\n",
    "**['Solar.R','Wind','Temp','TWcp'] features is the best one.**"
   ]
  },
  {
   "cell_type": "markdown",
   "id": "011fe9d9",
   "metadata": {},
   "source": [
    "# 2-Best model based in hybrid stepwise algoritm\n"
   ]
  },
  {
   "cell_type": "markdown",
   "id": "93fa71d5",
   "metadata": {},
   "source": [
    "**Define a function which combine forward and backward methods**"
   ]
  },
  {
   "cell_type": "code",
   "execution_count": 8,
   "id": "e62567db",
   "metadata": {},
   "outputs": [],
   "source": [
    "def hybrid_func(df, feature_number, response_name):\n",
    "    '''\n",
    "    This function get the dataframe , number of features\n",
    "    and response column name (as string)\n",
    "    and process the forward and backward methods in hybrid method.\n",
    "    \n",
    "    inputs :\n",
    "        df : data frame of features and response\n",
    "        feature_number: number of features which we want to select\n",
    "        respponse_name : Name of the response column in data frame.\n",
    "    \n",
    "    '''\n",
    "    df_func = df.copy()\n",
    "    y = df_func[[response_name]]\n",
    "    df_func.drop(response_name, axis= 'columns', inplace= True)\n",
    "    x = df_func\n",
    "    \n",
    "    func_reg = LinearRegression()\n",
    "    \n",
    "    func_sfs_f = sfs(func_reg, k_features=feature_number +1, \n",
    "                     forward=True, verbose=0, scoring='neg_mean_squared_error')\n",
    "    func_sfs_f = func_sfs_f.fit(x,y)\n",
    "    \n",
    "    columns_from_forward = df[list(func_sfs_f.k_feature_names_)]\n",
    "    \n",
    "    func_sfs_b = sfs(func_reg, k_features=feature_number,\n",
    "                     forward=False, verbose=0, scoring='neg_mean_squared_error')\n",
    "    func_sfs_b = func_sfs_b.fit(columns_from_forward, y)\n",
    "    \n",
    "    return func_sfs_b.k_feature_names_"
   ]
  },
  {
   "cell_type": "markdown",
   "id": "df702f0b",
   "metadata": {},
   "source": [
    "# 2: Report the variables in the best  hybrid models of each size\n"
   ]
  },
  {
   "cell_type": "code",
   "execution_count": 9,
   "id": "69ac059d",
   "metadata": {},
   "outputs": [
    {
     "name": "stdout",
     "output_type": "stream",
     "text": [
      "hybrid _model1_features ('Temp',)\n",
      "hybrid _model2_features ('Temp', 'TWcp')\n",
      "hybrid _model3_features ('Wind', 'Temp', 'TWcp')\n",
      "hybrid _model4_features ('Solar.R', 'Wind', 'Temp', 'TWcp')\n"
     ]
    }
   ],
   "source": [
    "print('hybrid _model1_features' ,hybrid_func(df_airquality, 1, 'Ozone'))\n",
    "print('hybrid _model2_features', hybrid_func(df_airquality, 2, 'Ozone'))\n",
    "print('hybrid _model3_features', hybrid_func(df_airquality, 3, 'Ozone'))\n",
    "print('hybrid _model4_features', hybrid_func(df_airquality, 4, 'Ozone'))"
   ]
  },
  {
   "cell_type": "markdown",
   "id": "762a83dc",
   "metadata": {},
   "source": [
    "**In this sample as the variables in the best  hybrid models of each size are same as**\n",
    "\n",
    "**forward models so the result about the best model based in bic is similar to forward model** \n",
    "\n",
    "**and ,the 4th model which contain ['Solar.R','Wind','Temp','TWcp'] features is the best one.**"
   ]
  },
  {
   "cell_type": "markdown",
   "id": "17a91efd",
   "metadata": {},
   "source": [
    "## The answer of parts, 3-a , 3-b , 3-c , are reported according to below codes"
   ]
  },
  {
   "cell_type": "code",
   "execution_count": 10,
   "id": "fab1914d",
   "metadata": {},
   "outputs": [],
   "source": [
    "\n",
    "rcv = RepeatedKFold(n_splits= 10, n_repeats= 1, random_state= 2928893)\n",
    "\n",
    "\n",
    "hybrid_model1_feature= df_airquality[list(hybrid_func(df_airquality, 1, 'Ozone'))]\n",
    "hybrid_model2_feature = df_airquality[list(hybrid_func(df_airquality, 2, 'Ozone'))]\n",
    "hybrid_model3_feature = df_airquality[list(hybrid_func(df_airquality, 3, 'Ozone'))]\n",
    "hybrid_model4_feature = df_airquality[list(hybrid_func(df_airquality, 4, 'Ozone'))]\n",
    "response = df_airquality[['Ozone']]\n",
    "\n",
    "score_cv_hybrid_model1 = cross_val_score(LinearRegression(), hybrid_model1_feature ,\n",
    "                                         response, scoring= 'neg_mean_squared_error', cv= rcv)\n",
    "\n",
    "score_cv_hybrid_model2 = cross_val_score(LinearRegression(), hybrid_model2_feature ,\n",
    "                                         response, scoring= 'neg_mean_squared_error', cv= rcv)\n",
    "\n",
    "score_cv_hybrid_model3 = cross_val_score(LinearRegression(), hybrid_model3_feature ,\n",
    "                                         response, scoring= 'neg_mean_squared_error', cv= rcv)\n",
    "\n",
    "score_cv_hybrid_model4 = cross_val_score(LinearRegression(), hybrid_model4_feature ,\n",
    "                                         response, scoring= 'neg_mean_squared_error', cv= rcv)"
   ]
  },
  {
   "cell_type": "code",
   "execution_count": 11,
   "id": "d0f7285a",
   "metadata": {},
   "outputs": [
    {
     "name": "stdout",
     "output_type": "stream",
     "text": [
      "Mean Squared Predict Error for model1 is : 585.58\n",
      "Mean Squared Predict Error for model2 is : 462.51\n",
      "Mean Squared Predict Error formodel3 is : 432.37\n",
      "Mean Squared Predict Error for model4 is : 407.62\n"
     ]
    }
   ],
   "source": [
    "print('Mean Squared Predict Error for model1 is : %.2f' %-score_cv_hybrid_model1.mean())\n",
    "print('Mean Squared Predict Error for model2 is : %.2f' %-score_cv_hybrid_model2.mean())\n",
    "print('Mean Squared Predict Error formodel3 is : %.2f' %-score_cv_hybrid_model3.mean())\n",
    "print('Mean Squared Predict Error for model4 is : %.2f' %-score_cv_hybrid_model4.mean())\n"
   ]
  },
  {
   "cell_type": "markdown",
   "id": "222de418",
   "metadata": {},
   "source": [
    "# box plots"
   ]
  },
  {
   "cell_type": "code",
   "execution_count": 12,
   "id": "3be606ac",
   "metadata": {},
   "outputs": [
    {
     "data": {
      "image/png": "[encoded data removed]",
      "text/plain": [
       "<Figure size 864x576 with 4 Axes>"
      ]
     },
     "metadata": {},
     "output_type": "display_data"
    }
   ],
   "source": [
    "fig, ax = plt.subplots(2,2, figsize=(12,8), sharey = True)\n",
    "\n",
    "ax[0,0].boxplot(-score_cv_hybrid_model1, meanline= True, showmeans= True)\n",
    "ax[0,0].set_title('model1')\n",
    "\n",
    "ax[0,1].boxplot(-score_cv_hybrid_model2,  meanline= True, showmeans= True)\n",
    "ax[0,1].set_title('model2')\n",
    "\n",
    "\n",
    "ax[1,0].boxplot(-score_cv_hybrid_model3, meanline= True, showmeans= True)\n",
    "ax[1,0].set_title('model3')\n",
    "\n",
    "ax[1,1].boxplot(-score_cv_hybrid_model4, meanline= True, showmeans= True)\n",
    "ax[1,1].set_title('model4')\n",
    "\n",
    "plt.show()"
   ]
  },
  {
   "cell_type": "markdown",
   "id": "2db2fe50",
   "metadata": {},
   "source": [
    "# zoom in Boxplots model 3 and model 4"
   ]
  },
  {
   "cell_type": "code",
   "execution_count": 13,
   "id": "7933a26b",
   "metadata": {},
   "outputs": [
    {
     "data": {
      "text/plain": [
       "Text(0.5, 1.0, 'model4')"
      ]
     },
     "execution_count": 13,
     "metadata": {},
     "output_type": "execute_result"
    },
    {
     "data": {
      "image/png": "[encoded data removed]",
      "text/plain": [
       "<Figure size 864x576 with 2 Axes>"
      ]
     },
     "metadata": {},
     "output_type": "display_data"
    }
   ],
   "source": [
    "fig, ax = plt.subplots(1,2, figsize=(12,8), sharey = True)\n",
    "ax[0].boxplot(-score_cv_hybrid_model3, meanline= True, showmeans= True)\n",
    "ax[0].set_title('model3')\n",
    "#ax[1,0].annotate('MSPE = 584.85', xy = (0.5, 2500))\n",
    "\n",
    "ax[1].boxplot(-score_cv_hybrid_model4, meanline= True, showmeans= True)\n",
    "ax[1].set_title('model4')\n",
    "#ax[1,1].annotate('MSPE = 1362.91', xy = (0.5, 2500))"
   ]
  },
  {
   "cell_type": "markdown",
   "id": "d99fec0f",
   "metadata": {},
   "source": [
    "# 3-d)According to Minimum MSPE and \n"
   ]
  },
  {
   "cell_type": "markdown",
   "id": "a38f0d57",
   "metadata": {},
   "source": [
    "# boxplot the 4th model is the best\n"
   ]
  },
  {
   "cell_type": "markdown",
   "id": "fc186221",
   "metadata": {},
   "source": [
    "## that its MSPE is 249.56 and this the smallest\n"
   ]
  },
  {
   "cell_type": "markdown",
   "id": "aad287eb",
   "metadata": {},
   "source": [
    "## MSPE in comparing to other models"
   ]
  },
  {
   "cell_type": "markdown",
   "id": "23328dff",
   "metadata": {},
   "source": [
    "# e)Report the seprate MSPEs from "
   ]
  },
  {
   "cell_type": "markdown",
   "id": "a61f28de",
   "metadata": {},
   "source": [
    "# each folds and MSPEs for full data"
   ]
  },
  {
   "cell_type": "code",
   "execution_count": 14,
   "id": "61d8846b",
   "metadata": {},
   "outputs": [
    {
     "name": "stdout",
     "output_type": "stream",
     "text": [
      "Squared Predict Error for model1 is:\n",
      " [ 338.94810032  378.2086315  1493.77378444  383.63699706  406.38800027\n",
      "  643.83565718 1521.45720828  296.21083051  160.8064446   232.49112921],\n",
      "\n",
      "\n",
      "Squared Predict Error for model2 is:\n",
      " [ 321.33182856  272.2522128  1052.64776963  252.42135325  364.05584024\n",
      "  440.26290899 1206.01328709  354.10405434  251.14083969  110.85223162]\n",
      "\n",
      "\n",
      "Squared Predict Error for model3 is:\n",
      " [ 263.73716241  341.39649014 1045.76413767  190.09811612  376.78718963\n",
      "  453.31090148 1057.57978407  238.5252552   180.58133459  175.95350961]\n",
      "\n",
      "\n",
      "Squared Predict Error for model4 is:\n",
      " [197.91512069 286.71196058 999.48957935 242.20370119 331.31510107\n",
      " 499.69237293 939.32094704 152.45742361 261.18336512 165.89271419]\n",
      "\n",
      "\n"
     ]
    }
   ],
   "source": [
    "print(f\"Squared Predict Error for model1 is:\\n {-score_cv_hybrid_model1},\\n\\n\")\n",
    "print(f\"Squared Predict Error for model2 is:\\n {-score_cv_hybrid_model2}\\n\\n\")\n",
    "print(f\"Squared Predict Error for model3 is:\\n {-score_cv_hybrid_model3}\\n\\n\")\n",
    "print(f\"Squared Predict Error for model4 is:\\n {-score_cv_hybrid_model4}\\n\\n\")"
   ]
  },
  {
   "cell_type": "code",
   "execution_count": 15,
   "id": "6bdb3e54",
   "metadata": {},
   "outputs": [
    {
     "data": {
      "text/html": [
       "<div>\n",
       "<style scoped>\n",
       "    .dataframe tbody tr th:only-of-type {\n",
       "        vertical-align: middle;\n",
       "    }\n",
       "\n",
       "    .dataframe tbody tr th {\n",
       "        vertical-align: top;\n",
       "    }\n",
       "\n",
       "    .dataframe thead th {\n",
       "        text-align: right;\n",
       "    }\n",
       "</style>\n",
       "<table border=\"1\" class=\"dataframe\">\n",
       "  <thead>\n",
       "    <tr style=\"text-align: right;\">\n",
       "      <th></th>\n",
       "      <th>model_1_MSPE</th>\n",
       "      <th>model_2_MSPE</th>\n",
       "      <th>model_3_MSPE</th>\n",
       "      <th>model_4_MSPE</th>\n",
       "    </tr>\n",
       "  </thead>\n",
       "  <tbody>\n",
       "    <tr>\n",
       "      <th>0</th>\n",
       "      <td>321.331829</td>\n",
       "      <td>321.331829</td>\n",
       "      <td>263.737162</td>\n",
       "      <td>197.915121</td>\n",
       "    </tr>\n",
       "    <tr>\n",
       "      <th>1</th>\n",
       "      <td>272.252213</td>\n",
       "      <td>272.252213</td>\n",
       "      <td>341.396490</td>\n",
       "      <td>286.711961</td>\n",
       "    </tr>\n",
       "    <tr>\n",
       "      <th>2</th>\n",
       "      <td>1052.647770</td>\n",
       "      <td>1052.647770</td>\n",
       "      <td>1045.764138</td>\n",
       "      <td>999.489579</td>\n",
       "    </tr>\n",
       "    <tr>\n",
       "      <th>3</th>\n",
       "      <td>252.421353</td>\n",
       "      <td>252.421353</td>\n",
       "      <td>190.098116</td>\n",
       "      <td>242.203701</td>\n",
       "    </tr>\n",
       "    <tr>\n",
       "      <th>4</th>\n",
       "      <td>364.055840</td>\n",
       "      <td>364.055840</td>\n",
       "      <td>376.787190</td>\n",
       "      <td>331.315101</td>\n",
       "    </tr>\n",
       "    <tr>\n",
       "      <th>5</th>\n",
       "      <td>440.262909</td>\n",
       "      <td>440.262909</td>\n",
       "      <td>453.310901</td>\n",
       "      <td>499.692373</td>\n",
       "    </tr>\n",
       "    <tr>\n",
       "      <th>6</th>\n",
       "      <td>1206.013287</td>\n",
       "      <td>1206.013287</td>\n",
       "      <td>1057.579784</td>\n",
       "      <td>939.320947</td>\n",
       "    </tr>\n",
       "    <tr>\n",
       "      <th>7</th>\n",
       "      <td>354.104054</td>\n",
       "      <td>354.104054</td>\n",
       "      <td>238.525255</td>\n",
       "      <td>152.457424</td>\n",
       "    </tr>\n",
       "    <tr>\n",
       "      <th>8</th>\n",
       "      <td>251.140840</td>\n",
       "      <td>251.140840</td>\n",
       "      <td>180.581335</td>\n",
       "      <td>261.183365</td>\n",
       "    </tr>\n",
       "    <tr>\n",
       "      <th>9</th>\n",
       "      <td>110.852232</td>\n",
       "      <td>110.852232</td>\n",
       "      <td>175.953510</td>\n",
       "      <td>165.892714</td>\n",
       "    </tr>\n",
       "  </tbody>\n",
       "</table>\n",
       "</div>"
      ],
      "text/plain": [
       "   model_1_MSPE  model_2_MSPE  model_3_MSPE  model_4_MSPE\n",
       "0    321.331829    321.331829    263.737162    197.915121\n",
       "1    272.252213    272.252213    341.396490    286.711961\n",
       "2   1052.647770   1052.647770   1045.764138    999.489579\n",
       "3    252.421353    252.421353    190.098116    242.203701\n",
       "4    364.055840    364.055840    376.787190    331.315101\n",
       "5    440.262909    440.262909    453.310901    499.692373\n",
       "6   1206.013287   1206.013287   1057.579784    939.320947\n",
       "7    354.104054    354.104054    238.525255    152.457424\n",
       "8    251.140840    251.140840    180.581335    261.183365\n",
       "9    110.852232    110.852232    175.953510    165.892714"
      ]
     },
     "execution_count": 15,
     "metadata": {},
     "output_type": "execute_result"
    }
   ],
   "source": [
    "result_df = pd.DataFrame({'model_1_MSPE':-score_cv_hybrid_model2, \n",
    "                          'model_2_MSPE': -score_cv_hybrid_model2,\n",
    "                         'model_3_MSPE': -score_cv_hybrid_model3,\n",
    "                          'model_4_MSPE': -score_cv_hybrid_model4 })\n",
    "result_df"
   ]
  }
 ],
 "metadata": {
  "kernelspec": {
   "display_name": "Python 3",
   "language": "python",
   "name": "python3"
  },
  "language_info": {
   "codemirror_mode": {
    "name": "ipython",
    "version": 3
   },
   "file_extension": ".py",
   "mimetype": "text/x-python",
   "name": "python",
   "nbconvert_exporter": "python",
   "pygments_lexer": "ipython3",
   "version": "3.9.6"
  }
 },
 "nbformat": 4,
 "nbformat_minor": 5
}
