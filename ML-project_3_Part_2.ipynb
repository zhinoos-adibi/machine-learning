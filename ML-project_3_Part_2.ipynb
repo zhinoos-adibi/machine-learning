{
 "cells": [
  {
   "cell_type": "markdown",
   "id": "faaec8fd",
   "metadata": {},
   "source": [
    "# Assignment 4 - Part 2"
   ]
  },
  {
   "cell_type": "code",
   "execution_count": 5,
   "id": "7963d1d4",
   "metadata": {},
   "outputs": [],
   "source": [
    "import pandas as pd\n",
    "import numpy as np\n",
    "import statsmodels.api as sm\n",
    "import matplotlib.pyplot as plt\n",
    "import seaborn as sns\n",
    "from sklearn.linear_model import LinearRegression  \n",
    "from sklearn.model_selection import train_test_split, cross_val_score, RepeatedKFold\n",
    "import sklearn\n",
    "import random\n",
    "sns.set()\n",
    "\n"
   ]
  },
  {
   "cell_type": "code",
   "execution_count": 6,
   "id": "ced2b15c",
   "metadata": {},
   "outputs": [
    {
     "data": {
      "text/html": [
       "<div>\n",
       "<style scoped>\n",
       "    .dataframe tbody tr th:only-of-type {\n",
       "        vertical-align: middle;\n",
       "    }\n",
       "\n",
       "    .dataframe tbody tr th {\n",
       "        vertical-align: top;\n",
       "    }\n",
       "\n",
       "    .dataframe thead th {\n",
       "        text-align: right;\n",
       "    }\n",
       "</style>\n",
       "<table border=\"1\" class=\"dataframe\">\n",
       "  <thead>\n",
       "    <tr style=\"text-align: right;\">\n",
       "      <th></th>\n",
       "      <th>Ozone</th>\n",
       "      <th>Solar.R</th>\n",
       "      <th>Wind</th>\n",
       "      <th>Temp</th>\n",
       "    </tr>\n",
       "  </thead>\n",
       "  <tbody>\n",
       "    <tr>\n",
       "      <th>0</th>\n",
       "      <td>41.0</td>\n",
       "      <td>190.0</td>\n",
       "      <td>7.4</td>\n",
       "      <td>67</td>\n",
       "    </tr>\n",
       "    <tr>\n",
       "      <th>1</th>\n",
       "      <td>36.0</td>\n",
       "      <td>118.0</td>\n",
       "      <td>8.0</td>\n",
       "      <td>72</td>\n",
       "    </tr>\n",
       "    <tr>\n",
       "      <th>2</th>\n",
       "      <td>12.0</td>\n",
       "      <td>149.0</td>\n",
       "      <td>12.6</td>\n",
       "      <td>74</td>\n",
       "    </tr>\n",
       "    <tr>\n",
       "      <th>3</th>\n",
       "      <td>18.0</td>\n",
       "      <td>313.0</td>\n",
       "      <td>11.5</td>\n",
       "      <td>62</td>\n",
       "    </tr>\n",
       "    <tr>\n",
       "      <th>4</th>\n",
       "      <td>NaN</td>\n",
       "      <td>NaN</td>\n",
       "      <td>14.3</td>\n",
       "      <td>56</td>\n",
       "    </tr>\n",
       "  </tbody>\n",
       "</table>\n",
       "</div>"
      ],
      "text/plain": [
       "   Ozone  Solar.R  Wind  Temp\n",
       "0   41.0    190.0   7.4    67\n",
       "1   36.0    118.0   8.0    72\n",
       "2   12.0    149.0  12.6    74\n",
       "3   18.0    313.0  11.5    62\n",
       "4    NaN      NaN  14.3    56"
      ]
     },
     "execution_count": 6,
     "metadata": {},
     "output_type": "execute_result"
    }
   ],
   "source": [
    "df = pd.read_csv('airquality.csv',usecols = ['Ozone','Solar.R','Wind','Temp'])\n",
    "df.head()"
   ]
  },
  {
   "cell_type": "markdown",
   "id": "006bd618",
   "metadata": {},
   "source": [
    "## Assignment 4 - Part 2 - excercise1-missing Data Report"
   ]
  },
  {
   "cell_type": "code",
   "execution_count": 7,
   "id": "8b941d1e",
   "metadata": {},
   "outputs": [
    {
     "name": "stdout",
     "output_type": "stream",
     "text": [
      "Ozone       True\n",
      "Solar.R     True\n",
      "Wind       False\n",
      "Temp       False\n",
      "dtype: bool\n",
      "Ozone      37\n",
      "Solar.R     7\n",
      "Wind        0\n",
      "Temp        0\n",
      "dtype: int64\n"
     ]
    }
   ],
   "source": [
    "df_airquality = df.copy()\n",
    "print(df_airquality.isna().any())\n",
    "print(df_airquality.isna().sum())   # Reporting the number of Null values"
   ]
  },
  {
   "cell_type": "markdown",
   "id": "1b08b2ae",
   "metadata": {},
   "source": [
    "## Assignment 4 - Part 2 - excercise1- dropping- missing Data "
   ]
  },
  {
   "cell_type": "code",
   "execution_count": 8,
   "id": "3ca2e394",
   "metadata": {},
   "outputs": [
    {
     "data": {
      "text/html": [
       "<div>\n",
       "<style scoped>\n",
       "    .dataframe tbody tr th:only-of-type {\n",
       "        vertical-align: middle;\n",
       "    }\n",
       "\n",
       "    .dataframe tbody tr th {\n",
       "        vertical-align: top;\n",
       "    }\n",
       "\n",
       "    .dataframe thead th {\n",
       "        text-align: right;\n",
       "    }\n",
       "</style>\n",
       "<table border=\"1\" class=\"dataframe\">\n",
       "  <thead>\n",
       "    <tr style=\"text-align: right;\">\n",
       "      <th></th>\n",
       "      <th>Ozone</th>\n",
       "      <th>Solar.R</th>\n",
       "      <th>Wind</th>\n",
       "      <th>Temp</th>\n",
       "    </tr>\n",
       "  </thead>\n",
       "  <tbody>\n",
       "    <tr>\n",
       "      <th>0</th>\n",
       "      <td>41.0</td>\n",
       "      <td>190.0</td>\n",
       "      <td>7.4</td>\n",
       "      <td>67</td>\n",
       "    </tr>\n",
       "    <tr>\n",
       "      <th>1</th>\n",
       "      <td>36.0</td>\n",
       "      <td>118.0</td>\n",
       "      <td>8.0</td>\n",
       "      <td>72</td>\n",
       "    </tr>\n",
       "    <tr>\n",
       "      <th>2</th>\n",
       "      <td>12.0</td>\n",
       "      <td>149.0</td>\n",
       "      <td>12.6</td>\n",
       "      <td>74</td>\n",
       "    </tr>\n",
       "    <tr>\n",
       "      <th>3</th>\n",
       "      <td>18.0</td>\n",
       "      <td>313.0</td>\n",
       "      <td>11.5</td>\n",
       "      <td>62</td>\n",
       "    </tr>\n",
       "    <tr>\n",
       "      <th>6</th>\n",
       "      <td>23.0</td>\n",
       "      <td>299.0</td>\n",
       "      <td>8.6</td>\n",
       "      <td>65</td>\n",
       "    </tr>\n",
       "  </tbody>\n",
       "</table>\n",
       "</div>"
      ],
      "text/plain": [
       "   Ozone  Solar.R  Wind  Temp\n",
       "0   41.0    190.0   7.4    67\n",
       "1   36.0    118.0   8.0    72\n",
       "2   12.0    149.0  12.6    74\n",
       "3   18.0    313.0  11.5    62\n",
       "6   23.0    299.0   8.6    65"
      ]
     },
     "execution_count": 8,
     "metadata": {},
     "output_type": "execute_result"
    }
   ],
   "source": [
    "df_airquality = df_airquality.dropna()\n",
    "\n",
    "#df_airquality.isna().any()\n",
    "df_airquality.head()\n"
   ]
  },
  {
   "cell_type": "markdown",
   "id": "b6a5ba76",
   "metadata": {},
   "source": [
    "## Assignment 4 - Part 2 - excercise2- \n",
    "\n",
    "## which observation are in validation set\n",
    "### New column for interaction formula"
   ]
  },
  {
   "cell_type": "code",
   "execution_count": 9,
   "id": "b33f4355",
   "metadata": {},
   "outputs": [
    {
     "data": {
      "text/html": [
       "<div>\n",
       "<style scoped>\n",
       "    .dataframe tbody tr th:only-of-type {\n",
       "        vertical-align: middle;\n",
       "    }\n",
       "\n",
       "    .dataframe tbody tr th {\n",
       "        vertical-align: top;\n",
       "    }\n",
       "\n",
       "    .dataframe thead th {\n",
       "        text-align: right;\n",
       "    }\n",
       "</style>\n",
       "<table border=\"1\" class=\"dataframe\">\n",
       "  <thead>\n",
       "    <tr style=\"text-align: right;\">\n",
       "      <th></th>\n",
       "      <th>Ozone</th>\n",
       "      <th>Solar.R</th>\n",
       "      <th>Wind</th>\n",
       "      <th>Temp</th>\n",
       "      <th>interaction_formula</th>\n",
       "    </tr>\n",
       "  </thead>\n",
       "  <tbody>\n",
       "    <tr>\n",
       "      <th>0</th>\n",
       "      <td>41.0</td>\n",
       "      <td>190.0</td>\n",
       "      <td>7.4</td>\n",
       "      <td>67</td>\n",
       "      <td>55539.96</td>\n",
       "    </tr>\n",
       "    <tr>\n",
       "      <th>1</th>\n",
       "      <td>36.0</td>\n",
       "      <td>118.0</td>\n",
       "      <td>8.0</td>\n",
       "      <td>72</td>\n",
       "      <td>29386.00</td>\n",
       "    </tr>\n",
       "    <tr>\n",
       "      <th>2</th>\n",
       "      <td>12.0</td>\n",
       "      <td>149.0</td>\n",
       "      <td>12.6</td>\n",
       "      <td>74</td>\n",
       "      <td>41907.16</td>\n",
       "    </tr>\n",
       "    <tr>\n",
       "      <th>3</th>\n",
       "      <td>18.0</td>\n",
       "      <td>313.0</td>\n",
       "      <td>11.5</td>\n",
       "      <td>62</td>\n",
       "      <td>126050.25</td>\n",
       "    </tr>\n",
       "    <tr>\n",
       "      <th>6</th>\n",
       "      <td>23.0</td>\n",
       "      <td>299.0</td>\n",
       "      <td>8.6</td>\n",
       "      <td>65</td>\n",
       "      <td>116637.96</td>\n",
       "    </tr>\n",
       "  </tbody>\n",
       "</table>\n",
       "</div>"
      ],
      "text/plain": [
       "   Ozone  Solar.R  Wind  Temp  interaction_formula\n",
       "0   41.0    190.0   7.4    67             55539.96\n",
       "1   36.0    118.0   8.0    72             29386.00\n",
       "2   12.0    149.0  12.6    74             41907.16\n",
       "3   18.0    313.0  11.5    62            126050.25\n",
       "6   23.0    299.0   8.6    65            116637.96"
      ]
     },
     "execution_count": 9,
     "metadata": {},
     "output_type": "execute_result"
    }
   ],
   "source": [
    "df_airquality['interaction_formula'] = df_airquality['Solar.R'] + \\\n",
    "        df_airquality['Wind'] + df_airquality['Temp'] + df_airquality['Solar.R']**2 + df_airquality['Wind']**2 +\\\n",
    "        df_airquality['Temp']**2 + df_airquality['Solar.R']* df_airquality['Wind'] + df_airquality['Temp']* df_airquality['Solar.R']+\\\n",
    "        df_airquality['Temp']* df_airquality['Wind']\n",
    "\n",
    "df_airquality.head()"
   ]
  },
  {
   "cell_type": "code",
   "execution_count": 10,
   "id": "bf3052ff",
   "metadata": {},
   "outputs": [
    {
     "name": "stdout",
     "output_type": "stream",
     "text": [
      "observations in validation set as features are\n",
      "\n",
      "      Solar.R  Wind  Temp  interaction_formula\n",
      "113     36.0  14.3    72             10943.19\n",
      "72     264.0  14.3    73             99671.89\n",
      "140     27.0  10.3    76              9837.29\n",
      "67     276.0   5.1    88            110459.51\n",
      "40     323.0  11.5    87            145267.75\n",
      "\n",
      "x_valid shape is : (28, 4)\n",
      "\n",
      "\n",
      "observations in validation set as respone is\n",
      " 113     9.0\n",
      "72     10.0\n",
      "140    13.0\n",
      "67     77.0\n",
      "40     39.0\n",
      "Name: Ozone, dtype: float64\n",
      "\n",
      "y_valid shape is : (28,)\n"
     ]
    }
   ],
   "source": [
    "x_train,x_valid,y_train,y_valid = train_test_split(df_airquality[['Solar.R','Wind','Temp','interaction_formula']],df_airquality['Ozone'],\n",
    "                                                  train_size = 0.75,random_state = 4099183)\n",
    "print(f\"observations in validation set as features are\\n\\n {x_valid.head()}\\n\") #{x_valid.shape}\\n\\n\")\n",
    "print('x_valid shape is :', x_valid.shape)\n",
    "print(f\"\\n\\nobservations in validation set as respone is\\n {y_valid.head()}\\n\")# {y_valid.shape} \")\n",
    "print('y_valid shape is :', y_valid.shape)"
   ]
  },
  {
   "cell_type": "code",
   "execution_count": null,
   "id": "4ca096f2",
   "metadata": {},
   "outputs": [],
   "source": []
  },
  {
   "cell_type": "code",
   "execution_count": 11,
   "id": "ed51bb54",
   "metadata": {},
   "outputs": [
    {
     "name": "stdout",
     "output_type": "stream",
     "text": [
      "113     9.0\n",
      "72     10.0\n",
      "140    13.0\n",
      "67     77.0\n",
      "40     39.0\n",
      "Name: Ozone, dtype: float64\n"
     ]
    }
   ],
   "source": [
    "# Validation set\n",
    "print(y_valid.head())"
   ]
  },
  {
   "cell_type": "markdown",
   "id": "fbac6044",
   "metadata": {},
   "source": [
    "## Assignment 4 - Part 2- exercise3 - fit Models and Report MSPE\n"
   ]
  },
  {
   "cell_type": "code",
   "execution_count": 12,
   "id": "155b5d32",
   "metadata": {},
   "outputs": [],
   "source": [
    "reg_Solar = LinearRegression().fit(x_train[['Solar.R']],y_train)  \n",
    "reg_Wind = LinearRegression().fit(x_train[['Wind']],y_train)\n",
    "reg_Temp = LinearRegression().fit(x_train[['Temp']],y_train)\n",
    "reg_interaction_formula = LinearRegression().fit(x_train[['interaction_formula']],y_train)\n",
    "reg_Solar_Wind_Temp = LinearRegression().fit(x_train[['Solar.R','Wind','Temp']] ,y_train )"
   ]
  },
  {
   "cell_type": "code",
   "execution_count": 13,
   "id": "2774c5cd",
   "metadata": {},
   "outputs": [],
   "source": [
    "Solar_predict= reg_Solar.predict(x_valid[['Solar.R']])\n",
    "\n",
    "Wind_predict= reg_Wind.predict(x_valid[['Wind']])\n",
    "\n",
    "Temp_predict= reg_Temp.predict(x_valid[['Temp']])\n",
    "\n",
    "interaction_formula_predict = reg_interaction_formula.predict(x_valid[['interaction_formula']])\n",
    "\n",
    "Solar_Wind_Temp_predict = reg_Solar_Wind_Temp.predict(x_valid[['Solar.R','Wind','Temp']])"
   ]
  },
  {
   "cell_type": "markdown",
   "id": "4d76f469",
   "metadata": {},
   "source": [
    "### Report MSPE"
   ]
  },
  {
   "cell_type": "code",
   "execution_count": 14,
   "id": "185bd109",
   "metadata": {},
   "outputs": [
    {
     "name": "stdout",
     "output_type": "stream",
     "text": [
      "Solar_predict_MSPE is : 1163.08\n",
      "wind_predict_MSPE is :890.21\n",
      "Temp_predict_MSPE is : 620.32\n",
      "Solar_Wind_Temp_MSPE is :473.13 \n",
      "interaction_formula_MSPE is :1211.15\n"
     ]
    }
   ],
   "source": [
    "Solar_predict_MSPE = round(sklearn.metrics.mean_squared_error(y_valid,Solar_predict),2)\n",
    "\n",
    "wind_predict_MSPE =round( sklearn.metrics.mean_squared_error(y_valid,Wind_predict),2)\n",
    "\n",
    "Temp_predict_MSPE = round(sklearn.metrics.mean_squared_error(y_valid,Temp_predict),2)\n",
    "\n",
    "Solar_Wind_Temp_MSPE  = round(sklearn.metrics.mean_squared_error(y_valid ,Solar_Wind_Temp_predict),2)\n",
    "\n",
    "interaction_formula_MSPE = round(sklearn.metrics.mean_squared_error(y_valid,interaction_formula_predict),2)\n",
    "\n",
    "print(f'Solar_predict_MSPE is : {Solar_predict_MSPE}')\n",
    "print(f'wind_predict_MSPE is :{wind_predict_MSPE}')\n",
    "print(f\"Temp_predict_MSPE is : {Temp_predict_MSPE}\")\n",
    "print(f\"Solar_Wind_Temp_MSPE is :{Solar_Wind_Temp_MSPE} \")\n",
    "print(f\"interaction_formula_MSPE is :{interaction_formula_MSPE}\" )\n"
   ]
  },
  {
   "cell_type": "markdown",
   "id": "9ad526f0",
   "metadata": {},
   "source": [
    "## **Answer 3-a**\n",
    "\n",
    "According to calculated MPSE, The winner is 3 variables regression (model 4) Solar_Wind_Temp with MPSE = 473"
   ]
  },
  {
   "cell_type": "markdown",
   "id": "1b25dad7",
   "metadata": {},
   "source": [
    "# Assignment 4 - Part 2 - excrsize 4 - Cross Validation\n",
    "**The reason of using *'neg_mean_squared_error'* in codes:**\n",
    "\n",
    "**All scorer objects follow the convention that higher return values are better than lower return values. Thus metrics which measure the distance between the model and the data, like *'metrics.mean_squared_error'*, are available as *'neg_mean_squared_error'* which return the negated value of the metric.**"
   ]
  },
  {
   "cell_type": "code",
   "execution_count": 15,
   "id": "41fbab7d",
   "metadata": {},
   "outputs": [
    {
     "name": "stdout",
     "output_type": "stream",
     "text": [
      "Mean Squared Predict Error for Solar is : 1250.05\n",
      "upper bound of confidence interval for solars is: 2792.71\n",
      "lower bound of confidence interval for solars is: -292.62\n",
      "\n",
      "Mean Squared Predict Error for Wind is : 1013.99\n",
      "upper bound of confidence interval for Wind is: 2556.65\n",
      "lower bound of confidence interval for Wind is: -528.68\n",
      "\n",
      "Mean Squared Predict Error for Temp is : 642.02\n",
      "upper bound of confidence interval for temp is: 2094.14\n",
      "lower bound of confidence interval for temp is: -810.1\n",
      "\n",
      "Mean Squared Predict Error for Interaction Formula is : 1326.81\n",
      "upper bound of confidence interval for score_cv_inter is: 2924.68\n",
      "lower bound of confidence interval for score_cv_inter is: -271.06\n",
      "\n",
      "Mean Squared Predict Error for Solar, Wind and Temp is : 593.04\n",
      "upper bound of confidence interval for score_cv_Solar_Wind_Temp is: 1631.3\n",
      "lower bound of confidence interval for score_cv_Solar_Wind_Temp is: -445.23\n"
     ]
    }
   ],
   "source": [
    "rcv = RepeatedKFold(n_splits= 10, n_repeats= 1, random_state= 4099183)\n",
    "\n",
    "score_cv_sloar = cross_val_score(reg_Solar, x_valid[['Solar.R']], y_valid, scoring= 'neg_mean_squared_error', cv= rcv)\n",
    "score_cv_wind = cross_val_score(reg_Wind, x_valid[['Wind']], y_valid, scoring= 'neg_mean_squared_error', cv= rcv)\n",
    "score_cv_temp = cross_val_score(reg_Temp, x_valid[['Temp']], y_valid, scoring= 'neg_mean_squared_error', cv= rcv)\n",
    "score_cv_inter = cross_val_score(reg_interaction_formula, x_valid[['interaction_formula']], y_valid, scoring= 'neg_mean_squared_error', cv= rcv)\n",
    "score_cv_Solar_Wind_Temp = cross_val_score(reg_Solar_Wind_Temp, x_valid[['Solar.R','Wind','Temp']], y_valid, scoring= 'neg_mean_squared_error', cv= rcv)\n",
    "\n",
    "print('Mean Squared Predict Error for Solar is : %.2f' %-score_cv_sloar.mean())\n",
    "print('upper bound of confidence interval for solars is:', round( -score_cv_sloar.mean()+ 1.96 * score_cv_sloar.std(),2))\n",
    "print('lower bound of confidence interval for solars is:', round( -score_cv_sloar.mean()- 1.96 * score_cv_sloar.std(),2))\n",
    "print()\n",
    "\n",
    "print('Mean Squared Predict Error for Wind is : %.2f' %-score_cv_wind.mean())\n",
    "print('upper bound of confidence interval for Wind is:', round( -score_cv_wind.mean()+ 1.96 * score_cv_sloar.std(),2))\n",
    "print('lower bound of confidence interval for Wind is:', round( -score_cv_wind.mean()- 1.96 * score_cv_sloar.std(),2))\n",
    "print()\n",
    "\n",
    "print('Mean Squared Predict Error for Temp is : %.2f' %-score_cv_temp.mean())\n",
    "print('upper bound of confidence interval for temp is:', round( -score_cv_temp.mean()+ 1.96 * score_cv_temp.std(),2))\n",
    "print('lower bound of confidence interval for temp is:', round( -score_cv_temp.mean()- 1.96 * score_cv_temp.std(),2))\n",
    "print()\n",
    "\n",
    "print('Mean Squared Predict Error for Interaction Formula is : %.2f' %-score_cv_inter.mean())\n",
    "print('upper bound of confidence interval for score_cv_inter is:', round( -score_cv_inter.mean()+ 1.96 * score_cv_inter.std(),2))\n",
    "print('lower bound of confidence interval for score_cv_inter is:', round( -score_cv_inter.mean()- 1.96 * score_cv_inter.std(),2))\n",
    "print()\n",
    "\n",
    "print('Mean Squared Predict Error for Solar, Wind and Temp is : %.2f' %-score_cv_Solar_Wind_Temp.mean())\n",
    "print('upper bound of confidence interval for score_cv_Solar_Wind_Temp is:', round( -score_cv_Solar_Wind_Temp.mean()+ 1.96 * score_cv_Solar_Wind_Temp.std(),2))\n",
    "print('lower bound of confidence interval for score_cv_Solar_Wind_Temp is:', round( -score_cv_Solar_Wind_Temp.mean()- 1.96 * score_cv_Solar_Wind_Temp.std(),2))\n",
    "\n"
   ]
  },
  {
   "cell_type": "markdown",
   "id": "a6a93bea",
   "metadata": {},
   "source": [
    "## Answer 4-a\n",
    "\n",
    "According to the Cross Validation output with MSE scoring, the best model is Solar, Wind and Temp variables (3 Variables) regression which is clearly good (mse = 464) and\n",
    "\n",
    "Lonely Solar (mse = 920) and Interaction(mse = 927) seems to be clearly bad Models.\n",
    "\n"
   ]
  },
  {
   "cell_type": "markdown",
   "id": "886558ac",
   "metadata": {},
   "source": [
    "## Assignment 4 - Part 2 - excrsize 4 - Cross Validation for 10 folds and 20 Repeats"
   ]
  },
  {
   "cell_type": "code",
   "execution_count": 16,
   "id": "b9961fee",
   "metadata": {},
   "outputs": [
    {
     "ename": "SyntaxError",
     "evalue": "invalid syntax (<ipython-input-16-c6a818cfbede>, line 3)",
     "output_type": "error",
     "traceback": [
      "\u001b[1;36m  File \u001b[1;32m\"<ipython-input-16-c6a818cfbede>\"\u001b[1;36m, line \u001b[1;32m3\u001b[0m\n\u001b[1;33m    score_cv_sloar = cross_val_score(reg_Solar, , y_valid, scoring= 'neg_mean_squared_error', cv= rcv)\u001b[0m\n\u001b[1;37m                                                ^\u001b[0m\n\u001b[1;31mSyntaxError\u001b[0m\u001b[1;31m:\u001b[0m invalid syntax\n"
     ]
    }
   ],
   "source": [
    "rcv = RepeatedKFold(n_splits= 10, n_repeats= 20, random_state= 4099183)\n",
    "\n",
    "score_cv_sloar = cross_val_score(reg_Solar, , y_valid, scoring= 'neg_mean_squared_error', cv= rcv)\n",
    "score_cv_wind = cross_val_score(reg_Wind, x_valid[['Wind']], y_valid, scoring= 'neg_mean_squared_error', cv= rcv)\n",
    "score_cv_temp = cross_val_score(reg_Temp, x_valid[['Temp']], y_valid, scoring= 'neg_mean_squared_error', cv= rcv)\n",
    "score_cv_inter = cross_val_score(reg_interaction_formula, x_valid[['interaction_formula']], y_valid, scoring= 'neg_mean_squared_error', cv= rcv)\n",
    "score_cv_Solar_Wind_Temp = cross_val_score(reg_Solar_Wind_Temp, x_valid[['Solar.R','Wind','Temp']], y_valid, scoring= 'neg_mean_squared_error', cv= rcv)\n",
    "\n",
    "print('Mean Squared Predict Error for Solar is : %.2f' %-score_cv_sloar.mean())\n",
    "print('Mean Squared Predict Error for Wind is : %.2f' %-score_cv_wind.mean())\n",
    "print('Mean Squared Predict Error for Temp is : %.2f' %-score_cv_temp.mean())\n",
    "print('Mean Squared Predict Error for Interaction Formula is : %.2f' %-score_cv_inter.mean())\n",
    "print('Mean Squared Predict Error for Solar, Wind and Temp is : %.2f' %-score_cv_Solar_Wind_Temp.mean())\n"
   ]
  },
  {
   "cell_type": "code",
   "execution_count": null,
   "id": "166a20db",
   "metadata": {},
   "outputs": [],
   "source": [
    "x_valid[['Solar.R','Wind','Temp']]"
   ]
  },
  {
   "cell_type": "markdown",
   "id": "b5dfe60c",
   "metadata": {},
   "source": [
    "## Box Plots"
   ]
  },
  {
   "cell_type": "code",
   "execution_count": null,
   "id": "37bee1a8",
   "metadata": {},
   "outputs": [],
   "source": [
    "fig, ax = plt.subplots(2,3, figsize=(12,8), sharey = True)\n",
    "\n",
    "ax[0,0].boxplot(-score_cv_sloar, sym='', meanline= True, showmeans= True)\n",
    "ax[0,0].set_title('1- Solar')\n",
    "ax[0,0].annotate('MSPE = 1292.68', xy = (0.5, 2500))\n",
    "\n",
    "ax[0,1].boxplot(-score_cv_wind, sym='', meanline= True, showmeans= True)\n",
    "ax[0,1].set_title('2- Wind')\n",
    "ax[0,1].annotate('MSPE = 1045.91', xy = (0.5, 2500))\n",
    "\n",
    "ax[0,2].boxplot(-score_cv_temp, sym='',meanline= True, showmeans= True)\n",
    "ax[0,2].set_title('3- Temp')\n",
    "ax[0,2].annotate('MSPE = 624.69', xy = (0.5, 2500))\n",
    "\n",
    "ax[1,0].boxplot(-score_cv_Solar_Wind_Temp, sym='',meanline= True, showmeans= True)\n",
    "ax[1,0].set_title('4-variables')\n",
    "ax[1,0].annotate('MSPE = 584.85', xy = (0.5, 2500))\n",
    "\n",
    "ax[1,1].boxplot(-score_cv_inter, sym='',meanline= True, showmeans= True)\n",
    "ax[1,1].set_title('5- Interaction')\n",
    "ax[1,1].annotate('MSPE = 1362.91', xy = (0.5, 2500))\n",
    "\n",
    "plt.show()"
   ]
  },
  {
   "cell_type": "code",
   "execution_count": null,
   "id": "6204a672",
   "metadata": {},
   "outputs": [],
   "source": [
    "plt.boxplot(-score_cv_sloar, sym='', meanline= True, showmeans= True)\n",
    "plt.show()"
   ]
  },
  {
   "cell_type": "code",
   "execution_count": null,
   "id": "62f92e45",
   "metadata": {},
   "outputs": [],
   "source": [
    "plt.boxplot(-score_cv_sloar, sym='')\n",
    "plt.show()"
   ]
  },
  {
   "cell_type": "markdown",
   "id": "a77d3887",
   "metadata": {},
   "source": [
    "### Zoom in to see two plots better"
   ]
  },
  {
   "cell_type": "code",
   "execution_count": null,
   "id": "fc428df8",
   "metadata": {},
   "outputs": [],
   "source": [
    "fig1, ax1 = plt.subplots(1,2, figsize=(12,8), sharey = True)\n",
    "\n",
    "\n",
    "ax1[0].boxplot(-score_cv_temp, sym='')\n",
    "ax1[0].set_title('3- Temp')\n",
    "ax1[0].annotate('MSPE = 599.57', xy = (0.5, 2500))\n",
    "\n",
    "ax1[1].boxplot(-score_cv_Solar_Wind_Temp, sym='')\n",
    "ax1[1].set_title('4-variables')\n",
    "ax1[1].annotate('MSPE = 589.08', xy = (0.5, 2500))\n",
    "\n",
    "\n",
    "\n",
    "plt.show()"
   ]
  },
  {
   "cell_type": "markdown",
   "id": "4abd506e",
   "metadata": {},
   "source": [
    "## Answer 5-a\n",
    "\n"
   ]
  },
  {
   "cell_type": "markdown",
   "id": "b89ec646",
   "metadata": {},
   "source": [
    "**boxplot(1-solar) : I see in the chart that the 95% of confidence interval is between almost 0 to 3000 and median is about 1000. The box shows the lower quartile about 500 and upper quartile about 2000. So the variation of MSPE is too much and it isn't good model for prediction**\n",
    "    \n",
    "**boxplot(2-wind):I see in the chart that the 95% of confidence interval is between almost 250 to 2000 and median is about 1000. The box shows the lower quartile about 500 and upper quartile about 1250. So the variation of MSPE is too much and it isn't good model for prediction**\n",
    "    \n",
    "**boxplot(3-Temp):I see in the chart that the 95% of confidence interval is between almost 0 to 900 and median is under 500. The box shows the lower quartile about 300 and upper quartile about 700. So the variation of MSPE is much less than the previous models and it seems to be a better model.**\n",
    "    \n",
    "**boxplot(4- 3variables):I see in the chart that the 95% of confidence interval is between almost 100 to 1500 and median is under 500. The box shows the lower quartile about 300 and upper quartile about 800. So the variation of MSPE is much less than the previous models(1 and 2) and it seems to be a better model.**\n",
    "    \n",
    "**boxplot(5-Interaction):I see in the chart that the 95% of confidence interval is between almost 250 to 3000 and median is about 1200. The box shows the lower quartile about 500 and upper quartile about 2000. So the variation of MSPE is too much and it isn't good model for prediction**"
   ]
  },
  {
   "cell_type": "markdown",
   "id": "67d11eb7",
   "metadata": {},
   "source": [
    "## 5-b Box Plots of RMSPE"
   ]
  },
  {
   "cell_type": "code",
   "execution_count": null,
   "id": "a2779209",
   "metadata": {},
   "outputs": [],
   "source": [
    "RMSPE_Solar = -score_cv_sloar/(-score_cv_sloar).min()\n",
    "RMSPE_Wind = -score_cv_wind/(-score_cv_wind).min()\n",
    "RMSPE_Temp = -score_cv_temp/(-score_cv_temp).min()\n",
    "RMSPE_Solar_Wind_Temp = -score_cv_Solar_Wind_Temp/(-score_cv_Solar_Wind_Temp).min()\n",
    "RMSPE_inter = -score_cv_inter/(-score_cv_inter).min()\n"
   ]
  },
  {
   "cell_type": "code",
   "execution_count": null,
   "id": "68da9baa",
   "metadata": {},
   "outputs": [],
   "source": [
    "fig2, ax2 = plt.subplots(2,3, sharey= True, figsize=(12,8))\n",
    "\n",
    "ax2[0,0].boxplot(RMSPE_Solar, sym= '')\n",
    "\n",
    "ax2[0,1].boxplot(RMSPE_Wind, sym= '')\n",
    "\n",
    "ax2[0,2].boxplot(RMSPE_Temp, sym= '')\n",
    "\n",
    "ax2[1,0].boxplot(RMSPE_Solar_Wind_Temp, sym= '')\n",
    "\n",
    "ax2[1,1].boxplot(RMSPE_inter, sym= '')\n",
    "\n",
    "ax2[0,0].set_title('1- Solar')\n",
    "ax2[0,1].set_title('2- Wind')\n",
    "ax2[0,2].set_title('3- Temp')\n",
    "ax2[1,0].set_title('4-variables')\n",
    "ax2[1,1].set_title('5- Interaction')\n",
    "plt.show()"
   ]
  },
  {
   "cell_type": "code",
   "execution_count": null,
   "id": "b9625e99",
   "metadata": {},
   "outputs": [],
   "source": [
    "fig3, ax3 = plt.subplots(1,3, sharey= True, figsize=(12,8))\n",
    "\n",
    "\n",
    "ax3[0].boxplot(RMSPE_Wind, sym= '')\n",
    "\n",
    "ax3[1].boxplot(RMSPE_Temp, sym= '')\n",
    "\n",
    "ax3[2].boxplot(RMSPE_Solar_Wind_Temp, sym= '')\n",
    "\n",
    "ax3[0].set_title('2- Wind')\n",
    "ax3[1].set_title('3- Temp')\n",
    "ax3[2].set_title('4-variables')\n",
    "\n",
    "plt.show()"
   ]
  },
  {
   "cell_type": "markdown",
   "id": "dc289483",
   "metadata": {},
   "source": [
    "## Answer 5-b\n",
    "\n",
    "I see in the charts that the relative MSPE is between 1 and maximum almost 45 in Solar regression.\n",
    "\n",
    "As I see in the charts, the Temprature and 3 variables are better models as it was seen in MSPE too.\n",
    "\n",
    "One other model that looks good in RMSPE charts belong to Wind regression."
   ]
  },
  {
   "cell_type": "markdown",
   "id": "fd26670a",
   "metadata": {},
   "source": [
    "## Answer 6\n",
    "\n",
    "**If I have to select one model, from different model analysis, the 3 variables (Solar, Wind, and temp) is recommanded.**"
   ]
  }
 ],
 "metadata": {
  "kernelspec": {
   "display_name": "Python 3",
   "language": "python",
   "name": "python3"
  },
  "language_info": {
   "codemirror_mode": {
    "name": "ipython",
    "version": 3
   },
   "file_extension": ".py",
   "mimetype": "text/x-python",
   "name": "python",
   "nbconvert_exporter": "python",
   "pygments_lexer": "ipython3",
   "version": "3.9.6"
  }
 },
 "nbformat": 4,
 "nbformat_minor": 5
}
