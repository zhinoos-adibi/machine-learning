{
 "cells": [
  {
   "cell_type": "code",
   "execution_count": 1,
   "id": "101ca293",
   "metadata": {},
   "outputs": [],
   "source": [
    "import numpy as np\n",
    "import pandas as pd\n",
    "from sklearn import linear_model\n",
    "from sklearn.linear_model import Ridge, RidgeCV, Lasso, LassoCV\n",
    "from sklearn.preprocessing import StandardScaler\n",
    "from sklearn.model_selection import train_test_split, RepeatedKFold, cross_val_score, GridSearchCV\n",
    "#import statsmodels.formula.api as smf\n",
    "import statsmodels.api as sm\n",
    "from sklearn.metrics import mean_squared_error\n",
    "import matplotlib.pyplot as plt\n",
    "import seaborn as sns\n",
    "from sklearn.decomposition import PCA\n",
    "from sklearn.cross_decomposition import PLSRegression\n",
    "from sklearn.pipeline import Pipeline\n"
   ]
  },
  {
   "cell_type": "code",
   "execution_count": 2,
   "id": "c3e0d110",
   "metadata": {},
   "outputs": [
    {
     "name": "stdout",
     "output_type": "stream",
     "text": [
      "(2182, 7)\n",
      "         per  km  zone  bonus  make  insured  claims\n",
      "0  11.649460   2     3      2     6   669.34      42\n",
      "1   9.615939   3     3      1     2    55.70       6\n",
      "2   0.000000   3     7      3     4     1.06       0\n",
      "3   8.028129   2     7      7     5    81.78       3\n",
      "4  11.222640   1     4      5     5   200.68      14\n"
     ]
    },
    {
     "data": {
      "text/plain": [
       "2182"
      ]
     },
     "execution_count": 2,
     "metadata": {},
     "output_type": "execute_result"
    }
   ],
   "source": [
    "df1 = pd.read_csv('Insurance.csv')\n",
    "print(df1.shape)\n",
    "print(df1.head())\n",
    "df1['claims'].count()\n"
   ]
  },
  {
   "cell_type": "code",
   "execution_count": 3,
   "id": "2cbd1887",
   "metadata": {},
   "outputs": [
    {
     "data": {
      "text/html": [
       "<div>\n",
       "<style scoped>\n",
       "    .dataframe tbody tr th:only-of-type {\n",
       "        vertical-align: middle;\n",
       "    }\n",
       "\n",
       "    .dataframe tbody tr th {\n",
       "        vertical-align: top;\n",
       "    }\n",
       "\n",
       "    .dataframe thead th {\n",
       "        text-align: right;\n",
       "    }\n",
       "</style>\n",
       "<table border=\"1\" class=\"dataframe\">\n",
       "  <thead>\n",
       "    <tr style=\"text-align: right;\">\n",
       "      <th></th>\n",
       "      <th>per</th>\n",
       "      <th>km</th>\n",
       "      <th>zone</th>\n",
       "      <th>bonus</th>\n",
       "      <th>make</th>\n",
       "      <th>insured</th>\n",
       "      <th>claims</th>\n",
       "    </tr>\n",
       "  </thead>\n",
       "  <tbody>\n",
       "    <tr>\n",
       "      <th>0</th>\n",
       "      <td>11.649460</td>\n",
       "      <td>2</td>\n",
       "      <td>3</td>\n",
       "      <td>2</td>\n",
       "      <td>6</td>\n",
       "      <td>669.34</td>\n",
       "      <td>42</td>\n",
       "    </tr>\n",
       "    <tr>\n",
       "      <th>1</th>\n",
       "      <td>9.615939</td>\n",
       "      <td>3</td>\n",
       "      <td>3</td>\n",
       "      <td>1</td>\n",
       "      <td>2</td>\n",
       "      <td>55.70</td>\n",
       "      <td>6</td>\n",
       "    </tr>\n",
       "    <tr>\n",
       "      <th>2</th>\n",
       "      <td>0.000000</td>\n",
       "      <td>3</td>\n",
       "      <td>7</td>\n",
       "      <td>3</td>\n",
       "      <td>4</td>\n",
       "      <td>1.06</td>\n",
       "      <td>0</td>\n",
       "    </tr>\n",
       "    <tr>\n",
       "      <th>3</th>\n",
       "      <td>8.028129</td>\n",
       "      <td>2</td>\n",
       "      <td>7</td>\n",
       "      <td>7</td>\n",
       "      <td>5</td>\n",
       "      <td>81.78</td>\n",
       "      <td>3</td>\n",
       "    </tr>\n",
       "    <tr>\n",
       "      <th>4</th>\n",
       "      <td>11.222640</td>\n",
       "      <td>1</td>\n",
       "      <td>4</td>\n",
       "      <td>5</td>\n",
       "      <td>5</td>\n",
       "      <td>200.68</td>\n",
       "      <td>14</td>\n",
       "    </tr>\n",
       "  </tbody>\n",
       "</table>\n",
       "</div>"
      ],
      "text/plain": [
       "         per  km  zone  bonus  make  insured  claims\n",
       "0  11.649460   2     3      2     6   669.34      42\n",
       "1   9.615939   3     3      1     2    55.70       6\n",
       "2   0.000000   3     7      3     4     1.06       0\n",
       "3   8.028129   2     7      7     5    81.78       3\n",
       "4  11.222640   1     4      5     5   200.68      14"
      ]
     },
     "execution_count": 3,
     "metadata": {},
     "output_type": "execute_result"
    }
   ],
   "source": [
    "df1.head()\n"
   ]
  },
  {
   "cell_type": "code",
   "execution_count": 4,
   "id": "4fe0ac2c",
   "metadata": {},
   "outputs": [
    {
     "name": "stdout",
     "output_type": "stream",
     "text": [
      "(1797, 7)\n",
      "         per  km  zone  bonus  make  insured  claims\n",
      "0  11.649460   2     3      2     6   669.34      42\n",
      "1   9.615939   3     3      1     2    55.70       6\n",
      "3   8.028129   2     7      7     5    81.78       3\n",
      "4  11.222640   1     4      5     5   200.68      14\n",
      "6  11.290310   3     5      2     6    64.73       6\n"
     ]
    }
   ],
   "source": [
    "df2 = df1.copy()\n",
    "df2 = df2[df2['claims']>0]\n",
    "print(df2.shape)\n",
    "\n",
    "print(df2.head())\n"
   ]
  },
  {
   "cell_type": "code",
   "execution_count": 5,
   "id": "c4749ceb",
   "metadata": {},
   "outputs": [],
   "source": [
    "# public1 = public1['parks'].astype('category')"
   ]
  },
  {
   "cell_type": "code",
   "execution_count": 6,
   "id": "8fd94d07",
   "metadata": {},
   "outputs": [],
   "source": [
    "\n",
    "df2[['zone','make']]= df2[['zone','make']].astype('category')"
   ]
  },
  {
   "cell_type": "code",
   "execution_count": 7,
   "id": "256b3df1",
   "metadata": {},
   "outputs": [
    {
     "data": {
      "text/html": [
       "<div>\n",
       "<style scoped>\n",
       "    .dataframe tbody tr th:only-of-type {\n",
       "        vertical-align: middle;\n",
       "    }\n",
       "\n",
       "    .dataframe tbody tr th {\n",
       "        vertical-align: top;\n",
       "    }\n",
       "\n",
       "    .dataframe thead th {\n",
       "        text-align: right;\n",
       "    }\n",
       "</style>\n",
       "<table border=\"1\" class=\"dataframe\">\n",
       "  <thead>\n",
       "    <tr style=\"text-align: right;\">\n",
       "      <th></th>\n",
       "      <th>per</th>\n",
       "      <th>km</th>\n",
       "      <th>zone</th>\n",
       "      <th>bonus</th>\n",
       "      <th>make</th>\n",
       "      <th>insured</th>\n",
       "      <th>claims</th>\n",
       "    </tr>\n",
       "  </thead>\n",
       "  <tbody>\n",
       "    <tr>\n",
       "      <th>0</th>\n",
       "      <td>11.649460</td>\n",
       "      <td>2</td>\n",
       "      <td>3</td>\n",
       "      <td>2</td>\n",
       "      <td>6</td>\n",
       "      <td>669.34</td>\n",
       "      <td>42</td>\n",
       "    </tr>\n",
       "    <tr>\n",
       "      <th>1</th>\n",
       "      <td>9.615939</td>\n",
       "      <td>3</td>\n",
       "      <td>3</td>\n",
       "      <td>1</td>\n",
       "      <td>2</td>\n",
       "      <td>55.70</td>\n",
       "      <td>6</td>\n",
       "    </tr>\n",
       "    <tr>\n",
       "      <th>3</th>\n",
       "      <td>8.028129</td>\n",
       "      <td>2</td>\n",
       "      <td>7</td>\n",
       "      <td>7</td>\n",
       "      <td>5</td>\n",
       "      <td>81.78</td>\n",
       "      <td>3</td>\n",
       "    </tr>\n",
       "    <tr>\n",
       "      <th>4</th>\n",
       "      <td>11.222640</td>\n",
       "      <td>1</td>\n",
       "      <td>4</td>\n",
       "      <td>5</td>\n",
       "      <td>5</td>\n",
       "      <td>200.68</td>\n",
       "      <td>14</td>\n",
       "    </tr>\n",
       "    <tr>\n",
       "      <th>6</th>\n",
       "      <td>11.290310</td>\n",
       "      <td>3</td>\n",
       "      <td>5</td>\n",
       "      <td>2</td>\n",
       "      <td>6</td>\n",
       "      <td>64.73</td>\n",
       "      <td>6</td>\n",
       "    </tr>\n",
       "  </tbody>\n",
       "</table>\n",
       "</div>"
      ],
      "text/plain": [
       "         per  km zone  bonus make  insured  claims\n",
       "0  11.649460   2    3      2    6   669.34      42\n",
       "1   9.615939   3    3      1    2    55.70       6\n",
       "3   8.028129   2    7      7    5    81.78       3\n",
       "4  11.222640   1    4      5    5   200.68      14\n",
       "6  11.290310   3    5      2    6    64.73       6"
      ]
     },
     "execution_count": 7,
     "metadata": {},
     "output_type": "execute_result"
    }
   ],
   "source": [
    "df2.head()\n"
   ]
  },
  {
   "cell_type": "code",
   "execution_count": 8,
   "id": "3ec85fd0",
   "metadata": {},
   "outputs": [
    {
     "data": {
      "text/html": [
       "<div>\n",
       "<style scoped>\n",
       "    .dataframe tbody tr th:only-of-type {\n",
       "        vertical-align: middle;\n",
       "    }\n",
       "\n",
       "    .dataframe tbody tr th {\n",
       "        vertical-align: top;\n",
       "    }\n",
       "\n",
       "    .dataframe thead th {\n",
       "        text-align: right;\n",
       "    }\n",
       "</style>\n",
       "<table border=\"1\" class=\"dataframe\">\n",
       "  <thead>\n",
       "    <tr style=\"text-align: right;\">\n",
       "      <th></th>\n",
       "      <th>per</th>\n",
       "      <th>km</th>\n",
       "      <th>bonus</th>\n",
       "      <th>insured</th>\n",
       "      <th>claims</th>\n",
       "      <th>zone_2</th>\n",
       "      <th>zone_3</th>\n",
       "      <th>zone_4</th>\n",
       "      <th>zone_5</th>\n",
       "      <th>zone_6</th>\n",
       "      <th>zone_7</th>\n",
       "      <th>make_2</th>\n",
       "      <th>make_3</th>\n",
       "      <th>make_4</th>\n",
       "      <th>make_5</th>\n",
       "      <th>make_6</th>\n",
       "      <th>make_7</th>\n",
       "      <th>make_8</th>\n",
       "      <th>make_9</th>\n",
       "    </tr>\n",
       "  </thead>\n",
       "  <tbody>\n",
       "    <tr>\n",
       "      <th>0</th>\n",
       "      <td>11.649460</td>\n",
       "      <td>2</td>\n",
       "      <td>2</td>\n",
       "      <td>669.34</td>\n",
       "      <td>42</td>\n",
       "      <td>0</td>\n",
       "      <td>1</td>\n",
       "      <td>0</td>\n",
       "      <td>0</td>\n",
       "      <td>0</td>\n",
       "      <td>0</td>\n",
       "      <td>0</td>\n",
       "      <td>0</td>\n",
       "      <td>0</td>\n",
       "      <td>0</td>\n",
       "      <td>1</td>\n",
       "      <td>0</td>\n",
       "      <td>0</td>\n",
       "      <td>0</td>\n",
       "    </tr>\n",
       "    <tr>\n",
       "      <th>1</th>\n",
       "      <td>9.615939</td>\n",
       "      <td>3</td>\n",
       "      <td>1</td>\n",
       "      <td>55.70</td>\n",
       "      <td>6</td>\n",
       "      <td>0</td>\n",
       "      <td>1</td>\n",
       "      <td>0</td>\n",
       "      <td>0</td>\n",
       "      <td>0</td>\n",
       "      <td>0</td>\n",
       "      <td>1</td>\n",
       "      <td>0</td>\n",
       "      <td>0</td>\n",
       "      <td>0</td>\n",
       "      <td>0</td>\n",
       "      <td>0</td>\n",
       "      <td>0</td>\n",
       "      <td>0</td>\n",
       "    </tr>\n",
       "    <tr>\n",
       "      <th>3</th>\n",
       "      <td>8.028129</td>\n",
       "      <td>2</td>\n",
       "      <td>7</td>\n",
       "      <td>81.78</td>\n",
       "      <td>3</td>\n",
       "      <td>0</td>\n",
       "      <td>0</td>\n",
       "      <td>0</td>\n",
       "      <td>0</td>\n",
       "      <td>0</td>\n",
       "      <td>1</td>\n",
       "      <td>0</td>\n",
       "      <td>0</td>\n",
       "      <td>0</td>\n",
       "      <td>1</td>\n",
       "      <td>0</td>\n",
       "      <td>0</td>\n",
       "      <td>0</td>\n",
       "      <td>0</td>\n",
       "    </tr>\n",
       "  </tbody>\n",
       "</table>\n",
       "</div>"
      ],
      "text/plain": [
       "         per  km  bonus  insured  claims  zone_2  zone_3  zone_4  zone_5  \\\n",
       "0  11.649460   2      2   669.34      42       0       1       0       0   \n",
       "1   9.615939   3      1    55.70       6       0       1       0       0   \n",
       "3   8.028129   2      7    81.78       3       0       0       0       0   \n",
       "\n",
       "   zone_6  zone_7  make_2  make_3  make_4  make_5  make_6  make_7  make_8  \\\n",
       "0       0       0       0       0       0       0       1       0       0   \n",
       "1       0       0       1       0       0       0       0       0       0   \n",
       "3       0       1       0       0       0       1       0       0       0   \n",
       "\n",
       "   make_9  \n",
       "0       0  \n",
       "1       0  \n",
       "3       0  "
      ]
     },
     "execution_count": 8,
     "metadata": {},
     "output_type": "execute_result"
    }
   ],
   "source": [
    "df3 = pd.get_dummies(df2,drop_first = True)\n",
    "df3.head(3)\n"
   ]
  },
  {
   "cell_type": "code",
   "execution_count": null,
   "id": "a0bfd623",
   "metadata": {},
   "outputs": [],
   "source": []
  },
  {
   "cell_type": "markdown",
   "id": "2e25f9b3",
   "metadata": {},
   "source": [
    "### 1-a)Report thr Dimension of new dataframe"
   ]
  },
  {
   "cell_type": "code",
   "execution_count": 9,
   "id": "1ab75a1c",
   "metadata": {},
   "outputs": [
    {
     "name": "stdout",
     "output_type": "stream",
     "text": [
      " Dimension of new dataframe : (1797, 19)\n"
     ]
    }
   ],
   "source": [
    " print (' Dimension of new dataframe :',df3.shape)\n",
    "    "
   ]
  },
  {
   "cell_type": "markdown",
   "id": "16fc98eb",
   "metadata": {},
   "source": [
    "### PCA Analyse"
   ]
  },
  {
   "cell_type": "code",
   "execution_count": 10,
   "id": "f9099858",
   "metadata": {},
   "outputs": [
    {
     "name": "stdout",
     "output_type": "stream",
     "text": [
      "[2.321584387525639, 2.2803056090606595, 2.2659247385022825, 2.274491394758371, 2.2759019180289846, 2.2627929093602006, 2.2566076003490063, 2.251654634354075, 2.253103869239156, 2.249621387513384, 2.187665983640311, 2.1797963692174704, 2.1815586186813753, 2.1870954826189912, 1.5164140412753322, 1.4871465953449043, 1.3743767457864877, 1.3582046481578618, 1.3582046481578618]\n"
     ]
    },
    {
     "data": {
      "image/png": "[encoded data removed]",
      "text/plain": [
       "<Figure size 432x288 with 1 Axes>"
      ]
     },
     "metadata": {
      "needs_background": "light"
     },
     "output_type": "display_data"
    }
   ],
   "source": [
    "X = df3.drop('per',axis = 1)\n",
    "y = df3[['per']]\n",
    "#X.head(2)\n",
    "\n",
    "X_train, X_test , y_train, y_test = train_test_split(X, y, test_size=0.3, random_state=1)\n",
    "\n",
    "std_scale = StandardScaler().fit(X_train)\n",
    "X_train_std = std_scale.transform(X_train)\n",
    "X_test_std = std_scale.transform(X_test)\n",
    "\n",
    "pca = PCA()\n",
    "PCs_train = pca.fit_transform(X_train_std)\n",
    "PCs_test = pca.transform(X_test_std)\n",
    "\n",
    "LModel = linear_model.LinearRegression()\n",
    "MSPEs = []\n",
    "\n",
    "# Calculate MSPE: adding one component at a time\n",
    "for i in np.arange(1, 20):\n",
    "  LModel.fit(PCs_train[:,:i], y_train)\n",
    "  MSPEs.append(mean_squared_error(y_test, LModel.predict(PCs_test[:,:i])))\n",
    "\n",
    "print(MSPEs)\n",
    "\n",
    "# Plot MSPEs results    \n",
    "plt.plot(MSPEs)\n",
    "plt.xlabel('Number of Principal Components')\n",
    "plt.ylabel('MSPE')\n",
    "plt.xticks(range(1,20))\n",
    "plt.show()"
   ]
  },
  {
   "cell_type": "markdown",
   "id": "3ae8c4f3",
   "metadata": {},
   "source": [
    "### 2 (a)\n",
    "\n",
    "**According to uppercase calculaton  components which get choosen are 14 Components which have the most variance.**"
   ]
  },
  {
   "cell_type": "markdown",
   "id": "a86a277d",
   "metadata": {},
   "source": [
    "### 2 (b) : Scree Plot and Cumulative Variance"
   ]
  },
  {
   "cell_type": "code",
   "execution_count": 11,
   "id": "4e6cf369",
   "metadata": {},
   "outputs": [
    {
     "data": {
      "image/png": "[encoded data removed]",
      "text/plain": [
       "<Figure size 432x288 with 1 Axes>"
      ]
     },
     "metadata": {
      "needs_background": "light"
     },
     "output_type": "display_data"
    }
   ],
   "source": [
    "plt.plot(pca.explained_variance_, marker = 'o', linestyle= 'none')\n",
    "plt.xticks(range(1,20))\n",
    "plt.hlines(pca.explained_variance_.mean(), xmin = 0, xmax = 17, color = 'red')\n",
    "plt.xlabel('Number of PCs')\n",
    "plt.ylabel('Variance')\n",
    "plt.title('Variance per each PC')\n",
    "\n",
    "plt.show()"
   ]
  },
  {
   "cell_type": "code",
   "execution_count": 12,
   "id": "7e95ca7a",
   "metadata": {},
   "outputs": [
    {
     "data": {
      "text/plain": [
       "array([ 2.37853716,  3.64713827,  4.88133052,  6.09397199,  7.3000951 ,\n",
       "        8.46497353,  9.61251636, 10.74790187, 11.87255275, 12.98547818,\n",
       "       14.08817936, 15.14008316, 16.13390987, 17.07004611, 17.63048017,\n",
       "       17.82818626, 17.96832823, 18.01433121])"
      ]
     },
     "execution_count": 12,
     "metadata": {},
     "output_type": "execute_result"
    }
   ],
   "source": [
    "# Calculation of Cumulative Variance \n",
    "cum_var = np.cumsum(pca.explained_variance_)\n",
    "cum_var"
   ]
  },
  {
   "cell_type": "code",
   "execution_count": 13,
   "id": "f9639738",
   "metadata": {},
   "outputs": [
    {
     "data": {
      "text/plain": [
       "array([0.13203583, 0.2024576 , 0.27096929, 0.33828466, 0.4052382 ,\n",
       "       0.46990218, 0.53360384, 0.59663064, 0.65906153, 0.72084154,\n",
       "       0.78205398, 0.84044659, 0.89561526, 0.94758145, 0.97869191,\n",
       "       0.98966684, 0.99744631, 1.        ])"
      ]
     },
     "execution_count": 13,
     "metadata": {},
     "output_type": "execute_result"
    }
   ],
   "source": [
    "prob_var = cum_var / cum_var[-1]\n",
    "prob_var"
   ]
  },
  {
   "cell_type": "code",
   "execution_count": 14,
   "id": "d02118ad",
   "metadata": {},
   "outputs": [
    {
     "data": {
      "image/png": "[encoded data removed]",
      "text/plain": [
       "<Figure size 432x288 with 1 Axes>"
      ]
     },
     "metadata": {
      "needs_background": "light"
     },
     "output_type": "display_data"
    }
   ],
   "source": [
    "plt.plot(prob_var * 100, marker = 'o', linestyle= 'none')\n",
    "plt.xticks(range(1,20))\n",
    "plt.title('Cumulative Variance')\n",
    "plt.xlabel('Number of PCs')\n",
    "plt.ylabel('Cumulative Variance Percnt  (%)')\n",
    "plt.show()"
   ]
  },
  {
   "cell_type": "markdown",
   "id": "1384bb91",
   "metadata": {},
   "source": [
    "### 2 (c) : According to the charts, 14 components report the most varaince and information."
   ]
  }
 ],
 "metadata": {
  "kernelspec": {
   "display_name": "Python 3",
   "language": "python",
   "name": "python3"
  },
  "language_info": {
   "codemirror_mode": {
    "name": "ipython",
    "version": 3
   },
   "file_extension": ".py",
   "mimetype": "text/x-python",
   "name": "python",
   "nbconvert_exporter": "python",
   "pygments_lexer": "ipython3",
   "version": "3.9.6"
  }
 },
 "nbformat": 4,
 "nbformat_minor": 5
}
