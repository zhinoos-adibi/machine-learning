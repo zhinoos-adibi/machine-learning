{
 "cells": [
  {
   "cell_type": "code",
   "execution_count": 1,
   "id": "7fdf4b4e",
   "metadata": {},
   "outputs": [],
   "source": [
    "import pandas as pd\n",
    "import numpy as np\n",
    "import matplotlib.pyplot as plt\n",
    "import seaborn as sns\n",
    "sns.set()\n",
    "from sklearn.model_selection import train_test_split\n",
    "from sklearn.preprocessing import StandardScaler\n",
    "from sklearn.neighbors import KNeighborsClassifier\n",
    "from sklearn.metrics import classification_report,confusion_matrix,accuracy_score\n",
    "from sklearn.pipeline import Pipeline\n",
    "from sklearn.model_selection import GridSearchCV"
   ]
  },
  {
   "cell_type": "code",
   "execution_count": 2,
   "id": "0f4d0f66",
   "metadata": {},
   "outputs": [
    {
     "data": {
      "text/html": [
       "<div>\n",
       "<style scoped>\n",
       "    .dataframe tbody tr th:only-of-type {\n",
       "        vertical-align: middle;\n",
       "    }\n",
       "\n",
       "    .dataframe tbody tr th {\n",
       "        vertical-align: top;\n",
       "    }\n",
       "\n",
       "    .dataframe thead th {\n",
       "        text-align: right;\n",
       "    }\n",
       "</style>\n",
       "<table border=\"1\" class=\"dataframe\">\n",
       "  <thead>\n",
       "    <tr style=\"text-align: right;\">\n",
       "      <th></th>\n",
       "      <th>Compactness</th>\n",
       "      <th>Circularity</th>\n",
       "      <th>Distance.Circularity</th>\n",
       "      <th>Radius.Ratio</th>\n",
       "      <th>Pr.Axis.Aspect.Ratio</th>\n",
       "      <th>Max.Length.Aspect.Ratio</th>\n",
       "      <th>Scatter.Ratio</th>\n",
       "      <th>Elongatedness</th>\n",
       "      <th>Pr.Axis.Rectangularity</th>\n",
       "      <th>Max.Length.Rectangularity</th>\n",
       "      <th>Scaled.Variance.Along.Major.Axis</th>\n",
       "      <th>Scaled.Variance.Along.Minor.Axis</th>\n",
       "      <th>Scaled.Radius.of.Gyration</th>\n",
       "      <th>Skewness.About.Major.Axis</th>\n",
       "      <th>Skewness.About.Minor.Axis</th>\n",
       "      <th>Kurtosis.About.Minor.Axis</th>\n",
       "      <th>Kurtosis.About.Major.Axis</th>\n",
       "      <th>Hollows.Ratio</th>\n",
       "      <th>class</th>\n",
       "    </tr>\n",
       "  </thead>\n",
       "  <tbody>\n",
       "    <tr>\n",
       "      <th>0</th>\n",
       "      <td>95</td>\n",
       "      <td>48</td>\n",
       "      <td>83</td>\n",
       "      <td>178</td>\n",
       "      <td>72</td>\n",
       "      <td>10</td>\n",
       "      <td>162</td>\n",
       "      <td>42</td>\n",
       "      <td>20</td>\n",
       "      <td>159</td>\n",
       "      <td>176</td>\n",
       "      <td>379</td>\n",
       "      <td>184</td>\n",
       "      <td>70</td>\n",
       "      <td>6</td>\n",
       "      <td>16</td>\n",
       "      <td>187</td>\n",
       "      <td>197</td>\n",
       "      <td>4</td>\n",
       "    </tr>\n",
       "    <tr>\n",
       "      <th>1</th>\n",
       "      <td>91</td>\n",
       "      <td>41</td>\n",
       "      <td>84</td>\n",
       "      <td>141</td>\n",
       "      <td>57</td>\n",
       "      <td>9</td>\n",
       "      <td>149</td>\n",
       "      <td>45</td>\n",
       "      <td>19</td>\n",
       "      <td>143</td>\n",
       "      <td>170</td>\n",
       "      <td>330</td>\n",
       "      <td>158</td>\n",
       "      <td>72</td>\n",
       "      <td>9</td>\n",
       "      <td>14</td>\n",
       "      <td>189</td>\n",
       "      <td>199</td>\n",
       "      <td>4</td>\n",
       "    </tr>\n",
       "    <tr>\n",
       "      <th>2</th>\n",
       "      <td>104</td>\n",
       "      <td>50</td>\n",
       "      <td>106</td>\n",
       "      <td>209</td>\n",
       "      <td>66</td>\n",
       "      <td>10</td>\n",
       "      <td>207</td>\n",
       "      <td>32</td>\n",
       "      <td>23</td>\n",
       "      <td>158</td>\n",
       "      <td>223</td>\n",
       "      <td>635</td>\n",
       "      <td>220</td>\n",
       "      <td>73</td>\n",
       "      <td>14</td>\n",
       "      <td>9</td>\n",
       "      <td>188</td>\n",
       "      <td>196</td>\n",
       "      <td>2</td>\n",
       "    </tr>\n",
       "    <tr>\n",
       "      <th>3</th>\n",
       "      <td>93</td>\n",
       "      <td>41</td>\n",
       "      <td>82</td>\n",
       "      <td>159</td>\n",
       "      <td>63</td>\n",
       "      <td>9</td>\n",
       "      <td>144</td>\n",
       "      <td>46</td>\n",
       "      <td>19</td>\n",
       "      <td>143</td>\n",
       "      <td>160</td>\n",
       "      <td>309</td>\n",
       "      <td>127</td>\n",
       "      <td>63</td>\n",
       "      <td>6</td>\n",
       "      <td>10</td>\n",
       "      <td>199</td>\n",
       "      <td>207</td>\n",
       "      <td>4</td>\n",
       "    </tr>\n",
       "    <tr>\n",
       "      <th>4</th>\n",
       "      <td>85</td>\n",
       "      <td>44</td>\n",
       "      <td>70</td>\n",
       "      <td>205</td>\n",
       "      <td>103</td>\n",
       "      <td>52</td>\n",
       "      <td>149</td>\n",
       "      <td>45</td>\n",
       "      <td>19</td>\n",
       "      <td>144</td>\n",
       "      <td>241</td>\n",
       "      <td>325</td>\n",
       "      <td>188</td>\n",
       "      <td>127</td>\n",
       "      <td>9</td>\n",
       "      <td>11</td>\n",
       "      <td>180</td>\n",
       "      <td>183</td>\n",
       "      <td>3</td>\n",
       "    </tr>\n",
       "  </tbody>\n",
       "</table>\n",
       "</div>"
      ],
      "text/plain": [
       "   Compactness  Circularity  Distance.Circularity  Radius.Ratio  \\\n",
       "0           95           48                    83           178   \n",
       "1           91           41                    84           141   \n",
       "2          104           50                   106           209   \n",
       "3           93           41                    82           159   \n",
       "4           85           44                    70           205   \n",
       "\n",
       "   Pr.Axis.Aspect.Ratio  Max.Length.Aspect.Ratio  Scatter.Ratio  \\\n",
       "0                    72                       10            162   \n",
       "1                    57                        9            149   \n",
       "2                    66                       10            207   \n",
       "3                    63                        9            144   \n",
       "4                   103                       52            149   \n",
       "\n",
       "   Elongatedness  Pr.Axis.Rectangularity  Max.Length.Rectangularity  \\\n",
       "0             42                      20                        159   \n",
       "1             45                      19                        143   \n",
       "2             32                      23                        158   \n",
       "3             46                      19                        143   \n",
       "4             45                      19                        144   \n",
       "\n",
       "   Scaled.Variance.Along.Major.Axis  Scaled.Variance.Along.Minor.Axis  \\\n",
       "0                               176                               379   \n",
       "1                               170                               330   \n",
       "2                               223                               635   \n",
       "3                               160                               309   \n",
       "4                               241                               325   \n",
       "\n",
       "   Scaled.Radius.of.Gyration  Skewness.About.Major.Axis  \\\n",
       "0                        184                         70   \n",
       "1                        158                         72   \n",
       "2                        220                         73   \n",
       "3                        127                         63   \n",
       "4                        188                        127   \n",
       "\n",
       "   Skewness.About.Minor.Axis  Kurtosis.About.Minor.Axis  \\\n",
       "0                          6                         16   \n",
       "1                          9                         14   \n",
       "2                         14                          9   \n",
       "3                          6                         10   \n",
       "4                          9                         11   \n",
       "\n",
       "   Kurtosis.About.Major.Axis  Hollows.Ratio  class  \n",
       "0                        187            197      4  \n",
       "1                        189            199      4  \n",
       "2                        188            196      2  \n",
       "3                        199            207      4  \n",
       "4                        180            183      3  "
      ]
     },
     "execution_count": 2,
     "metadata": {},
     "output_type": "execute_result"
    }
   ],
   "source": [
    "df = pd.read_csv(\"vehicle.csv\")\n",
    "df.head()\n"
   ]
  },
  {
   "cell_type": "code",
   "execution_count": 3,
   "id": "c057b84b",
   "metadata": {},
   "outputs": [
    {
     "data": {
      "text/plain": [
       "3    218\n",
       "2    217\n",
       "1    212\n",
       "4    199\n",
       "Name: class, dtype: int64"
      ]
     },
     "execution_count": 3,
     "metadata": {},
     "output_type": "execute_result"
    }
   ],
   "source": [
    "df['class'].value_counts()\n"
   ]
  },
  {
   "cell_type": "code",
   "execution_count": 4,
   "id": "debd7cbd",
   "metadata": {},
   "outputs": [
    {
     "data": {
      "text/plain": [
       "19"
      ]
     },
     "execution_count": 4,
     "metadata": {},
     "output_type": "execute_result"
    }
   ],
   "source": [
    "len(df.columns)\n"
   ]
  },
  {
   "cell_type": "code",
   "execution_count": 5,
   "id": "abd90d69",
   "metadata": {},
   "outputs": [],
   "source": [
    "#df['class'].any"
   ]
  },
  {
   "cell_type": "markdown",
   "id": "19021548",
   "metadata": {},
   "source": [
    "### 1-a)sumarry of dataframe"
   ]
  },
  {
   "cell_type": "code",
   "execution_count": 6,
   "id": "c3beb4d2",
   "metadata": {},
   "outputs": [
    {
     "name": "stdout",
     "output_type": "stream",
     "text": [
      "columns of data \n",
      " Index(['Compactness', 'Circularity', 'Distance.Circularity', 'Radius.Ratio',\n",
      "       'Pr.Axis.Aspect.Ratio', 'Max.Length.Aspect.Ratio', 'Scatter.Ratio',\n",
      "       'Elongatedness', 'Pr.Axis.Rectangularity', 'Max.Length.Rectangularity',\n",
      "       'Scaled.Variance.Along.Major.Axis', 'Scaled.Variance.Along.Minor.Axis',\n",
      "       'Scaled.Radius.of.Gyration', 'Skewness.About.Major.Axis',\n",
      "       'Skewness.About.Minor.Axis', 'Kurtosis.About.Minor.Axis',\n",
      "       'Kurtosis.About.Major.Axis', 'Hollows.Ratio', 'class'],\n",
      "      dtype='object') \n",
      "\n",
      "\n",
      " description of data \n",
      "        Compactness  Circularity  Distance.Circularity  Radius.Ratio  \\\n",
      "count   846.000000   846.000000            846.000000    846.000000   \n",
      "mean     93.678487    44.861702             82.088652    168.940898   \n",
      "std       8.234474     6.169866             15.771533     33.472183   \n",
      "min      73.000000    33.000000             40.000000    104.000000   \n",
      "25%      87.000000    40.000000             70.000000    141.000000   \n",
      "50%      93.000000    44.000000             80.000000    167.000000   \n",
      "75%     100.000000    49.000000             98.000000    195.000000   \n",
      "max     119.000000    59.000000            112.000000    333.000000   \n",
      "\n",
      "       Pr.Axis.Aspect.Ratio  Max.Length.Aspect.Ratio  Scatter.Ratio  \\\n",
      "count            846.000000               846.000000     846.000000   \n",
      "mean              61.693853                 8.567376     168.839243   \n",
      "std                7.888251                 4.601217      33.244978   \n",
      "min               47.000000                 2.000000     112.000000   \n",
      "25%               57.000000                 7.000000     146.250000   \n",
      "50%               61.000000                 8.000000     157.000000   \n",
      "75%               65.000000                10.000000     198.000000   \n",
      "max              138.000000                55.000000     265.000000   \n",
      "\n",
      "       Elongatedness  Pr.Axis.Rectangularity  Max.Length.Rectangularity  \\\n",
      "count     846.000000              846.000000                 846.000000   \n",
      "mean       40.933806               20.582742                 147.998818   \n",
      "std         7.811560                2.592138                  14.515652   \n",
      "min        26.000000               17.000000                 118.000000   \n",
      "25%        33.000000               19.000000                 137.000000   \n",
      "50%        43.000000               20.000000                 146.000000   \n",
      "75%        46.000000               23.000000                 159.000000   \n",
      "max        61.000000               29.000000                 188.000000   \n",
      "\n",
      "       Scaled.Variance.Along.Major.Axis  Scaled.Variance.Along.Minor.Axis  \\\n",
      "count                        846.000000                        846.000000   \n",
      "mean                         188.625296                        439.911348   \n",
      "std                           31.394837                        176.692614   \n",
      "min                          130.000000                        184.000000   \n",
      "25%                          167.000000                        318.250000   \n",
      "50%                          178.500000                        364.000000   \n",
      "75%                          217.000000                        587.000000   \n",
      "max                          320.000000                       1018.000000   \n",
      "\n",
      "       Scaled.Radius.of.Gyration  Skewness.About.Major.Axis  \\\n",
      "count                  846.00000                 846.000000   \n",
      "mean                   174.70331                  72.462175   \n",
      "std                     32.54649                   7.486974   \n",
      "min                    109.00000                  59.000000   \n",
      "25%                    149.00000                  67.000000   \n",
      "50%                    173.00000                  71.500000   \n",
      "75%                    198.00000                  75.000000   \n",
      "max                    268.00000                 135.000000   \n",
      "\n",
      "       Skewness.About.Minor.Axis  Kurtosis.About.Minor.Axis  \\\n",
      "count                 846.000000                 846.000000   \n",
      "mean                    6.377069                  12.599291   \n",
      "std                     4.918353                   8.931240   \n",
      "min                     0.000000                   0.000000   \n",
      "25%                     2.000000                   5.000000   \n",
      "50%                     6.000000                  11.000000   \n",
      "75%                     9.000000                  19.000000   \n",
      "max                    22.000000                  41.000000   \n",
      "\n",
      "       Kurtosis.About.Major.Axis  Hollows.Ratio       class  \n",
      "count                 846.000000     846.000000  846.000000  \n",
      "mean                  188.932624     195.632388    2.477541  \n",
      "std                     6.163949       7.438797    1.105700  \n",
      "min                   176.000000     181.000000    1.000000  \n",
      "25%                   184.000000     190.250000    1.250000  \n",
      "50%                   188.000000     197.000000    2.000000  \n",
      "75%                   193.000000     201.000000    3.000000  \n",
      "max                   206.000000     211.000000    4.000000   \n",
      "\n",
      " shape of data\n",
      " (846, 19)\n"
     ]
    }
   ],
   "source": [
    "print(\"columns of data\",\"\\n\",df.columns , \"\\n\\n\\n\",\"description of data\" ,'\\n',df.describe() ,\n",
    "      \"\\n\\n\" ,\"shape of data\\n\",df.shape)\n"
   ]
  },
  {
   "cell_type": "markdown",
   "id": "3d000b8f",
   "metadata": {},
   "source": [
    "## 1-b)Answer:\n"
   ]
  },
  {
   "cell_type": "code",
   "execution_count": 7,
   "id": "75a9fb1b",
   "metadata": {},
   "outputs": [
    {
     "data": {
      "text/plain": [
       "array([4, 2, 3, 1], dtype=int64)"
      ]
     },
     "execution_count": 7,
     "metadata": {},
     "output_type": "execute_result"
    }
   ],
   "source": [
    "df1 = df.copy()\n",
    "df1['class'].unique()\n"
   ]
  },
  {
   "cell_type": "code",
   "execution_count": 8,
   "id": "a03fd00a",
   "metadata": {},
   "outputs": [
    {
     "data": {
      "text/plain": [
       "array(['VAN', '4D', 'BUS', '2D'], dtype=object)"
      ]
     },
     "execution_count": 8,
     "metadata": {},
     "output_type": "execute_result"
    }
   ],
   "source": [
    "df1['class'].replace(1, '2D', inplace= True)\n",
    "df1['class'].replace(2, '4D', inplace= True)\n",
    "df1['class'].replace(3, 'BUS', inplace= True)\n",
    "df1['class'].replace(4, 'VAN', inplace= True)\n",
    "df1['class'].unique()\n"
   ]
  },
  {
   "cell_type": "markdown",
   "id": "90f32801",
   "metadata": {},
   "source": [
    "## 1-c)Answer:\n"
   ]
  },
  {
   "cell_type": "code",
   "execution_count": 9,
   "id": "e6b51744",
   "metadata": {},
   "outputs": [],
   "source": [
    "df_feature= df1.drop('class', axis= 1)\n"
   ]
  },
  {
   "cell_type": "code",
   "execution_count": 10,
   "id": "e0d598ba",
   "metadata": {},
   "outputs": [
    {
     "data": {
      "text/plain": [
       "Index(['Compactness', 'Circularity', 'Distance.Circularity', 'Radius.Ratio',\n",
       "       'Pr.Axis.Aspect.Ratio', 'Max.Length.Aspect.Ratio', 'Scatter.Ratio',\n",
       "       'Elongatedness', 'Pr.Axis.Rectangularity', 'Max.Length.Rectangularity',\n",
       "       'Scaled.Variance.Along.Major.Axis', 'Scaled.Variance.Along.Minor.Axis',\n",
       "       'Scaled.Radius.of.Gyration', 'Skewness.About.Major.Axis',\n",
       "       'Skewness.About.Minor.Axis', 'Kurtosis.About.Minor.Axis',\n",
       "       'Kurtosis.About.Major.Axis', 'Hollows.Ratio'],\n",
       "      dtype='object')"
      ]
     },
     "execution_count": 10,
     "metadata": {},
     "output_type": "execute_result"
    }
   ],
   "source": [
    "df_feature.columns\n"
   ]
  },
  {
   "cell_type": "markdown",
   "id": "55495a06",
   "metadata": {},
   "source": [
    "###  Calculating Corelation more the .7 (we called df as df7 for this part)\n"
   ]
  },
  {
   "cell_type": "code",
   "execution_count": 11,
   "id": "e84cadad",
   "metadata": {},
   "outputs": [
    {
     "data": {
      "text/html": [
       "<div>\n",
       "<style scoped>\n",
       "    .dataframe tbody tr th:only-of-type {\n",
       "        vertical-align: middle;\n",
       "    }\n",
       "\n",
       "    .dataframe tbody tr th {\n",
       "        vertical-align: top;\n",
       "    }\n",
       "\n",
       "    .dataframe thead th {\n",
       "        text-align: right;\n",
       "    }\n",
       "</style>\n",
       "<table border=\"1\" class=\"dataframe\">\n",
       "  <thead>\n",
       "    <tr style=\"text-align: right;\">\n",
       "      <th></th>\n",
       "      <th>Compactness</th>\n",
       "      <th>Circularity</th>\n",
       "      <th>Distance.Circularity</th>\n",
       "      <th>Radius.Ratio</th>\n",
       "      <th>Pr.Axis.Aspect.Ratio</th>\n",
       "      <th>Max.Length.Aspect.Ratio</th>\n",
       "      <th>Scatter.Ratio</th>\n",
       "      <th>Elongatedness</th>\n",
       "      <th>Pr.Axis.Rectangularity</th>\n",
       "      <th>Max.Length.Rectangularity</th>\n",
       "      <th>Scaled.Variance.Along.Major.Axis</th>\n",
       "      <th>Scaled.Variance.Along.Minor.Axis</th>\n",
       "      <th>Scaled.Radius.of.Gyration</th>\n",
       "      <th>Skewness.About.Major.Axis</th>\n",
       "      <th>Skewness.About.Minor.Axis</th>\n",
       "      <th>Kurtosis.About.Minor.Axis</th>\n",
       "      <th>Kurtosis.About.Major.Axis</th>\n",
       "      <th>Hollows.Ratio</th>\n",
       "    </tr>\n",
       "  </thead>\n",
       "  <tbody>\n",
       "    <tr>\n",
       "      <th>Compactness</th>\n",
       "      <td>1.000000</td>\n",
       "      <td>0.692869</td>\n",
       "      <td>0.792444</td>\n",
       "      <td>0.691659</td>\n",
       "      <td>0.093222</td>\n",
       "      <td>0.148249</td>\n",
       "      <td>0.813003</td>\n",
       "      <td>0.788647</td>\n",
       "      <td>0.813437</td>\n",
       "      <td>0.676143</td>\n",
       "      <td>0.764415</td>\n",
       "      <td>0.818632</td>\n",
       "      <td>0.585347</td>\n",
       "      <td>0.252984</td>\n",
       "      <td>0.233693</td>\n",
       "      <td>0.156779</td>\n",
       "      <td>0.297780</td>\n",
       "      <td>0.365552</td>\n",
       "    </tr>\n",
       "    <tr>\n",
       "      <th>Circularity</th>\n",
       "      <td>0.692869</td>\n",
       "      <td>1.000000</td>\n",
       "      <td>0.798492</td>\n",
       "      <td>0.622778</td>\n",
       "      <td>0.149692</td>\n",
       "      <td>0.247467</td>\n",
       "      <td>0.860367</td>\n",
       "      <td>0.828755</td>\n",
       "      <td>0.857925</td>\n",
       "      <td>0.965776</td>\n",
       "      <td>0.808496</td>\n",
       "      <td>0.852679</td>\n",
       "      <td>0.936080</td>\n",
       "      <td>0.058669</td>\n",
       "      <td>0.148433</td>\n",
       "      <td>0.015482</td>\n",
       "      <td>0.113047</td>\n",
       "      <td>0.038677</td>\n",
       "    </tr>\n",
       "    <tr>\n",
       "      <th>Distance.Circularity</th>\n",
       "      <td>0.792444</td>\n",
       "      <td>0.798492</td>\n",
       "      <td>1.000000</td>\n",
       "      <td>0.771644</td>\n",
       "      <td>0.161529</td>\n",
       "      <td>0.264309</td>\n",
       "      <td>0.907280</td>\n",
       "      <td>0.912307</td>\n",
       "      <td>0.895326</td>\n",
       "      <td>0.774524</td>\n",
       "      <td>0.864432</td>\n",
       "      <td>0.889661</td>\n",
       "      <td>0.705818</td>\n",
       "      <td>0.231660</td>\n",
       "      <td>0.116478</td>\n",
       "      <td>0.264522</td>\n",
       "      <td>0.147980</td>\n",
       "      <td>0.335453</td>\n",
       "    </tr>\n",
       "    <tr>\n",
       "      <th>Radius.Ratio</th>\n",
       "      <td>0.691659</td>\n",
       "      <td>0.622778</td>\n",
       "      <td>0.771644</td>\n",
       "      <td>1.000000</td>\n",
       "      <td>0.665407</td>\n",
       "      <td>0.448048</td>\n",
       "      <td>0.738460</td>\n",
       "      <td>0.792557</td>\n",
       "      <td>0.711497</td>\n",
       "      <td>0.570154</td>\n",
       "      <td>0.797588</td>\n",
       "      <td>0.725781</td>\n",
       "      <td>0.539069</td>\n",
       "      <td>0.182412</td>\n",
       "      <td>0.050534</td>\n",
       "      <td>0.174299</td>\n",
       "      <td>0.380757</td>\n",
       "      <td>0.469278</td>\n",
       "    </tr>\n",
       "    <tr>\n",
       "      <th>Pr.Axis.Aspect.Ratio</th>\n",
       "      <td>0.093222</td>\n",
       "      <td>0.149692</td>\n",
       "      <td>0.161529</td>\n",
       "      <td>0.665407</td>\n",
       "      <td>1.000000</td>\n",
       "      <td>0.648096</td>\n",
       "      <td>0.106064</td>\n",
       "      <td>0.185086</td>\n",
       "      <td>0.079982</td>\n",
       "      <td>0.129168</td>\n",
       "      <td>0.274705</td>\n",
       "      <td>0.092182</td>\n",
       "      <td>0.124408</td>\n",
       "      <td>0.152304</td>\n",
       "      <td>0.056807</td>\n",
       "      <td>0.034180</td>\n",
       "      <td>0.238195</td>\n",
       "      <td>0.267381</td>\n",
       "    </tr>\n",
       "  </tbody>\n",
       "</table>\n",
       "</div>"
      ],
      "text/plain": [
       "                      Compactness  Circularity  Distance.Circularity  \\\n",
       "Compactness              1.000000     0.692869              0.792444   \n",
       "Circularity              0.692869     1.000000              0.798492   \n",
       "Distance.Circularity     0.792444     0.798492              1.000000   \n",
       "Radius.Ratio             0.691659     0.622778              0.771644   \n",
       "Pr.Axis.Aspect.Ratio     0.093222     0.149692              0.161529   \n",
       "\n",
       "                      Radius.Ratio  Pr.Axis.Aspect.Ratio  \\\n",
       "Compactness               0.691659              0.093222   \n",
       "Circularity               0.622778              0.149692   \n",
       "Distance.Circularity      0.771644              0.161529   \n",
       "Radius.Ratio              1.000000              0.665407   \n",
       "Pr.Axis.Aspect.Ratio      0.665407              1.000000   \n",
       "\n",
       "                      Max.Length.Aspect.Ratio  Scatter.Ratio  Elongatedness  \\\n",
       "Compactness                          0.148249       0.813003       0.788647   \n",
       "Circularity                          0.247467       0.860367       0.828755   \n",
       "Distance.Circularity                 0.264309       0.907280       0.912307   \n",
       "Radius.Ratio                         0.448048       0.738460       0.792557   \n",
       "Pr.Axis.Aspect.Ratio                 0.648096       0.106064       0.185086   \n",
       "\n",
       "                      Pr.Axis.Rectangularity  Max.Length.Rectangularity  \\\n",
       "Compactness                         0.813437                   0.676143   \n",
       "Circularity                         0.857925                   0.965776   \n",
       "Distance.Circularity                0.895326                   0.774524   \n",
       "Radius.Ratio                        0.711497                   0.570154   \n",
       "Pr.Axis.Aspect.Ratio                0.079982                   0.129168   \n",
       "\n",
       "                      Scaled.Variance.Along.Major.Axis  \\\n",
       "Compactness                                   0.764415   \n",
       "Circularity                                   0.808496   \n",
       "Distance.Circularity                          0.864432   \n",
       "Radius.Ratio                                  0.797588   \n",
       "Pr.Axis.Aspect.Ratio                          0.274705   \n",
       "\n",
       "                      Scaled.Variance.Along.Minor.Axis  \\\n",
       "Compactness                                   0.818632   \n",
       "Circularity                                   0.852679   \n",
       "Distance.Circularity                          0.889661   \n",
       "Radius.Ratio                                  0.725781   \n",
       "Pr.Axis.Aspect.Ratio                          0.092182   \n",
       "\n",
       "                      Scaled.Radius.of.Gyration  Skewness.About.Major.Axis  \\\n",
       "Compactness                            0.585347                   0.252984   \n",
       "Circularity                            0.936080                   0.058669   \n",
       "Distance.Circularity                   0.705818                   0.231660   \n",
       "Radius.Ratio                           0.539069                   0.182412   \n",
       "Pr.Axis.Aspect.Ratio                   0.124408                   0.152304   \n",
       "\n",
       "                      Skewness.About.Minor.Axis  Kurtosis.About.Minor.Axis  \\\n",
       "Compactness                            0.233693                   0.156779   \n",
       "Circularity                            0.148433                   0.015482   \n",
       "Distance.Circularity                   0.116478                   0.264522   \n",
       "Radius.Ratio                           0.050534                   0.174299   \n",
       "Pr.Axis.Aspect.Ratio                   0.056807                   0.034180   \n",
       "\n",
       "                      Kurtosis.About.Major.Axis  Hollows.Ratio  \n",
       "Compactness                            0.297780       0.365552  \n",
       "Circularity                            0.113047       0.038677  \n",
       "Distance.Circularity                   0.147980       0.335453  \n",
       "Radius.Ratio                           0.380757       0.469278  \n",
       "Pr.Axis.Aspect.Ratio                   0.238195       0.267381  "
      ]
     },
     "execution_count": 11,
     "metadata": {},
     "output_type": "execute_result"
    }
   ],
   "source": [
    "df7= df_feature.corr().abs()\n",
    "df7.head()\n"
   ]
  },
  {
   "cell_type": "code",
   "execution_count": 12,
   "id": "b7452f19",
   "metadata": {},
   "outputs": [
    {
     "data": {
      "text/html": [
       "<div>\n",
       "<style scoped>\n",
       "    .dataframe tbody tr th:only-of-type {\n",
       "        vertical-align: middle;\n",
       "    }\n",
       "\n",
       "    .dataframe tbody tr th {\n",
       "        vertical-align: top;\n",
       "    }\n",
       "\n",
       "    .dataframe thead th {\n",
       "        text-align: right;\n",
       "    }\n",
       "</style>\n",
       "<table border=\"1\" class=\"dataframe\">\n",
       "  <thead>\n",
       "    <tr style=\"text-align: right;\">\n",
       "      <th></th>\n",
       "      <th></th>\n",
       "      <th>corr</th>\n",
       "    </tr>\n",
       "  </thead>\n",
       "  <tbody>\n",
       "    <tr>\n",
       "      <th>Scaled.Radius.of.Gyration</th>\n",
       "      <th>Distance.Circularity</th>\n",
       "      <td>0.705818</td>\n",
       "    </tr>\n",
       "    <tr>\n",
       "      <th>Distance.Circularity</th>\n",
       "      <th>Scaled.Radius.of.Gyration</th>\n",
       "      <td>0.705818</td>\n",
       "    </tr>\n",
       "    <tr>\n",
       "      <th>Radius.Ratio</th>\n",
       "      <th>Pr.Axis.Rectangularity</th>\n",
       "      <td>0.711497</td>\n",
       "    </tr>\n",
       "    <tr>\n",
       "      <th>Pr.Axis.Rectangularity</th>\n",
       "      <th>Radius.Ratio</th>\n",
       "      <td>0.711497</td>\n",
       "    </tr>\n",
       "    <tr>\n",
       "      <th>Scaled.Variance.Along.Minor.Axis</th>\n",
       "      <th>Radius.Ratio</th>\n",
       "      <td>0.725781</td>\n",
       "    </tr>\n",
       "  </tbody>\n",
       "</table>\n",
       "</div>"
      ],
      "text/plain": [
       "                                                                corr\n",
       "Scaled.Radius.of.Gyration        Distance.Circularity       0.705818\n",
       "Distance.Circularity             Scaled.Radius.of.Gyration  0.705818\n",
       "Radius.Ratio                     Pr.Axis.Rectangularity     0.711497\n",
       "Pr.Axis.Rectangularity           Radius.Ratio               0.711497\n",
       "Scaled.Variance.Along.Minor.Axis Radius.Ratio               0.725781"
      ]
     },
     "execution_count": 12,
     "metadata": {},
     "output_type": "execute_result"
    }
   ],
   "source": [
    "\n",
    "\n",
    "df7_unstack = df7.unstack()\n",
    "# so = df7_unstack.sort_values(kind=\"quicksort\")\n",
    "df7_unstack = pd.DataFrame(df7_unstack,columns =[\"corr\"])\n",
    "df7_sotr = df7_unstack.sort_values(by = [\"corr\"])\n",
    "df7_result = df7_sotr[(df7_sotr[\"corr\"] >.7) & (df7_sotr[\"corr\"] <1)]\n",
    "df7_result.head()\n"
   ]
  },
  {
   "cell_type": "markdown",
   "id": "81ae5260",
   "metadata": {},
   "source": [
    "###  Calculating Corelation more the .9 (we called df as df9 for this part)"
   ]
  },
  {
   "cell_type": "code",
   "execution_count": 13,
   "id": "e9a6e080",
   "metadata": {},
   "outputs": [
    {
     "data": {
      "text/html": [
       "<div>\n",
       "<style scoped>\n",
       "    .dataframe tbody tr th:only-of-type {\n",
       "        vertical-align: middle;\n",
       "    }\n",
       "\n",
       "    .dataframe tbody tr th {\n",
       "        vertical-align: top;\n",
       "    }\n",
       "\n",
       "    .dataframe thead th {\n",
       "        text-align: right;\n",
       "    }\n",
       "</style>\n",
       "<table border=\"1\" class=\"dataframe\">\n",
       "  <thead>\n",
       "    <tr style=\"text-align: right;\">\n",
       "      <th></th>\n",
       "      <th></th>\n",
       "      <th>corr</th>\n",
       "    </tr>\n",
       "  </thead>\n",
       "  <tbody>\n",
       "    <tr>\n",
       "      <th>Scatter.Ratio</th>\n",
       "      <th>Distance.Circularity</th>\n",
       "      <td>0.907280</td>\n",
       "    </tr>\n",
       "    <tr>\n",
       "      <th rowspan=\"2\" valign=\"top\">Distance.Circularity</th>\n",
       "      <th>Scatter.Ratio</th>\n",
       "      <td>0.907280</td>\n",
       "    </tr>\n",
       "    <tr>\n",
       "      <th>Elongatedness</th>\n",
       "      <td>0.912307</td>\n",
       "    </tr>\n",
       "    <tr>\n",
       "      <th>Elongatedness</th>\n",
       "      <th>Distance.Circularity</th>\n",
       "      <td>0.912307</td>\n",
       "    </tr>\n",
       "    <tr>\n",
       "      <th>Circularity</th>\n",
       "      <th>Scaled.Radius.of.Gyration</th>\n",
       "      <td>0.936080</td>\n",
       "    </tr>\n",
       "    <tr>\n",
       "      <th>Scaled.Radius.of.Gyration</th>\n",
       "      <th>Circularity</th>\n",
       "      <td>0.936080</td>\n",
       "    </tr>\n",
       "    <tr>\n",
       "      <th>Scaled.Variance.Along.Major.Axis</th>\n",
       "      <th>Pr.Axis.Rectangularity</th>\n",
       "      <td>0.938266</td>\n",
       "    </tr>\n",
       "    <tr>\n",
       "      <th>Pr.Axis.Rectangularity</th>\n",
       "      <th>Scaled.Variance.Along.Major.Axis</th>\n",
       "      <td>0.938266</td>\n",
       "    </tr>\n",
       "    <tr>\n",
       "      <th>Scaled.Variance.Along.Major.Axis</th>\n",
       "      <th>Elongatedness</th>\n",
       "      <td>0.938392</td>\n",
       "    </tr>\n",
       "    <tr>\n",
       "      <th>Elongatedness</th>\n",
       "      <th>Scaled.Variance.Along.Major.Axis</th>\n",
       "      <td>0.938392</td>\n",
       "    </tr>\n",
       "    <tr>\n",
       "      <th>Scaled.Variance.Along.Major.Axis</th>\n",
       "      <th>Scaled.Variance.Along.Minor.Axis</th>\n",
       "      <td>0.949888</td>\n",
       "    </tr>\n",
       "    <tr>\n",
       "      <th>Scaled.Variance.Along.Minor.Axis</th>\n",
       "      <th>Scaled.Variance.Along.Major.Axis</th>\n",
       "      <td>0.949888</td>\n",
       "    </tr>\n",
       "    <tr>\n",
       "      <th>Pr.Axis.Rectangularity</th>\n",
       "      <th>Elongatedness</th>\n",
       "      <td>0.950512</td>\n",
       "    </tr>\n",
       "    <tr>\n",
       "      <th>Elongatedness</th>\n",
       "      <th>Pr.Axis.Rectangularity</th>\n",
       "      <td>0.950512</td>\n",
       "    </tr>\n",
       "    <tr>\n",
       "      <th>Scatter.Ratio</th>\n",
       "      <th>Scaled.Variance.Along.Major.Axis</th>\n",
       "      <td>0.951862</td>\n",
       "    </tr>\n",
       "    <tr>\n",
       "      <th>Scaled.Variance.Along.Major.Axis</th>\n",
       "      <th>Scatter.Ratio</th>\n",
       "      <td>0.951862</td>\n",
       "    </tr>\n",
       "    <tr>\n",
       "      <th>Elongatedness</th>\n",
       "      <th>Scaled.Variance.Along.Minor.Axis</th>\n",
       "      <td>0.956522</td>\n",
       "    </tr>\n",
       "    <tr>\n",
       "      <th>Scaled.Variance.Along.Minor.Axis</th>\n",
       "      <th>Elongatedness</th>\n",
       "      <td>0.956522</td>\n",
       "    </tr>\n",
       "    <tr>\n",
       "      <th>Circularity</th>\n",
       "      <th>Max.Length.Rectangularity</th>\n",
       "      <td>0.965776</td>\n",
       "    </tr>\n",
       "    <tr>\n",
       "      <th>Max.Length.Rectangularity</th>\n",
       "      <th>Circularity</th>\n",
       "      <td>0.965776</td>\n",
       "    </tr>\n",
       "    <tr>\n",
       "      <th>Elongatedness</th>\n",
       "      <th>Scatter.Ratio</th>\n",
       "      <td>0.973385</td>\n",
       "    </tr>\n",
       "    <tr>\n",
       "      <th>Scatter.Ratio</th>\n",
       "      <th>Elongatedness</th>\n",
       "      <td>0.973385</td>\n",
       "    </tr>\n",
       "    <tr>\n",
       "      <th>Pr.Axis.Rectangularity</th>\n",
       "      <th>Scatter.Ratio</th>\n",
       "      <td>0.992088</td>\n",
       "    </tr>\n",
       "    <tr>\n",
       "      <th>Scatter.Ratio</th>\n",
       "      <th>Pr.Axis.Rectangularity</th>\n",
       "      <td>0.992088</td>\n",
       "    </tr>\n",
       "    <tr>\n",
       "      <th>Pr.Axis.Rectangularity</th>\n",
       "      <th>Scaled.Variance.Along.Minor.Axis</th>\n",
       "      <td>0.992346</td>\n",
       "    </tr>\n",
       "    <tr>\n",
       "      <th>Scaled.Variance.Along.Minor.Axis</th>\n",
       "      <th>Pr.Axis.Rectangularity</th>\n",
       "      <td>0.992346</td>\n",
       "    </tr>\n",
       "    <tr>\n",
       "      <th>Scatter.Ratio</th>\n",
       "      <th>Scaled.Variance.Along.Minor.Axis</th>\n",
       "      <td>0.996318</td>\n",
       "    </tr>\n",
       "    <tr>\n",
       "      <th>Scaled.Variance.Along.Minor.Axis</th>\n",
       "      <th>Scatter.Ratio</th>\n",
       "      <td>0.996318</td>\n",
       "    </tr>\n",
       "  </tbody>\n",
       "</table>\n",
       "</div>"
      ],
      "text/plain": [
       "                                                                       corr\n",
       "Scatter.Ratio                    Distance.Circularity              0.907280\n",
       "Distance.Circularity             Scatter.Ratio                     0.907280\n",
       "                                 Elongatedness                     0.912307\n",
       "Elongatedness                    Distance.Circularity              0.912307\n",
       "Circularity                      Scaled.Radius.of.Gyration         0.936080\n",
       "Scaled.Radius.of.Gyration        Circularity                       0.936080\n",
       "Scaled.Variance.Along.Major.Axis Pr.Axis.Rectangularity            0.938266\n",
       "Pr.Axis.Rectangularity           Scaled.Variance.Along.Major.Axis  0.938266\n",
       "Scaled.Variance.Along.Major.Axis Elongatedness                     0.938392\n",
       "Elongatedness                    Scaled.Variance.Along.Major.Axis  0.938392\n",
       "Scaled.Variance.Along.Major.Axis Scaled.Variance.Along.Minor.Axis  0.949888\n",
       "Scaled.Variance.Along.Minor.Axis Scaled.Variance.Along.Major.Axis  0.949888\n",
       "Pr.Axis.Rectangularity           Elongatedness                     0.950512\n",
       "Elongatedness                    Pr.Axis.Rectangularity            0.950512\n",
       "Scatter.Ratio                    Scaled.Variance.Along.Major.Axis  0.951862\n",
       "Scaled.Variance.Along.Major.Axis Scatter.Ratio                     0.951862\n",
       "Elongatedness                    Scaled.Variance.Along.Minor.Axis  0.956522\n",
       "Scaled.Variance.Along.Minor.Axis Elongatedness                     0.956522\n",
       "Circularity                      Max.Length.Rectangularity         0.965776\n",
       "Max.Length.Rectangularity        Circularity                       0.965776\n",
       "Elongatedness                    Scatter.Ratio                     0.973385\n",
       "Scatter.Ratio                    Elongatedness                     0.973385\n",
       "Pr.Axis.Rectangularity           Scatter.Ratio                     0.992088\n",
       "Scatter.Ratio                    Pr.Axis.Rectangularity            0.992088\n",
       "Pr.Axis.Rectangularity           Scaled.Variance.Along.Minor.Axis  0.992346\n",
       "Scaled.Variance.Along.Minor.Axis Pr.Axis.Rectangularity            0.992346\n",
       "Scatter.Ratio                    Scaled.Variance.Along.Minor.Axis  0.996318\n",
       "Scaled.Variance.Along.Minor.Axis Scatter.Ratio                     0.996318"
      ]
     },
     "execution_count": 13,
     "metadata": {},
     "output_type": "execute_result"
    }
   ],
   "source": [
    "df9_result = df7_sotr[(df7_sotr[\"corr\"] >.9) & (df7_sotr[\"corr\"] <1) ]\n",
    "df9_result\n"
   ]
  },
  {
   "cell_type": "markdown",
   "id": "7bd35b8b",
   "metadata": {},
   "source": [
    "### 2) Split Train and Test"
   ]
  },
  {
   "cell_type": "code",
   "execution_count": 14,
   "id": "83fc1d3b",
   "metadata": {},
   "outputs": [],
   "source": [
    "train_df = df1.iloc[:3*int(len(df1)/4)+1, :]\n",
    "test_df = df1.iloc[3*int(len(df1)/4)+1:, :]\n"
   ]
  },
  {
   "cell_type": "code",
   "execution_count": 15,
   "id": "54d25193",
   "metadata": {},
   "outputs": [
    {
     "data": {
      "text/html": [
       "<div>\n",
       "<style scoped>\n",
       "    .dataframe tbody tr th:only-of-type {\n",
       "        vertical-align: middle;\n",
       "    }\n",
       "\n",
       "    .dataframe tbody tr th {\n",
       "        vertical-align: top;\n",
       "    }\n",
       "\n",
       "    .dataframe thead th {\n",
       "        text-align: right;\n",
       "    }\n",
       "</style>\n",
       "<table border=\"1\" class=\"dataframe\">\n",
       "  <thead>\n",
       "    <tr style=\"text-align: right;\">\n",
       "      <th></th>\n",
       "      <th>Compactness</th>\n",
       "      <th>Circularity</th>\n",
       "      <th>Distance.Circularity</th>\n",
       "      <th>Radius.Ratio</th>\n",
       "      <th>Pr.Axis.Aspect.Ratio</th>\n",
       "      <th>Max.Length.Aspect.Ratio</th>\n",
       "      <th>Scatter.Ratio</th>\n",
       "      <th>Elongatedness</th>\n",
       "      <th>Pr.Axis.Rectangularity</th>\n",
       "      <th>Max.Length.Rectangularity</th>\n",
       "      <th>Scaled.Variance.Along.Major.Axis</th>\n",
       "      <th>Scaled.Variance.Along.Minor.Axis</th>\n",
       "      <th>Scaled.Radius.of.Gyration</th>\n",
       "      <th>Skewness.About.Major.Axis</th>\n",
       "      <th>Skewness.About.Minor.Axis</th>\n",
       "      <th>Kurtosis.About.Minor.Axis</th>\n",
       "      <th>Kurtosis.About.Major.Axis</th>\n",
       "      <th>Hollows.Ratio</th>\n",
       "      <th>class</th>\n",
       "    </tr>\n",
       "  </thead>\n",
       "  <tbody>\n",
       "    <tr>\n",
       "      <th>0</th>\n",
       "      <td>95</td>\n",
       "      <td>48</td>\n",
       "      <td>83</td>\n",
       "      <td>178</td>\n",
       "      <td>72</td>\n",
       "      <td>10</td>\n",
       "      <td>162</td>\n",
       "      <td>42</td>\n",
       "      <td>20</td>\n",
       "      <td>159</td>\n",
       "      <td>176</td>\n",
       "      <td>379</td>\n",
       "      <td>184</td>\n",
       "      <td>70</td>\n",
       "      <td>6</td>\n",
       "      <td>16</td>\n",
       "      <td>187</td>\n",
       "      <td>197</td>\n",
       "      <td>VAN</td>\n",
       "    </tr>\n",
       "    <tr>\n",
       "      <th>1</th>\n",
       "      <td>91</td>\n",
       "      <td>41</td>\n",
       "      <td>84</td>\n",
       "      <td>141</td>\n",
       "      <td>57</td>\n",
       "      <td>9</td>\n",
       "      <td>149</td>\n",
       "      <td>45</td>\n",
       "      <td>19</td>\n",
       "      <td>143</td>\n",
       "      <td>170</td>\n",
       "      <td>330</td>\n",
       "      <td>158</td>\n",
       "      <td>72</td>\n",
       "      <td>9</td>\n",
       "      <td>14</td>\n",
       "      <td>189</td>\n",
       "      <td>199</td>\n",
       "      <td>VAN</td>\n",
       "    </tr>\n",
       "    <tr>\n",
       "      <th>2</th>\n",
       "      <td>104</td>\n",
       "      <td>50</td>\n",
       "      <td>106</td>\n",
       "      <td>209</td>\n",
       "      <td>66</td>\n",
       "      <td>10</td>\n",
       "      <td>207</td>\n",
       "      <td>32</td>\n",
       "      <td>23</td>\n",
       "      <td>158</td>\n",
       "      <td>223</td>\n",
       "      <td>635</td>\n",
       "      <td>220</td>\n",
       "      <td>73</td>\n",
       "      <td>14</td>\n",
       "      <td>9</td>\n",
       "      <td>188</td>\n",
       "      <td>196</td>\n",
       "      <td>4D</td>\n",
       "    </tr>\n",
       "    <tr>\n",
       "      <th>3</th>\n",
       "      <td>93</td>\n",
       "      <td>41</td>\n",
       "      <td>82</td>\n",
       "      <td>159</td>\n",
       "      <td>63</td>\n",
       "      <td>9</td>\n",
       "      <td>144</td>\n",
       "      <td>46</td>\n",
       "      <td>19</td>\n",
       "      <td>143</td>\n",
       "      <td>160</td>\n",
       "      <td>309</td>\n",
       "      <td>127</td>\n",
       "      <td>63</td>\n",
       "      <td>6</td>\n",
       "      <td>10</td>\n",
       "      <td>199</td>\n",
       "      <td>207</td>\n",
       "      <td>VAN</td>\n",
       "    </tr>\n",
       "    <tr>\n",
       "      <th>4</th>\n",
       "      <td>85</td>\n",
       "      <td>44</td>\n",
       "      <td>70</td>\n",
       "      <td>205</td>\n",
       "      <td>103</td>\n",
       "      <td>52</td>\n",
       "      <td>149</td>\n",
       "      <td>45</td>\n",
       "      <td>19</td>\n",
       "      <td>144</td>\n",
       "      <td>241</td>\n",
       "      <td>325</td>\n",
       "      <td>188</td>\n",
       "      <td>127</td>\n",
       "      <td>9</td>\n",
       "      <td>11</td>\n",
       "      <td>180</td>\n",
       "      <td>183</td>\n",
       "      <td>BUS</td>\n",
       "    </tr>\n",
       "    <tr>\n",
       "      <th>5</th>\n",
       "      <td>107</td>\n",
       "      <td>57</td>\n",
       "      <td>106</td>\n",
       "      <td>172</td>\n",
       "      <td>50</td>\n",
       "      <td>6</td>\n",
       "      <td>255</td>\n",
       "      <td>26</td>\n",
       "      <td>28</td>\n",
       "      <td>169</td>\n",
       "      <td>280</td>\n",
       "      <td>957</td>\n",
       "      <td>264</td>\n",
       "      <td>85</td>\n",
       "      <td>5</td>\n",
       "      <td>9</td>\n",
       "      <td>181</td>\n",
       "      <td>183</td>\n",
       "      <td>BUS</td>\n",
       "    </tr>\n",
       "  </tbody>\n",
       "</table>\n",
       "</div>"
      ],
      "text/plain": [
       "   Compactness  Circularity  Distance.Circularity  Radius.Ratio  \\\n",
       "0           95           48                    83           178   \n",
       "1           91           41                    84           141   \n",
       "2          104           50                   106           209   \n",
       "3           93           41                    82           159   \n",
       "4           85           44                    70           205   \n",
       "5          107           57                   106           172   \n",
       "\n",
       "   Pr.Axis.Aspect.Ratio  Max.Length.Aspect.Ratio  Scatter.Ratio  \\\n",
       "0                    72                       10            162   \n",
       "1                    57                        9            149   \n",
       "2                    66                       10            207   \n",
       "3                    63                        9            144   \n",
       "4                   103                       52            149   \n",
       "5                    50                        6            255   \n",
       "\n",
       "   Elongatedness  Pr.Axis.Rectangularity  Max.Length.Rectangularity  \\\n",
       "0             42                      20                        159   \n",
       "1             45                      19                        143   \n",
       "2             32                      23                        158   \n",
       "3             46                      19                        143   \n",
       "4             45                      19                        144   \n",
       "5             26                      28                        169   \n",
       "\n",
       "   Scaled.Variance.Along.Major.Axis  Scaled.Variance.Along.Minor.Axis  \\\n",
       "0                               176                               379   \n",
       "1                               170                               330   \n",
       "2                               223                               635   \n",
       "3                               160                               309   \n",
       "4                               241                               325   \n",
       "5                               280                               957   \n",
       "\n",
       "   Scaled.Radius.of.Gyration  Skewness.About.Major.Axis  \\\n",
       "0                        184                         70   \n",
       "1                        158                         72   \n",
       "2                        220                         73   \n",
       "3                        127                         63   \n",
       "4                        188                        127   \n",
       "5                        264                         85   \n",
       "\n",
       "   Skewness.About.Minor.Axis  Kurtosis.About.Minor.Axis  \\\n",
       "0                          6                         16   \n",
       "1                          9                         14   \n",
       "2                         14                          9   \n",
       "3                          6                         10   \n",
       "4                          9                         11   \n",
       "5                          5                          9   \n",
       "\n",
       "   Kurtosis.About.Major.Axis  Hollows.Ratio class  \n",
       "0                        187            197   VAN  \n",
       "1                        189            199   VAN  \n",
       "2                        188            196    4D  \n",
       "3                        199            207   VAN  \n",
       "4                        180            183   BUS  \n",
       "5                        181            183   BUS  "
      ]
     },
     "execution_count": 15,
     "metadata": {},
     "output_type": "execute_result"
    }
   ],
   "source": [
    "train_df.head(6)\n"
   ]
  },
  {
   "cell_type": "code",
   "execution_count": 16,
   "id": "7985a9bf",
   "metadata": {},
   "outputs": [
    {
     "data": {
      "text/html": [
       "<div>\n",
       "<style scoped>\n",
       "    .dataframe tbody tr th:only-of-type {\n",
       "        vertical-align: middle;\n",
       "    }\n",
       "\n",
       "    .dataframe tbody tr th {\n",
       "        vertical-align: top;\n",
       "    }\n",
       "\n",
       "    .dataframe thead th {\n",
       "        text-align: right;\n",
       "    }\n",
       "</style>\n",
       "<table border=\"1\" class=\"dataframe\">\n",
       "  <thead>\n",
       "    <tr style=\"text-align: right;\">\n",
       "      <th></th>\n",
       "      <th>Compactness</th>\n",
       "      <th>Circularity</th>\n",
       "      <th>Distance.Circularity</th>\n",
       "      <th>Radius.Ratio</th>\n",
       "      <th>Pr.Axis.Aspect.Ratio</th>\n",
       "      <th>Max.Length.Aspect.Ratio</th>\n",
       "      <th>Scatter.Ratio</th>\n",
       "      <th>Elongatedness</th>\n",
       "      <th>Pr.Axis.Rectangularity</th>\n",
       "      <th>Max.Length.Rectangularity</th>\n",
       "      <th>Scaled.Variance.Along.Major.Axis</th>\n",
       "      <th>Scaled.Variance.Along.Minor.Axis</th>\n",
       "      <th>Scaled.Radius.of.Gyration</th>\n",
       "      <th>Skewness.About.Major.Axis</th>\n",
       "      <th>Skewness.About.Minor.Axis</th>\n",
       "      <th>Kurtosis.About.Minor.Axis</th>\n",
       "      <th>Kurtosis.About.Major.Axis</th>\n",
       "      <th>Hollows.Ratio</th>\n",
       "      <th>class</th>\n",
       "    </tr>\n",
       "  </thead>\n",
       "  <tbody>\n",
       "    <tr>\n",
       "      <th>634</th>\n",
       "      <td>81</td>\n",
       "      <td>38</td>\n",
       "      <td>53</td>\n",
       "      <td>123</td>\n",
       "      <td>58</td>\n",
       "      <td>6</td>\n",
       "      <td>134</td>\n",
       "      <td>51</td>\n",
       "      <td>18</td>\n",
       "      <td>128</td>\n",
       "      <td>147</td>\n",
       "      <td>259</td>\n",
       "      <td>148</td>\n",
       "      <td>83</td>\n",
       "      <td>10</td>\n",
       "      <td>6</td>\n",
       "      <td>177</td>\n",
       "      <td>184</td>\n",
       "      <td>2D</td>\n",
       "    </tr>\n",
       "    <tr>\n",
       "      <th>635</th>\n",
       "      <td>97</td>\n",
       "      <td>41</td>\n",
       "      <td>62</td>\n",
       "      <td>133</td>\n",
       "      <td>56</td>\n",
       "      <td>7</td>\n",
       "      <td>130</td>\n",
       "      <td>52</td>\n",
       "      <td>18</td>\n",
       "      <td>143</td>\n",
       "      <td>158</td>\n",
       "      <td>247</td>\n",
       "      <td>157</td>\n",
       "      <td>78</td>\n",
       "      <td>5</td>\n",
       "      <td>7</td>\n",
       "      <td>184</td>\n",
       "      <td>186</td>\n",
       "      <td>VAN</td>\n",
       "    </tr>\n",
       "    <tr>\n",
       "      <th>636</th>\n",
       "      <td>96</td>\n",
       "      <td>41</td>\n",
       "      <td>69</td>\n",
       "      <td>153</td>\n",
       "      <td>56</td>\n",
       "      <td>7</td>\n",
       "      <td>141</td>\n",
       "      <td>47</td>\n",
       "      <td>18</td>\n",
       "      <td>141</td>\n",
       "      <td>162</td>\n",
       "      <td>297</td>\n",
       "      <td>169</td>\n",
       "      <td>61</td>\n",
       "      <td>11</td>\n",
       "      <td>8</td>\n",
       "      <td>202</td>\n",
       "      <td>209</td>\n",
       "      <td>4D</td>\n",
       "    </tr>\n",
       "    <tr>\n",
       "      <th>637</th>\n",
       "      <td>86</td>\n",
       "      <td>44</td>\n",
       "      <td>65</td>\n",
       "      <td>129</td>\n",
       "      <td>56</td>\n",
       "      <td>6</td>\n",
       "      <td>152</td>\n",
       "      <td>45</td>\n",
       "      <td>19</td>\n",
       "      <td>150</td>\n",
       "      <td>168</td>\n",
       "      <td>331</td>\n",
       "      <td>177</td>\n",
       "      <td>83</td>\n",
       "      <td>4</td>\n",
       "      <td>13</td>\n",
       "      <td>178</td>\n",
       "      <td>183</td>\n",
       "      <td>BUS</td>\n",
       "    </tr>\n",
       "    <tr>\n",
       "      <th>638</th>\n",
       "      <td>97</td>\n",
       "      <td>49</td>\n",
       "      <td>76</td>\n",
       "      <td>203</td>\n",
       "      <td>73</td>\n",
       "      <td>7</td>\n",
       "      <td>178</td>\n",
       "      <td>36</td>\n",
       "      <td>21</td>\n",
       "      <td>157</td>\n",
       "      <td>194</td>\n",
       "      <td>487</td>\n",
       "      <td>186</td>\n",
       "      <td>72</td>\n",
       "      <td>0</td>\n",
       "      <td>7</td>\n",
       "      <td>197</td>\n",
       "      <td>200</td>\n",
       "      <td>BUS</td>\n",
       "    </tr>\n",
       "    <tr>\n",
       "      <th>639</th>\n",
       "      <td>108</td>\n",
       "      <td>55</td>\n",
       "      <td>105</td>\n",
       "      <td>230</td>\n",
       "      <td>68</td>\n",
       "      <td>11</td>\n",
       "      <td>218</td>\n",
       "      <td>30</td>\n",
       "      <td>24</td>\n",
       "      <td>171</td>\n",
       "      <td>228</td>\n",
       "      <td>709</td>\n",
       "      <td>210</td>\n",
       "      <td>69</td>\n",
       "      <td>14</td>\n",
       "      <td>4</td>\n",
       "      <td>190</td>\n",
       "      <td>197</td>\n",
       "      <td>2D</td>\n",
       "    </tr>\n",
       "  </tbody>\n",
       "</table>\n",
       "</div>"
      ],
      "text/plain": [
       "     Compactness  Circularity  Distance.Circularity  Radius.Ratio  \\\n",
       "634           81           38                    53           123   \n",
       "635           97           41                    62           133   \n",
       "636           96           41                    69           153   \n",
       "637           86           44                    65           129   \n",
       "638           97           49                    76           203   \n",
       "639          108           55                   105           230   \n",
       "\n",
       "     Pr.Axis.Aspect.Ratio  Max.Length.Aspect.Ratio  Scatter.Ratio  \\\n",
       "634                    58                        6            134   \n",
       "635                    56                        7            130   \n",
       "636                    56                        7            141   \n",
       "637                    56                        6            152   \n",
       "638                    73                        7            178   \n",
       "639                    68                       11            218   \n",
       "\n",
       "     Elongatedness  Pr.Axis.Rectangularity  Max.Length.Rectangularity  \\\n",
       "634             51                      18                        128   \n",
       "635             52                      18                        143   \n",
       "636             47                      18                        141   \n",
       "637             45                      19                        150   \n",
       "638             36                      21                        157   \n",
       "639             30                      24                        171   \n",
       "\n",
       "     Scaled.Variance.Along.Major.Axis  Scaled.Variance.Along.Minor.Axis  \\\n",
       "634                               147                               259   \n",
       "635                               158                               247   \n",
       "636                               162                               297   \n",
       "637                               168                               331   \n",
       "638                               194                               487   \n",
       "639                               228                               709   \n",
       "\n",
       "     Scaled.Radius.of.Gyration  Skewness.About.Major.Axis  \\\n",
       "634                        148                         83   \n",
       "635                        157                         78   \n",
       "636                        169                         61   \n",
       "637                        177                         83   \n",
       "638                        186                         72   \n",
       "639                        210                         69   \n",
       "\n",
       "     Skewness.About.Minor.Axis  Kurtosis.About.Minor.Axis  \\\n",
       "634                         10                          6   \n",
       "635                          5                          7   \n",
       "636                         11                          8   \n",
       "637                          4                         13   \n",
       "638                          0                          7   \n",
       "639                         14                          4   \n",
       "\n",
       "     Kurtosis.About.Major.Axis  Hollows.Ratio class  \n",
       "634                        177            184    2D  \n",
       "635                        184            186   VAN  \n",
       "636                        202            209    4D  \n",
       "637                        178            183   BUS  \n",
       "638                        197            200   BUS  \n",
       "639                        190            197    2D  "
      ]
     },
     "execution_count": 16,
     "metadata": {},
     "output_type": "execute_result"
    }
   ],
   "source": [
    "test_df.head(6)\n"
   ]
  },
  {
   "cell_type": "code",
   "execution_count": 17,
   "id": "6c0e9966",
   "metadata": {},
   "outputs": [
    {
     "data": {
      "text/plain": [
       "array(['2D', 'VAN', '4D', 'BUS'], dtype=object)"
      ]
     },
     "execution_count": 17,
     "metadata": {},
     "output_type": "execute_result"
    }
   ],
   "source": [
    "test_df[\"class\"].unique()\n"
   ]
  },
  {
   "cell_type": "markdown",
   "id": "4c67bdaf",
   "metadata": {},
   "source": [
    "### 3)  KNN"
   ]
  },
  {
   "cell_type": "code",
   "execution_count": 18,
   "id": "9fdaeb60",
   "metadata": {},
   "outputs": [],
   "source": [
    "x_train_df = train_df.drop(\"class\",axis=1)\n",
    "y_train_df = train_df[\"class\"]\n",
    "\n",
    "x_test_df = test_df.drop(\"class\",axis=1)\n",
    "y_test_df = test_df[\"class\"]\n"
   ]
  },
  {
   "cell_type": "code",
   "execution_count": 19,
   "id": "0cf806d2",
   "metadata": {},
   "outputs": [],
   "source": [
    "scaler = StandardScaler()\n"
   ]
  },
  {
   "cell_type": "code",
   "execution_count": 20,
   "id": "f27c19fa",
   "metadata": {},
   "outputs": [],
   "source": [
    "scaled_X_train = scaler.fit_transform(x_train_df)\n",
    "scaled_X_test = scaler.transform(x_test_df)\n"
   ]
  },
  {
   "cell_type": "code",
   "execution_count": 21,
   "id": "ab746006",
   "metadata": {},
   "outputs": [],
   "source": [
    "knn_model = KNeighborsClassifier(n_neighbors=1)\n"
   ]
  },
  {
   "cell_type": "code",
   "execution_count": 22,
   "id": "d8303009",
   "metadata": {},
   "outputs": [
    {
     "data": {
      "text/plain": [
       "KNeighborsClassifier(n_neighbors=1)"
      ]
     },
     "execution_count": 22,
     "metadata": {},
     "output_type": "execute_result"
    }
   ],
   "source": [
    "knn_model.fit(scaled_X_train,y_train_df)\n"
   ]
  },
  {
   "cell_type": "code",
   "execution_count": 23,
   "id": "5744f208",
   "metadata": {},
   "outputs": [
    {
     "data": {
      "text/plain": [
       "array(['2D', '4D', 'BUS', 'VAN'], dtype=object)"
      ]
     },
     "execution_count": 23,
     "metadata": {},
     "output_type": "execute_result"
    }
   ],
   "source": [
    "knn_model.classes_\n"
   ]
  },
  {
   "cell_type": "markdown",
   "id": "c9a408a1",
   "metadata": {},
   "source": [
    "##  Model Evaluation"
   ]
  },
  {
   "cell_type": "code",
   "execution_count": 24,
   "id": "42bb098a",
   "metadata": {},
   "outputs": [],
   "source": [
    "y_pred = knn_model.predict(scaled_X_test)\n"
   ]
  },
  {
   "cell_type": "code",
   "execution_count": 25,
   "id": "7029f0ef",
   "metadata": {},
   "outputs": [
    {
     "data": {
      "text/plain": [
       "0.6886792452830188"
      ]
     },
     "execution_count": 25,
     "metadata": {},
     "output_type": "execute_result"
    }
   ],
   "source": [
    "accuracy_score(y_test_df,y_pred)\n"
   ]
  },
  {
   "cell_type": "markdown",
   "id": "94266aeb",
   "metadata": {},
   "source": [
    "## 3) a) Confusion_matrix"
   ]
  },
  {
   "cell_type": "code",
   "execution_count": 26,
   "id": "f1f193a5",
   "metadata": {},
   "outputs": [
    {
     "data": {
      "text/plain": [
       "array([[24, 19,  3,  2],\n",
       "       [32, 27,  0,  3],\n",
       "       [ 1,  0, 52,  0],\n",
       "       [ 2,  3,  1, 43]], dtype=int64)"
      ]
     },
     "execution_count": 26,
     "metadata": {},
     "output_type": "execute_result"
    }
   ],
   "source": [
    "confusion_matrix(y_test_df,y_pred, labels= ['2D', '4D', 'BUS', 'VAN'])\n"
   ]
  },
  {
   "cell_type": "code",
   "execution_count": 27,
   "id": "40c8f040",
   "metadata": {},
   "outputs": [
    {
     "data": {
      "text/html": [
       "<div>\n",
       "<style scoped>\n",
       "    .dataframe tbody tr th:only-of-type {\n",
       "        vertical-align: middle;\n",
       "    }\n",
       "\n",
       "    .dataframe tbody tr th {\n",
       "        vertical-align: top;\n",
       "    }\n",
       "\n",
       "    .dataframe thead th {\n",
       "        text-align: right;\n",
       "    }\n",
       "</style>\n",
       "<table border=\"1\" class=\"dataframe\">\n",
       "  <thead>\n",
       "    <tr style=\"text-align: right;\">\n",
       "      <th></th>\n",
       "      <th>2D</th>\n",
       "      <th>4D</th>\n",
       "      <th>BUS</th>\n",
       "      <th>VAN</th>\n",
       "    </tr>\n",
       "  </thead>\n",
       "  <tbody>\n",
       "    <tr>\n",
       "      <th>2D</th>\n",
       "      <td>24</td>\n",
       "      <td>19</td>\n",
       "      <td>3</td>\n",
       "      <td>2</td>\n",
       "    </tr>\n",
       "    <tr>\n",
       "      <th>4D</th>\n",
       "      <td>32</td>\n",
       "      <td>27</td>\n",
       "      <td>0</td>\n",
       "      <td>3</td>\n",
       "    </tr>\n",
       "    <tr>\n",
       "      <th>BUS</th>\n",
       "      <td>1</td>\n",
       "      <td>0</td>\n",
       "      <td>52</td>\n",
       "      <td>0</td>\n",
       "    </tr>\n",
       "    <tr>\n",
       "      <th>VAN</th>\n",
       "      <td>2</td>\n",
       "      <td>3</td>\n",
       "      <td>1</td>\n",
       "      <td>43</td>\n",
       "    </tr>\n",
       "  </tbody>\n",
       "</table>\n",
       "</div>"
      ],
      "text/plain": [
       "     2D  4D  BUS  VAN\n",
       "2D   24  19    3    2\n",
       "4D   32  27    0    3\n",
       "BUS   1   0   52    0\n",
       "VAN   2   3    1   43"
      ]
     },
     "execution_count": 27,
     "metadata": {},
     "output_type": "execute_result"
    }
   ],
   "source": [
    "df_cf_mt = pd.DataFrame(confusion_matrix(y_test_df,y_pred),columns=['2D', '4D', 'BUS', 'VAN'], index= ['2D', '4D', 'BUS', 'VAN'])\n",
    "df_cf_mt\n"
   ]
  },
  {
   "cell_type": "markdown",
   "id": "b745a7b8",
   "metadata": {},
   "source": [
    "###  It seems that the number of True prediction in \"BUS\" class is more than others,and True \n",
    "\n",
    "### prediction in\"2D\" class is less than others, so classification in Bus and Van are easier and \n",
    "\n",
    "### in 2D and 4D are harder\n"
   ]
  },
  {
   "cell_type": "markdown",
   "id": "f5f8f164",
   "metadata": {},
   "source": [
    "## 3)  b)Report misclassification rate and standard error"
   ]
  },
  {
   "cell_type": "code",
   "execution_count": 28,
   "id": "1b7ed527",
   "metadata": {},
   "outputs": [
    {
     "name": "stdout",
     "output_type": "stream",
     "text": [
      "              precision    recall  f1-score   support\n",
      "\n",
      "          2D       0.41      0.50      0.45        48\n",
      "          4D       0.55      0.44      0.49        62\n",
      "         BUS       0.93      0.98      0.95        53\n",
      "         VAN       0.90      0.88      0.89        49\n",
      "\n",
      "    accuracy                           0.69       212\n",
      "   macro avg       0.70      0.70      0.69       212\n",
      "weighted avg       0.69      0.69      0.69       212\n",
      "\n"
     ]
    }
   ],
   "source": [
    "print(classification_report(y_test_df,y_pred))\n"
   ]
  },
  {
   "cell_type": "code",
   "execution_count": 29,
   "id": "89ea1e21",
   "metadata": {},
   "outputs": [
    {
     "name": "stdout",
     "output_type": "stream",
     "text": [
      "2D missclass: 0.59 \t\t 4D missclass: 0.45 \n",
      "\n",
      " BUS missclass: 0.07 \t\t VAN missclass: 0.07\n"
     ]
    }
   ],
   "source": [
    "print(\"2D missclass:\",np.round((1-.41),2),\"\\t\\t\" ,\"4D missclass:\",\n",
    "      np.round((1-.55),2),\"\\n\\n\",\"BUS missclass:\",np.round((1-.93),2) ,\n",
    "      \"\\t\\t\",\"VAN missclass:\",np.round((1-.93),2) )\n",
    "\n"
   ]
  },
  {
   "cell_type": "code",
   "execution_count": 30,
   "id": "ab0bbe5d",
   "metadata": {},
   "outputs": [
    {
     "name": "stdout",
     "output_type": "stream",
     "text": [
      "missclassification_Standard Erorr =  0.23\n"
     ]
    }
   ],
   "source": [
    "missclassification = np.array([.59,.45,.07,.07])\n",
    "missclassification_1SE = missclassification.std()\n",
    "missclassification_1SE\n",
    "print (\"missclassification_Standard Erorr = \",np.round(missclassification_1SE,2))\n",
    "\n"
   ]
  },
  {
   "cell_type": "markdown",
   "id": "5a68eab1",
   "metadata": {},
   "source": [
    "## 4)"
   ]
  },
  {
   "cell_type": "code",
   "execution_count": 31,
   "id": "e86a6cda",
   "metadata": {},
   "outputs": [
    {
     "data": {
      "text/html": [
       "<div>\n",
       "<style scoped>\n",
       "    .dataframe tbody tr th:only-of-type {\n",
       "        vertical-align: middle;\n",
       "    }\n",
       "\n",
       "    .dataframe tbody tr th {\n",
       "        vertical-align: top;\n",
       "    }\n",
       "\n",
       "    .dataframe thead th {\n",
       "        text-align: right;\n",
       "    }\n",
       "</style>\n",
       "<table border=\"1\" class=\"dataframe\">\n",
       "  <thead>\n",
       "    <tr style=\"text-align: right;\">\n",
       "      <th></th>\n",
       "      <th>Compactness</th>\n",
       "      <th>Circularity</th>\n",
       "      <th>Distance.Circularity</th>\n",
       "      <th>Radius.Ratio</th>\n",
       "      <th>Pr.Axis.Aspect.Ratio</th>\n",
       "      <th>Max.Length.Aspect.Ratio</th>\n",
       "      <th>Scatter.Ratio</th>\n",
       "      <th>Elongatedness</th>\n",
       "      <th>Pr.Axis.Rectangularity</th>\n",
       "      <th>Max.Length.Rectangularity</th>\n",
       "      <th>Scaled.Variance.Along.Major.Axis</th>\n",
       "      <th>Scaled.Variance.Along.Minor.Axis</th>\n",
       "      <th>Scaled.Radius.of.Gyration</th>\n",
       "      <th>Skewness.About.Major.Axis</th>\n",
       "      <th>Skewness.About.Minor.Axis</th>\n",
       "      <th>Kurtosis.About.Minor.Axis</th>\n",
       "      <th>Kurtosis.About.Major.Axis</th>\n",
       "      <th>Hollows.Ratio</th>\n",
       "      <th>class</th>\n",
       "    </tr>\n",
       "  </thead>\n",
       "  <tbody>\n",
       "    <tr>\n",
       "      <th>0</th>\n",
       "      <td>95</td>\n",
       "      <td>48</td>\n",
       "      <td>83</td>\n",
       "      <td>178</td>\n",
       "      <td>72</td>\n",
       "      <td>10</td>\n",
       "      <td>162</td>\n",
       "      <td>42</td>\n",
       "      <td>20</td>\n",
       "      <td>159</td>\n",
       "      <td>176</td>\n",
       "      <td>379</td>\n",
       "      <td>184</td>\n",
       "      <td>70</td>\n",
       "      <td>6</td>\n",
       "      <td>16</td>\n",
       "      <td>187</td>\n",
       "      <td>197</td>\n",
       "      <td>VAN</td>\n",
       "    </tr>\n",
       "    <tr>\n",
       "      <th>1</th>\n",
       "      <td>91</td>\n",
       "      <td>41</td>\n",
       "      <td>84</td>\n",
       "      <td>141</td>\n",
       "      <td>57</td>\n",
       "      <td>9</td>\n",
       "      <td>149</td>\n",
       "      <td>45</td>\n",
       "      <td>19</td>\n",
       "      <td>143</td>\n",
       "      <td>170</td>\n",
       "      <td>330</td>\n",
       "      <td>158</td>\n",
       "      <td>72</td>\n",
       "      <td>9</td>\n",
       "      <td>14</td>\n",
       "      <td>189</td>\n",
       "      <td>199</td>\n",
       "      <td>VAN</td>\n",
       "    </tr>\n",
       "    <tr>\n",
       "      <th>2</th>\n",
       "      <td>104</td>\n",
       "      <td>50</td>\n",
       "      <td>106</td>\n",
       "      <td>209</td>\n",
       "      <td>66</td>\n",
       "      <td>10</td>\n",
       "      <td>207</td>\n",
       "      <td>32</td>\n",
       "      <td>23</td>\n",
       "      <td>158</td>\n",
       "      <td>223</td>\n",
       "      <td>635</td>\n",
       "      <td>220</td>\n",
       "      <td>73</td>\n",
       "      <td>14</td>\n",
       "      <td>9</td>\n",
       "      <td>188</td>\n",
       "      <td>196</td>\n",
       "      <td>4D</td>\n",
       "    </tr>\n",
       "    <tr>\n",
       "      <th>3</th>\n",
       "      <td>93</td>\n",
       "      <td>41</td>\n",
       "      <td>82</td>\n",
       "      <td>159</td>\n",
       "      <td>63</td>\n",
       "      <td>9</td>\n",
       "      <td>144</td>\n",
       "      <td>46</td>\n",
       "      <td>19</td>\n",
       "      <td>143</td>\n",
       "      <td>160</td>\n",
       "      <td>309</td>\n",
       "      <td>127</td>\n",
       "      <td>63</td>\n",
       "      <td>6</td>\n",
       "      <td>10</td>\n",
       "      <td>199</td>\n",
       "      <td>207</td>\n",
       "      <td>VAN</td>\n",
       "    </tr>\n",
       "    <tr>\n",
       "      <th>4</th>\n",
       "      <td>85</td>\n",
       "      <td>44</td>\n",
       "      <td>70</td>\n",
       "      <td>205</td>\n",
       "      <td>103</td>\n",
       "      <td>52</td>\n",
       "      <td>149</td>\n",
       "      <td>45</td>\n",
       "      <td>19</td>\n",
       "      <td>144</td>\n",
       "      <td>241</td>\n",
       "      <td>325</td>\n",
       "      <td>188</td>\n",
       "      <td>127</td>\n",
       "      <td>9</td>\n",
       "      <td>11</td>\n",
       "      <td>180</td>\n",
       "      <td>183</td>\n",
       "      <td>BUS</td>\n",
       "    </tr>\n",
       "  </tbody>\n",
       "</table>\n",
       "</div>"
      ],
      "text/plain": [
       "   Compactness  Circularity  Distance.Circularity  Radius.Ratio  \\\n",
       "0           95           48                    83           178   \n",
       "1           91           41                    84           141   \n",
       "2          104           50                   106           209   \n",
       "3           93           41                    82           159   \n",
       "4           85           44                    70           205   \n",
       "\n",
       "   Pr.Axis.Aspect.Ratio  Max.Length.Aspect.Ratio  Scatter.Ratio  \\\n",
       "0                    72                       10            162   \n",
       "1                    57                        9            149   \n",
       "2                    66                       10            207   \n",
       "3                    63                        9            144   \n",
       "4                   103                       52            149   \n",
       "\n",
       "   Elongatedness  Pr.Axis.Rectangularity  Max.Length.Rectangularity  \\\n",
       "0             42                      20                        159   \n",
       "1             45                      19                        143   \n",
       "2             32                      23                        158   \n",
       "3             46                      19                        143   \n",
       "4             45                      19                        144   \n",
       "\n",
       "   Scaled.Variance.Along.Major.Axis  Scaled.Variance.Along.Minor.Axis  \\\n",
       "0                               176                               379   \n",
       "1                               170                               330   \n",
       "2                               223                               635   \n",
       "3                               160                               309   \n",
       "4                               241                               325   \n",
       "\n",
       "   Scaled.Radius.of.Gyration  Skewness.About.Major.Axis  \\\n",
       "0                        184                         70   \n",
       "1                        158                         72   \n",
       "2                        220                         73   \n",
       "3                        127                         63   \n",
       "4                        188                        127   \n",
       "\n",
       "   Skewness.About.Minor.Axis  Kurtosis.About.Minor.Axis  \\\n",
       "0                          6                         16   \n",
       "1                          9                         14   \n",
       "2                         14                          9   \n",
       "3                          6                         10   \n",
       "4                          9                         11   \n",
       "\n",
       "   Kurtosis.About.Major.Axis  Hollows.Ratio class  \n",
       "0                        187            197   VAN  \n",
       "1                        189            199   VAN  \n",
       "2                        188            196    4D  \n",
       "3                        199            207   VAN  \n",
       "4                        180            183   BUS  "
      ]
     },
     "execution_count": 31,
     "metadata": {},
     "output_type": "execute_result"
    }
   ],
   "source": [
    "\n",
    "df1.head()\n"
   ]
  },
  {
   "cell_type": "code",
   "execution_count": 32,
   "id": "26d2e00c",
   "metadata": {},
   "outputs": [],
   "source": [
    "X = df1.drop('class',axis=1)\n",
    "y = df1['class']\n"
   ]
  },
  {
   "cell_type": "code",
   "execution_count": 33,
   "id": "c26b0719",
   "metadata": {},
   "outputs": [],
   "source": [
    "X_train, X_test, y_train, y_test = train_test_split(X, y, test_size= 0.3, random_state=9910314)\n"
   ]
  },
  {
   "cell_type": "code",
   "execution_count": 34,
   "id": "a9da929d",
   "metadata": {},
   "outputs": [],
   "source": [
    "scaler = StandardScaler()\n"
   ]
  },
  {
   "cell_type": "code",
   "execution_count": 35,
   "id": "6c1ad1d2",
   "metadata": {},
   "outputs": [],
   "source": [
    "knn = KNeighborsClassifier()\n"
   ]
  },
  {
   "cell_type": "code",
   "execution_count": 36,
   "id": "2c54ee73",
   "metadata": {},
   "outputs": [
    {
     "data": {
      "text/plain": [
       "dict_keys(['algorithm', 'leaf_size', 'metric', 'metric_params', 'n_jobs', 'n_neighbors', 'p', 'weights'])"
      ]
     },
     "execution_count": 36,
     "metadata": {},
     "output_type": "execute_result"
    }
   ],
   "source": [
    "knn.get_params().keys()\n"
   ]
  },
  {
   "cell_type": "code",
   "execution_count": 37,
   "id": "dc23a270",
   "metadata": {},
   "outputs": [],
   "source": [
    "#Highly recommend string code matches variable name!\n",
    "operations = [('scaler',scaler),('knn',knn)]\n"
   ]
  },
  {
   "cell_type": "code",
   "execution_count": 38,
   "id": "8cd9e03f",
   "metadata": {},
   "outputs": [],
   "source": [
    "pipe = Pipeline(operations)\n"
   ]
  },
  {
   "cell_type": "code",
   "execution_count": 39,
   "id": "e8210d7e",
   "metadata": {},
   "outputs": [],
   "source": [
    "# Note: If your parameter grid is going inside a PipeLine, your parameter name needs to\n",
    "#be specified in the following manner:*\n",
    "\n",
    "#     chosen_string_name + two underscores + parameter key name\n",
    "#     model_name + __ + parameter name\n",
    "#     knn_model + __ + n_neighbors\n",
    "#     knn_model__n_neighbors\n",
    "\n",
    "# StackOverflow on this\n",
    "\n",
    "# The reason we have to do this is because it let's scikit-learn know\n",
    "# what operation in the pipeline these parameters are related to \n",
    "# (otherwise it might think n_neighbors was a parameter in the scaler)."
   ]
  },
  {
   "cell_type": "code",
   "execution_count": 66,
   "id": "b8756316",
   "metadata": {},
   "outputs": [
    {
     "name": "stdout",
     "output_type": "stream",
     "text": [
      "[1, 2, 3, 4, 5, 6, 7, 8, 9, 10, 11, 12, 13, 14, 15, 16, 17, 18, 19, 20, 21, 22, 23, 24, 25, 26, 27, 28, 29, 30, 31, 32, 33, 34, 35, 36, 37, 38, 39, 40]\n"
     ]
    }
   ],
   "source": [
    "k_values = list(range(1,41))\n",
    "print(k_values)\n"
   ]
  },
  {
   "cell_type": "code",
   "execution_count": 42,
   "id": "39f96d4d",
   "metadata": {},
   "outputs": [],
   "source": [
    "param_grid = {'knn__n_neighbors': k_values}\n"
   ]
  },
  {
   "cell_type": "code",
   "execution_count": 43,
   "id": "7d0fda7f",
   "metadata": {},
   "outputs": [],
   "source": [
    "full_cv_classifier = GridSearchCV(pipe, param_grid, cv= 5, scoring= 'accuracy')\n"
   ]
  },
  {
   "cell_type": "code",
   "execution_count": 44,
   "id": "1a77c76e",
   "metadata": {},
   "outputs": [
    {
     "data": {
      "text/plain": [
       "GridSearchCV(cv=5,\n",
       "             estimator=Pipeline(steps=[('scaler', StandardScaler()),\n",
       "                                       ('knn', KNeighborsClassifier())]),\n",
       "             param_grid={'knn__n_neighbors': [1, 2, 3, 4, 5, 6, 7, 8, 9, 10, 11,\n",
       "                                              12, 13, 14, 15, 16, 17, 18, 19,\n",
       "                                              20, 21, 22, 23, 24, 25, 26, 27,\n",
       "                                              28, 29, 30, ...]},\n",
       "             scoring='accuracy')"
      ]
     },
     "execution_count": 44,
     "metadata": {},
     "output_type": "execute_result"
    }
   ],
   "source": [
    "full_cv_classifier.fit(X_train,y_train)\n"
   ]
  },
  {
   "cell_type": "code",
   "execution_count": 45,
   "id": "6915f3f4",
   "metadata": {},
   "outputs": [
    {
     "data": {
      "text/plain": [
       "Pipeline(steps=[('scaler', StandardScaler()),\n",
       "                ('knn', KNeighborsClassifier(n_neighbors=9))])"
      ]
     },
     "execution_count": 45,
     "metadata": {},
     "output_type": "execute_result"
    }
   ],
   "source": [
    "full_cv_classifier.best_estimator_\n"
   ]
  },
  {
   "cell_type": "code",
   "execution_count": 46,
   "id": "5c4f3460",
   "metadata": {},
   "outputs": [],
   "source": [
    "#full_cv_classifier.cv_results_"
   ]
  },
  {
   "cell_type": "code",
   "execution_count": 47,
   "id": "94db591a",
   "metadata": {},
   "outputs": [],
   "source": [
    "#full_cv_classifier.best_estimator_.get_params()"
   ]
  },
  {
   "cell_type": "code",
   "execution_count": 48,
   "id": "580f4454",
   "metadata": {},
   "outputs": [
    {
     "data": {
      "text/plain": [
       "dict_keys(['mean_fit_time', 'std_fit_time', 'mean_score_time', 'std_score_time', 'param_knn__n_neighbors', 'params', 'split0_test_score', 'split1_test_score', 'split2_test_score', 'split3_test_score', 'split4_test_score', 'mean_test_score', 'std_test_score', 'rank_test_score'])"
      ]
     },
     "execution_count": 48,
     "metadata": {},
     "output_type": "execute_result"
    }
   ],
   "source": [
    "full_cv_classifier.cv_results_.keys()\n"
   ]
  },
  {
   "cell_type": "code",
   "execution_count": 49,
   "id": "6228811c",
   "metadata": {},
   "outputs": [],
   "source": [
    "# Let's check our understanding:\n",
    "# **How many total runs did we do?**\n",
    "\n"
   ]
  },
  {
   "cell_type": "code",
   "execution_count": 50,
   "id": "d691ef16",
   "metadata": {},
   "outputs": [
    {
     "data": {
      "text/plain": [
       "40"
      ]
     },
     "execution_count": 50,
     "metadata": {},
     "output_type": "execute_result"
    }
   ],
   "source": [
    "len(k_values)\n"
   ]
  },
  {
   "cell_type": "markdown",
   "id": "8f1b827c",
   "metadata": {},
   "source": [
    "## 4) a - Plot"
   ]
  },
  {
   "cell_type": "code",
   "execution_count": 129,
   "id": "2d6fa7e2",
   "metadata": {},
   "outputs": [
    {
     "data": {
      "image/png": "[encoded data removed]",
      "text/plain": [
       "<Figure size 2000x1200 with 1 Axes>"
      ]
     },
     "metadata": {},
     "output_type": "display_data"
    }
   ],
   "source": [
    "plt.figure(figsize=(10,6),dpi=200)\n",
    "plt.plot(np.arange(1,41),full_cv_classifier.cv_results_['mean_test_score'],label='mean_test_score')\n",
    "plt.legend()\n",
    "plt.xticks(np.arange(1,41, step = 2))\n",
    "plt.annotate('Best Score, K= 9',xy=(7,0.714))\n",
    "plt.scatter(9, 0.713, c= 'red', marker ='s')\n",
    "plt.ylabel('mean_test_score')\n",
    "plt.xlabel(\"K Value\")\n",
    "plt.show()\n"
   ]
  },
  {
   "cell_type": "markdown",
   "id": "b131f525",
   "metadata": {},
   "source": [
    "## We just saw that our  GridSearch recommends a K=9 Neighbors\n"
   ]
  },
  {
   "cell_type": "markdown",
   "id": "254684a7",
   "metadata": {},
   "source": [
    "## 4) b"
   ]
  },
  {
   "cell_type": "code",
   "execution_count": 52,
   "id": "bfbd001a",
   "metadata": {},
   "outputs": [
    {
     "data": {
      "text/plain": [
       "array([0.67745335, 0.66725538, 0.70102549, 0.68916109, 0.69766415,\n",
       "       0.67893462, 0.69426008, 0.69418886, 0.71280444, 0.69421735,\n",
       "       0.69762142, 0.68410483, 0.68246689, 0.6790913 , 0.68080046,\n",
       "       0.67733941, 0.68581399, 0.68920382, 0.6841618 , 0.6909557 ,\n",
       "       0.6841618 , 0.66724113, 0.68074348, 0.67902008, 0.6875089 ,\n",
       "       0.66890756, 0.67231164, 0.66718416, 0.67906281, 0.67561601,\n",
       "       0.67226891, 0.67900584, 0.67054551, 0.66039026, 0.65701467,\n",
       "       0.66043299, 0.6637516 , 0.65536248, 0.6519869 , 0.64859707])"
      ]
     },
     "execution_count": 52,
     "metadata": {},
     "output_type": "execute_result"
    }
   ],
   "source": [
    "full_cv_classifier.cv_results_['mean_test_score']\n"
   ]
  },
  {
   "cell_type": "code",
   "execution_count": 53,
   "id": "dbb6a4d7",
   "metadata": {},
   "outputs": [
    {
     "name": "stdout",
     "output_type": "stream",
     "text": [
      "1 SE of  CV result is : 0.014\n"
     ]
    }
   ],
   "source": [
    "# Calculating 1 SE of the results from CV.\n",
    "\n",
    "print('1 SE of  CV result is : %.3f' %full_cv_classifier.cv_results_['mean_test_score'].std())\n"
   ]
  },
  {
   "cell_type": "code",
   "execution_count": 54,
   "id": "6e720dfe",
   "metadata": {},
   "outputs": [
    {
     "name": "stdout",
     "output_type": "stream",
     "text": [
      "Best result: 0.713\n",
      "Index of best result is : 8\n"
     ]
    }
   ],
   "source": [
    "# Finding the Best Result from CV\n",
    "\n",
    "print('Best result: %.3f' %full_cv_classifier.best_score_)\n",
    "print('Index of best result is :', full_cv_classifier.best_index_)\n"
   ]
  },
  {
   "cell_type": "code",
   "execution_count": 55,
   "id": "12075aec",
   "metadata": {},
   "outputs": [
    {
     "name": "stdout",
     "output_type": "stream",
     "text": [
      "Best result - 1 SE = 0.699\n",
      "The nearest point to calculated point in result array is index 3 : 0.70102549 with K= 3\n"
     ]
    }
   ],
   "source": [
    "# Finding the Number of Neighbors according to 1 SE from best reslut\n",
    "\n",
    "print('Best result - 1 SE = %.3f' %(0.713- 0.014))\n",
    "\n",
    "print('The nearest point to calculated point in result array is index 3 : 0.70102549 with K= 3')\n"
   ]
  },
  {
   "cell_type": "markdown",
   "id": "9db39cfd",
   "metadata": {},
   "source": [
    "### Let's  now use the PipeLine again, but this time, no need to do a grid search, \n",
    "### instead we will evaluate on our hold-out Test Set with K= 9 and K= 3 Neighbors"
   ]
  },
  {
   "cell_type": "markdown",
   "id": "b21817a2",
   "metadata": {},
   "source": [
    "### 4) C"
   ]
  },
  {
   "cell_type": "code",
   "execution_count": 78,
   "id": "be2053bb",
   "metadata": {},
   "outputs": [],
   "source": [
    "scaler = StandardScaler()"
   ]
  },
  {
   "cell_type": "code",
   "execution_count": 79,
   "id": "9b251f5e",
   "metadata": {},
   "outputs": [],
   "source": [
    "knn9 = KNeighborsClassifier(n_neighbors= 9)\n",
    "operations = [('scaler',scaler),('knn9',knn9)]\n"
   ]
  },
  {
   "cell_type": "code",
   "execution_count": 80,
   "id": "3cac0d58",
   "metadata": {},
   "outputs": [],
   "source": [
    "pipe = Pipeline(operations)"
   ]
  },
  {
   "cell_type": "code",
   "execution_count": 81,
   "id": "23073834",
   "metadata": {},
   "outputs": [
    {
     "data": {
      "text/plain": [
       "Pipeline(steps=[('scaler', StandardScaler()),\n",
       "                ('knn9', KNeighborsClassifier(n_neighbors=9))])"
      ]
     },
     "execution_count": 81,
     "metadata": {},
     "output_type": "execute_result"
    }
   ],
   "source": [
    "pipe.fit(X_train, y_train)"
   ]
  },
  {
   "cell_type": "code",
   "execution_count": 82,
   "id": "59f01bfa",
   "metadata": {},
   "outputs": [],
   "source": [
    "pipe_pred = pipe.predict(X_test)"
   ]
  },
  {
   "cell_type": "code",
   "execution_count": 83,
   "id": "c5e25560",
   "metadata": {},
   "outputs": [
    {
     "name": "stdout",
     "output_type": "stream",
     "text": [
      "              precision    recall  f1-score   support\n",
      "\n",
      "          2D       0.61      0.40      0.48        78\n",
      "          4D       0.50      0.58      0.54        59\n",
      "         BUS       0.89      0.96      0.92        57\n",
      "         VAN       0.78      0.95      0.86        60\n",
      "\n",
      "    accuracy                           0.70       254\n",
      "   macro avg       0.69      0.72      0.70       254\n",
      "weighted avg       0.69      0.70      0.68       254\n",
      "\n"
     ]
    }
   ],
   "source": [
    "# Missclassification with K= 9\n",
    "\n",
    "print(classification_report(y_test,pipe_pred))"
   ]
  },
  {
   "cell_type": "code",
   "execution_count": 113,
   "id": "d9341d3f",
   "metadata": {},
   "outputs": [],
   "source": [
    "knn3 = KNeighborsClassifier(n_neighbors= 3)\n",
    "operations = [('scaler',scaler),('knn3',knn3)]\n",
    "pipe = Pipeline(operations)"
   ]
  },
  {
   "cell_type": "code",
   "execution_count": 114,
   "id": "53a3e445",
   "metadata": {},
   "outputs": [
    {
     "data": {
      "text/plain": [
       "Pipeline(steps=[('scaler', StandardScaler()),\n",
       "                ('knn3', KNeighborsClassifier(n_neighbors=3))])"
      ]
     },
     "execution_count": 114,
     "metadata": {},
     "output_type": "execute_result"
    }
   ],
   "source": [
    "pipe.fit(X_train,y_train)\n"
   ]
  },
  {
   "cell_type": "code",
   "execution_count": 115,
   "id": "9809a0e0",
   "metadata": {},
   "outputs": [
    {
     "name": "stdout",
     "output_type": "stream",
     "text": [
      "              precision    recall  f1-score   support\n",
      "\n",
      "          2D       0.58      0.49      0.53        78\n",
      "          4D       0.49      0.58      0.53        59\n",
      "         BUS       0.95      0.95      0.95        57\n",
      "         VAN       0.85      0.88      0.87        60\n",
      "\n",
      "    accuracy                           0.70       254\n",
      "   macro avg       0.72      0.72      0.72       254\n",
      "weighted avg       0.71      0.70      0.70       254\n",
      "\n"
     ]
    }
   ],
   "source": [
    "# Missclassification with K= 3\n",
    "\n",
    "\n",
    "pipe_pred = pipe.predict(X_test)\n",
    "print(classification_report(y_test,pipe_pred))"
   ]
  },
  {
   "cell_type": "code",
   "execution_count": 89,
   "id": "293770f7",
   "metadata": {},
   "outputs": [
    {
     "data": {
      "text/plain": [
       "KNeighborsClassifier(n_neighbors=3)"
      ]
     },
     "execution_count": 89,
     "metadata": {},
     "output_type": "execute_result"
    }
   ],
   "source": [
    "knn3.fit(scaled_X_train,y_train_df)"
   ]
  },
  {
   "cell_type": "code",
   "execution_count": 107,
   "id": "f2b5de4a",
   "metadata": {},
   "outputs": [
    {
     "name": "stdout",
     "output_type": "stream",
     "text": [
      "Shape of Predictions:      (212,)\n",
      "Shape of test data labels: (212,)\n"
     ]
    }
   ],
   "source": [
    "y_pred3 = knn3.predict(scaled_X_test)\n",
    "print('Shape of Predictions:     ',y_pred3.shape)\n",
    "print('Shape of test data labels:',y_test_df.shape)\n"
   ]
  },
  {
   "cell_type": "code",
   "execution_count": 110,
   "id": "d650e165",
   "metadata": {},
   "outputs": [
    {
     "data": {
      "text/plain": [
       "0.7028301886792453"
      ]
     },
     "execution_count": 110,
     "metadata": {},
     "output_type": "execute_result"
    }
   ],
   "source": [
    "knn3.score(scaled_X_test, y_test_df)\n"
   ]
  },
  {
   "cell_type": "code",
   "execution_count": 111,
   "id": "a65a3553",
   "metadata": {},
   "outputs": [
    {
     "data": {
      "text/plain": [
       "0.7594339622641509"
      ]
     },
     "execution_count": 111,
     "metadata": {},
     "output_type": "execute_result"
    }
   ],
   "source": [
    "knn9.score(scaled_X_test, y_test_df)"
   ]
  },
  {
   "cell_type": "markdown",
   "id": "bf87a8fd",
   "metadata": {},
   "source": [
    "**Score of KNN with K=9 is 0.75**\n",
    "\n",
    "**Score of KNN with K=3 is 0.70**"
   ]
  },
  {
   "cell_type": "code",
   "execution_count": null,
   "id": "f978fcc1",
   "metadata": {},
   "outputs": [],
   "source": []
  }
 ],
 "metadata": {
  "kernelspec": {
   "display_name": "Python 3",
   "language": "python",
   "name": "python3"
  },
  "language_info": {
   "codemirror_mode": {
    "name": "ipython",
    "version": 3
   },
   "file_extension": ".py",
   "mimetype": "text/x-python",
   "name": "python",
   "nbconvert_exporter": "python",
   "pygments_lexer": "ipython3",
   "version": "3.9.6"
  }
 },
 "nbformat": 4,
 "nbformat_minor": 5
}
