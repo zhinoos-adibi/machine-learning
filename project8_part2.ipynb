{
 "cells": [
  {
   "cell_type": "markdown",
   "id": "f6f684cd",
   "metadata": {},
   "source": [
    "# Assignmen8_part2"
   ]
  },
  {
   "cell_type": "markdown",
   "id": "2173aa61",
   "metadata": {},
   "source": [
    "## Ozone Data"
   ]
  },
  {
   "cell_type": "code",
   "execution_count": 2,
   "id": "c410f765",
   "metadata": {},
   "outputs": [],
   "source": [
    "import numpy as np\n",
    "import pandas as pd\n",
    "from sklearn import linear_model\n",
    "from sklearn.linear_model import Ridge, RidgeCV, Lasso, LassoCV\n",
    "from sklearn.preprocessing import StandardScaler\n",
    "from sklearn.model_selection import train_test_split, RepeatedKFold, cross_val_score, GridSearchCV\n",
    "#import statsmodels.formula.api as smf\n",
    "import statsmodels.api as sm\n",
    "from sklearn.metrics import mean_squared_error\n",
    "import matplotlib.pyplot as plt\n",
    "import seaborn as sns\n",
    "from sklearn.decomposition import PCA\n",
    "from sklearn.cross_decomposition import PLSRegression\n",
    "from sklearn.pipeline import Pipeline"
   ]
  },
  {
   "cell_type": "code",
   "execution_count": 5,
   "id": "5e8521c4",
   "metadata": {},
   "outputs": [
    {
     "data": {
      "text/html": [
       "<div>\n",
       "<style scoped>\n",
       "    .dataframe tbody tr th:only-of-type {\n",
       "        vertical-align: middle;\n",
       "    }\n",
       "\n",
       "    .dataframe tbody tr th {\n",
       "        vertical-align: top;\n",
       "    }\n",
       "\n",
       "    .dataframe thead th {\n",
       "        text-align: right;\n",
       "    }\n",
       "</style>\n",
       "<table border=\"1\" class=\"dataframe\">\n",
       "  <thead>\n",
       "    <tr style=\"text-align: right;\">\n",
       "      <th></th>\n",
       "      <th>Ozone</th>\n",
       "      <th>Solar.R</th>\n",
       "      <th>Wind</th>\n",
       "      <th>Temp</th>\n",
       "    </tr>\n",
       "  </thead>\n",
       "  <tbody>\n",
       "    <tr>\n",
       "      <th>0</th>\n",
       "      <td>41.0</td>\n",
       "      <td>190.0</td>\n",
       "      <td>7.4</td>\n",
       "      <td>67</td>\n",
       "    </tr>\n",
       "    <tr>\n",
       "      <th>1</th>\n",
       "      <td>36.0</td>\n",
       "      <td>118.0</td>\n",
       "      <td>8.0</td>\n",
       "      <td>72</td>\n",
       "    </tr>\n",
       "    <tr>\n",
       "      <th>2</th>\n",
       "      <td>12.0</td>\n",
       "      <td>149.0</td>\n",
       "      <td>12.6</td>\n",
       "      <td>74</td>\n",
       "    </tr>\n",
       "    <tr>\n",
       "      <th>3</th>\n",
       "      <td>18.0</td>\n",
       "      <td>313.0</td>\n",
       "      <td>11.5</td>\n",
       "      <td>62</td>\n",
       "    </tr>\n",
       "    <tr>\n",
       "      <th>4</th>\n",
       "      <td>NaN</td>\n",
       "      <td>NaN</td>\n",
       "      <td>14.3</td>\n",
       "      <td>56</td>\n",
       "    </tr>\n",
       "  </tbody>\n",
       "</table>\n",
       "</div>"
      ],
      "text/plain": [
       "   Ozone  Solar.R  Wind  Temp\n",
       "0   41.0    190.0   7.4    67\n",
       "1   36.0    118.0   8.0    72\n",
       "2   12.0    149.0  12.6    74\n",
       "3   18.0    313.0  11.5    62\n",
       "4    NaN      NaN  14.3    56"
      ]
     },
     "execution_count": 5,
     "metadata": {},
     "output_type": "execute_result"
    }
   ],
   "source": [
    "df_airquality = pd.read_csv('airquality.csv',usecols = ['Ozone','Solar.R','Wind','Temp'])\n",
    "df_airquality.head()\n"
   ]
  },
  {
   "cell_type": "code",
   "execution_count": 6,
   "id": "42cfffbc",
   "metadata": {},
   "outputs": [
    {
     "name": "stdout",
     "output_type": "stream",
     "text": [
      "Ozone      False\n",
      "Solar.R    False\n",
      "Wind       False\n",
      "Temp       False\n",
      "TWcp       False\n",
      "TWrat      False\n",
      "dtype: bool\n",
      "     Ozone  Solar.R  Wind  Temp    TWcp  TWrat  CV\n",
      "0     41.0    190.0   7.4    67   495.8   9.05   5\n",
      "1     36.0    118.0   8.0    72   576.0   9.00   0\n",
      "2     12.0    149.0  12.6    74   932.4   5.87   4\n",
      "3     18.0    313.0  11.5    62   713.0   5.39   1\n",
      "6     23.0    299.0   8.6    65   559.0   7.56   4\n",
      "..     ...      ...   ...   ...     ...    ...  ..\n",
      "147   14.0     20.0  16.6    63  1045.8   3.80   3\n",
      "148   30.0    193.0   6.9    70   483.0  10.14   3\n",
      "150   14.0    191.0  14.3    75  1072.5   5.24   9\n",
      "151   18.0    131.0   8.0    76   608.0   9.50   7\n",
      "152   20.0    223.0  11.5    68   782.0   5.91   7\n",
      "\n",
      "[111 rows x 7 columns]\n",
      "\n",
      "\n",
      " Value Counts of Integers for Manual cross validation:\n",
      " 0    11\n",
      "1    13\n",
      "2     8\n",
      "3    11\n",
      "4    12\n",
      "5    13\n",
      "6     8\n",
      "7    13\n",
      "8    12\n",
      "9    10\n",
      "Name: CV, dtype: int64\n"
     ]
    }
   ],
   "source": [
    "df_airquality['TWcp'] = np.round(df_airquality['Temp']* df_airquality['Wind'],2)\n",
    "df_airquality['TWrat'] = np.round(df_airquality['Temp']/ df_airquality['Wind'],2)\n",
    "\n",
    "df_airquality = df_airquality.dropna()\n",
    "\n",
    "print(df_airquality.isna().any())\n",
    "# print(df_airquality.head())\n",
    "\n",
    "df_airquality['CV'] = np.random.randint(low= 0, high= 10, size =(df_airquality.shape[0],))\n",
    "print(df_airquality)\n",
    "\n",
    "print('\\n\\n Value Counts of Integers for Manual cross validation:\\n',df_airquality.CV.value_counts().sort_index())"
   ]
  },
  {
   "cell_type": "code",
   "execution_count": 7,
   "id": "ac0f2ee1",
   "metadata": {},
   "outputs": [
    {
     "name": "stdout",
     "output_type": "stream",
     "text": [
      "Ridge_MSPE:  [272.12249497449005, 365.3761958858161, 616.2533234105116, 331.3925263729171, 308.221476772703, 385.5673644931357, 207.0781492245225, 537.8591648101213, 866.6278077018219, 410.83575693795467] \n",
      "\n",
      "\n",
      "LASSO_MSPE:  [275.35853778759025, 392.5729149174421, 630.6096255985573, 328.1519369867405, 321.16291521454656, 374.43307760769983, 204.11162049968843, 515.4143188651221, 807.3899315149029, 406.4035027912551] \n",
      "\n",
      "\n",
      "LASSO_NFeat:  [4, 4, 3, 4, 4, 4, 4, 3, 4, 4] \n",
      "\n",
      "\n",
      "PCR_MSPE:  [320.8299642009357, 642.9294416410002, 453.1969777591637, 340.01777041408525, 318.7936049554342, 393.8226099105107, 212.24175344633315, 336.2444978551917, 1011.3182042023521, 533.8118801986841] \n",
      "\n",
      "\n",
      "PCR_NCopm:  [1, 1, 2, 4, 2, 4, 4, 2, 1, 1] \n",
      "\n",
      "\n",
      "MSPE_PLS:  [279.3212586192979, 509.999472284401, 498.76299994411545, 336.1680893007437, 320.50400955349755, 432.63584160195455, 210.51233571201044, 462.59544511607663, 725.536541811181, 482.7485581814576] \n",
      "\n",
      "\n",
      "PLS_Number_of_Comp:  [1, 1, 1, 4, 2, 1, 4, 1, 4, 1]\n"
     ]
    }
   ],
   "source": [
    "PLS_Number_of_Comp =[]\n",
    "MSPE_PLS = []\n",
    "\n",
    "Ridge_MSPE = []\n",
    "LASSO_MSPE = []\n",
    "LASSO_NFeat = []\n",
    "PCR_MSPE = []\n",
    "PCR_NCopm = []\n",
    "\n",
    "for i in range(10):\n",
    "    df_train = df_airquality[df_airquality.CV != i]\n",
    "    df_test = df_airquality[df_airquality.CV == i]\n",
    "    \n",
    "#     df_train.reset_index(inplace= True)\n",
    "#     df_test.reset_index(inplace= True)\n",
    "    \n",
    "    X_train = df_train.drop(['Ozone', 'CV'] ,axis=1)\n",
    "    y_train = df_train['Ozone']\n",
    "    \n",
    "    X_test =  df_test.drop(['Ozone', 'CV'],axis=1)\n",
    "    y_test = df_test['Ozone']\n",
    "        \n",
    "    std_scale = StandardScaler().fit(X_train)\n",
    "    X_train_std = std_scale.transform(X_train)\n",
    "    X_test_std  = std_scale.transform(X_test)\n",
    "    \n",
    "    CV10 = RepeatedKFold(n_splits= 10, n_repeats= 1, random_state=1)\n",
    "    \n",
    "    # Ridge\n",
    "    LMRidgeCV = RidgeCV(alphas=np.arange(0.5, 2, 0.01), cv=CV10, scoring='neg_mean_squared_error')\n",
    "    LMRidgeCV.fit(X_train_std, y_train)\n",
    "    LMRidge = Ridge(alpha = LMRidgeCV.alpha_)\n",
    "    LMRidge.fit(X_train_std, y_train)\n",
    "    Ridge_MSPE.append(mean_squared_error(y_test, LMRidge.predict(X_test_std)))\n",
    "    \n",
    "    #Lasso\n",
    "    LMLassoCV = LassoCV(alphas = np.arange(0.5, 2, 0.01), cv = CV10, max_iter = 1000)\n",
    "    LMLassoCV.fit(X_train_std, y_train)\n",
    "    LMLasso = Lasso(max_iter = 10000)\n",
    "    LMLasso.set_params(alpha=LMLassoCV.alpha_)\n",
    "    LMLasso.fit(X_train_std, y_train)\n",
    "    LASSO_MSPE.append(mean_squared_error(y_test, LMLasso.predict(X_test_std)))\n",
    "    LASSO_NFeat.append(len(LMLasso.coef_) - sum(LMLasso.coef_ == 0))\n",
    "    \n",
    "    # PCR\n",
    "    pca = PCA()\n",
    "    LModel = linear_model.LinearRegression()\n",
    "    for pcr_train_index, pcr_test_index in CV10.split(X_train_std):\n",
    "        pcr_X_train, pcr_X_test = X_train_std[pcr_train_index], X_train_std[pcr_test_index]\n",
    "        pcr_y_train, pcr_y_test = y_train.iloc[pcr_train_index], y_train.iloc[pcr_test_index]\n",
    "        \n",
    "        PCs_train = pca.fit_transform(pcr_X_train)\n",
    "        PCs_test = pca.transform(pcr_X_test)\n",
    "        PCR_MSPE_train = []\n",
    "        \n",
    "        for j in range(1, 5):\n",
    "            LModel.fit(PCs_train[:,:j], pcr_y_train)\n",
    "            PCR_MSPE_train.append(mean_squared_error(pcr_y_test, LModel.predict(PCs_test[:,:j])))\n",
    "\n",
    "    PCR_NCopm.append(np.argmin(PCR_MSPE_train) + 1)\n",
    "\n",
    "    PCs_train = pca.fit_transform(X_train_std)\n",
    "    PCs_test = pca.transform(X_test_std)\n",
    "\n",
    "    LModel.fit(PCs_train[:,:PCR_NCopm[i]], y_train)\n",
    "    PCR_MSPE.append(mean_squared_error(y_test, LModel.predict(PCs_test[:,:PCR_NCopm[i]])))\n",
    "\n",
    "\n",
    "\n",
    "    for pls_train_index, pls_test_index in CV10.split(X_train_std): \n",
    "\n",
    "        X_train_pls, X_test_pls = X_train_std[pls_train_index], X_train_std[pls_test_index]\n",
    "        y_train_pls, y_test_pls = y_train.iloc[pls_train_index], y_train.iloc[pls_test_index]\n",
    "        MSPE_train = []\n",
    "        \n",
    "        for m in range(1, 5):\n",
    "            plsr = PLSRegression(n_components= m, scale=False)\n",
    "            plsr.fit(X_train_pls, y_train_pls)\n",
    "            MSPE_train.append(mean_squared_error(y_test_pls, plsr.predict(X_test_pls)))\n",
    "        \n",
    "    PLS_Number_of_Comp.append(np.argmin(MSPE_train) + 1)\n",
    "    plsr = PLSRegression(n_components=PLS_Number_of_Comp[i], scale=False)\n",
    "    \n",
    "    plsr.fit(X_train_std, y_train)\n",
    "    MSPE_PLS.append(mean_squared_error(y_test, plsr.predict(X_test_std)))\n",
    "\n",
    "# print('MSPE_PLS', np.round(MSPE_PLS, 2))                                                                             \n",
    "# print('\\n\\nPLS Number of Components:', PLS_Number_of_Comp)\n",
    "\n",
    "# print('\\n\\nPCA Number of Components:', PCR_NCopm)\n",
    "\n",
    "\n",
    "print(\"Ridge_MSPE: \",Ridge_MSPE,\"\\n\\n\")\n",
    "print(\"LASSO_MSPE: \",LASSO_MSPE,\"\\n\\n\")\n",
    "print(\"LASSO_NFeat: \",LASSO_NFeat,\"\\n\\n\")\n",
    "print(\"PCR_MSPE: \",PCR_MSPE,\"\\n\\n\")\n",
    "print(\"PCR_NCopm: \",PCR_NCopm,\"\\n\\n\")\n",
    "\n",
    "print(\"MSPE_PLS: \",MSPE_PLS,\"\\n\\n\")\n",
    "print(\"PLS_Number_of_Comp: \",PLS_Number_of_Comp)"
   ]
  },
  {
   "cell_type": "markdown",
   "id": "08d55b79",
   "metadata": {},
   "source": [
    "## RMSPEs  boxplots:"
   ]
  },
  {
   "cell_type": "code",
   "execution_count": 8,
   "id": "a884a00d",
   "metadata": {},
   "outputs": [
    {
     "name": "stdout",
     "output_type": "stream",
     "text": [
      "RMSPE average for Ridge:  2.077155062806899\n",
      "RMSPE average for LASSO:  2.0849417447989156\n",
      "RMSPE average for PCR:  2.150004243032948\n",
      "RMSPE average for PLS:  2.023057004103992\n"
     ]
    },
    {
     "data": {
      "text/plain": [
       "[Text(1, 0, 'Ridge'),\n",
       " Text(2, 0, 'LASSO'),\n",
       " Text(3, 0, 'PCR'),\n",
       " Text(4, 0, 'PLS')]"
      ]
     },
     "execution_count": 8,
     "metadata": {},
     "output_type": "execute_result"
    },
    {
     "data": {
      "image/png": "[encoded data removed]",
      "text/plain": [
       "<Figure size 432x288 with 1 Axes>"
      ]
     },
     "metadata": {
      "needs_background": "light"
     },
     "output_type": "display_data"
    }
   ],
   "source": [
    "RMSPE_Ridge = Ridge_MSPE / min(Ridge_MSPE)\n",
    "RMSPE_LASSO = LASSO_MSPE / min(LASSO_MSPE)\n",
    "RMSPE_PCR = PCR_MSPE / min(PCR_MSPE)\n",
    "RMSPE_PLS = MSPE_PLS / min(MSPE_PLS)\n",
    "\n",
    "print('RMSPE average for Ridge: ', np.mean(RMSPE_Ridge))\n",
    "print('RMSPE average for LASSO: ', np.mean(RMSPE_LASSO))\n",
    "print('RMSPE average for PCR: ', np.mean(RMSPE_PCR))\n",
    "print('RMSPE average for PLS: ', np.mean(RMSPE_PLS))\n",
    "\n",
    "RMSPEs = [RMSPE_Ridge, RMSPE_LASSO, RMSPE_PCR, RMSPE_PLS]\n",
    "fig = plt.figure()\n",
    "ax = fig.add_axes([0,0,1,1])\n",
    "ax.boxplot(RMSPEs)\n",
    "ax.set_xticklabels(['Ridge','LASSO','PCR', 'PLS'])"
   ]
  }
 ],
 "metadata": {
  "kernelspec": {
   "display_name": "Python 3",
   "language": "python",
   "name": "python3"
  },
  "language_info": {
   "codemirror_mode": {
    "name": "ipython",
    "version": 3
   },
   "file_extension": ".py",
   "mimetype": "text/x-python",
   "name": "python",
   "nbconvert_exporter": "python",
   "pygments_lexer": "ipython3",
   "version": "3.9.6"
  }
 },
 "nbformat": 4,
 "nbformat_minor": 5
}
