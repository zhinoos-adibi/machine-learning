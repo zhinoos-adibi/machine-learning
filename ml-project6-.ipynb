{
 "cells": [
  {
   "cell_type": "code",
   "execution_count": 1,
   "id": "06644667",
   "metadata": {},
   "outputs": [],
   "source": [
    "import numpy as np\n",
    "import pandas as pd\n",
    "  \n",
    "from sklearn.linear_model import Ridge, RidgeCV, Lasso, LassoCV ,LinearRegression\n",
    "from sklearn.preprocessing import StandardScaler\n",
    "from sklearn.model_selection import train_test_split, RepeatedKFold ,cross_val_score\n",
    "#import statsmodels.formula.api as smf\n",
    "import statsmodels.api as sm\n",
    "from sklearn.metrics import mean_squared_error\n",
    "import matplotlib.pyplot as plt\n",
    "import seaborn as sns\n",
    "from sklearn.model_selection import GridSearchCV\n"
   ]
  },
  {
   "cell_type": "code",
   "execution_count": 2,
   "id": "fe7ba706",
   "metadata": {},
   "outputs": [
    {
     "data": {
      "text/html": [
       "<div>\n",
       "<style scoped>\n",
       "    .dataframe tbody tr th:only-of-type {\n",
       "        vertical-align: middle;\n",
       "    }\n",
       "\n",
       "    .dataframe tbody tr th {\n",
       "        vertical-align: top;\n",
       "    }\n",
       "\n",
       "    .dataframe thead th {\n",
       "        text-align: right;\n",
       "    }\n",
       "</style>\n",
       "<table border=\"1\" class=\"dataframe\">\n",
       "  <thead>\n",
       "    <tr style=\"text-align: right;\">\n",
       "      <th></th>\n",
       "      <th>Ozone</th>\n",
       "      <th>Solar.R</th>\n",
       "      <th>Wind</th>\n",
       "      <th>Temp</th>\n",
       "    </tr>\n",
       "  </thead>\n",
       "  <tbody>\n",
       "    <tr>\n",
       "      <th>0</th>\n",
       "      <td>41.0</td>\n",
       "      <td>190.0</td>\n",
       "      <td>7.4</td>\n",
       "      <td>67</td>\n",
       "    </tr>\n",
       "    <tr>\n",
       "      <th>1</th>\n",
       "      <td>36.0</td>\n",
       "      <td>118.0</td>\n",
       "      <td>8.0</td>\n",
       "      <td>72</td>\n",
       "    </tr>\n",
       "    <tr>\n",
       "      <th>2</th>\n",
       "      <td>12.0</td>\n",
       "      <td>149.0</td>\n",
       "      <td>12.6</td>\n",
       "      <td>74</td>\n",
       "    </tr>\n",
       "    <tr>\n",
       "      <th>3</th>\n",
       "      <td>18.0</td>\n",
       "      <td>313.0</td>\n",
       "      <td>11.5</td>\n",
       "      <td>62</td>\n",
       "    </tr>\n",
       "    <tr>\n",
       "      <th>4</th>\n",
       "      <td>NaN</td>\n",
       "      <td>NaN</td>\n",
       "      <td>14.3</td>\n",
       "      <td>56</td>\n",
       "    </tr>\n",
       "  </tbody>\n",
       "</table>\n",
       "</div>"
      ],
      "text/plain": [
       "   Ozone  Solar.R  Wind  Temp\n",
       "0   41.0    190.0   7.4    67\n",
       "1   36.0    118.0   8.0    72\n",
       "2   12.0    149.0  12.6    74\n",
       "3   18.0    313.0  11.5    62\n",
       "4    NaN      NaN  14.3    56"
      ]
     },
     "execution_count": 2,
     "metadata": {},
     "output_type": "execute_result"
    }
   ],
   "source": [
    "# Import air quality\n",
    "df_airquality = pd.read_csv('airquality.csv',usecols = ['Ozone','Solar.R','Wind','Temp'])\n",
    "df_airquality.head()\n"
   ]
  },
  {
   "cell_type": "markdown",
   "id": "701606b0",
   "metadata": {},
   "source": [
    "**Adding 'TWcp'Column and 'TWrat' Column to the df_airquality**"
   ]
  },
  {
   "cell_type": "code",
   "execution_count": 3,
   "id": "3d20bbfb",
   "metadata": {},
   "outputs": [
    {
     "data": {
      "text/plain": [
       "Ozone      False\n",
       "Solar.R    False\n",
       "Wind       False\n",
       "Temp       False\n",
       "TWcp       False\n",
       "TWrat      False\n",
       "dtype: bool"
      ]
     },
     "execution_count": 3,
     "metadata": {},
     "output_type": "execute_result"
    }
   ],
   "source": [
    "df_airquality['TWcp'] = np.round(df_airquality['Temp']* df_airquality['Wind'],2)\n",
    "df_airquality['TWrat'] = np.round(df_airquality['Temp']/ df_airquality['Wind'],2)\n",
    "\n",
    "df_airquality = df_airquality.dropna()\n",
    "\n",
    "df_airquality.isna().any()\n"
   ]
  },
  {
   "cell_type": "code",
   "execution_count": 4,
   "id": "021e73e5",
   "metadata": {},
   "outputs": [
    {
     "data": {
      "text/html": [
       "<div>\n",
       "<style scoped>\n",
       "    .dataframe tbody tr th:only-of-type {\n",
       "        vertical-align: middle;\n",
       "    }\n",
       "\n",
       "    .dataframe tbody tr th {\n",
       "        vertical-align: top;\n",
       "    }\n",
       "\n",
       "    .dataframe thead th {\n",
       "        text-align: right;\n",
       "    }\n",
       "</style>\n",
       "<table border=\"1\" class=\"dataframe\">\n",
       "  <thead>\n",
       "    <tr style=\"text-align: right;\">\n",
       "      <th></th>\n",
       "      <th>Ozone</th>\n",
       "      <th>Solar.R</th>\n",
       "      <th>Wind</th>\n",
       "      <th>Temp</th>\n",
       "      <th>TWcp</th>\n",
       "      <th>TWrat</th>\n",
       "    </tr>\n",
       "  </thead>\n",
       "  <tbody>\n",
       "    <tr>\n",
       "      <th>0</th>\n",
       "      <td>41.0</td>\n",
       "      <td>190.0</td>\n",
       "      <td>7.4</td>\n",
       "      <td>67</td>\n",
       "      <td>495.8</td>\n",
       "      <td>9.05</td>\n",
       "    </tr>\n",
       "    <tr>\n",
       "      <th>1</th>\n",
       "      <td>36.0</td>\n",
       "      <td>118.0</td>\n",
       "      <td>8.0</td>\n",
       "      <td>72</td>\n",
       "      <td>576.0</td>\n",
       "      <td>9.00</td>\n",
       "    </tr>\n",
       "    <tr>\n",
       "      <th>2</th>\n",
       "      <td>12.0</td>\n",
       "      <td>149.0</td>\n",
       "      <td>12.6</td>\n",
       "      <td>74</td>\n",
       "      <td>932.4</td>\n",
       "      <td>5.87</td>\n",
       "    </tr>\n",
       "    <tr>\n",
       "      <th>3</th>\n",
       "      <td>18.0</td>\n",
       "      <td>313.0</td>\n",
       "      <td>11.5</td>\n",
       "      <td>62</td>\n",
       "      <td>713.0</td>\n",
       "      <td>5.39</td>\n",
       "    </tr>\n",
       "    <tr>\n",
       "      <th>6</th>\n",
       "      <td>23.0</td>\n",
       "      <td>299.0</td>\n",
       "      <td>8.6</td>\n",
       "      <td>65</td>\n",
       "      <td>559.0</td>\n",
       "      <td>7.56</td>\n",
       "    </tr>\n",
       "  </tbody>\n",
       "</table>\n",
       "</div>"
      ],
      "text/plain": [
       "   Ozone  Solar.R  Wind  Temp   TWcp  TWrat\n",
       "0   41.0    190.0   7.4    67  495.8   9.05\n",
       "1   36.0    118.0   8.0    72  576.0   9.00\n",
       "2   12.0    149.0  12.6    74  932.4   5.87\n",
       "3   18.0    313.0  11.5    62  713.0   5.39\n",
       "6   23.0    299.0   8.6    65  559.0   7.56"
      ]
     },
     "execution_count": 4,
     "metadata": {},
     "output_type": "execute_result"
    }
   ],
   "source": [
    "df_airquality.head()\n"
   ]
  },
  {
   "cell_type": "markdown",
   "id": "c82d9b5f",
   "metadata": {},
   "source": [
    "# Ridge Regression or L2 Regularization\n",
    "\n"
   ]
  },
  {
   "cell_type": "markdown",
   "id": "26a8edb1",
   "metadata": {},
   "source": [
    "### Data and Setup"
   ]
  },
  {
   "cell_type": "code",
   "execution_count": 5,
   "id": "863fb6e0",
   "metadata": {},
   "outputs": [
    {
     "data": {
      "text/html": [
       "<div>\n",
       "<style scoped>\n",
       "    .dataframe tbody tr th:only-of-type {\n",
       "        vertical-align: middle;\n",
       "    }\n",
       "\n",
       "    .dataframe tbody tr th {\n",
       "        vertical-align: top;\n",
       "    }\n",
       "\n",
       "    .dataframe thead th {\n",
       "        text-align: right;\n",
       "    }\n",
       "</style>\n",
       "<table border=\"1\" class=\"dataframe\">\n",
       "  <thead>\n",
       "    <tr style=\"text-align: right;\">\n",
       "      <th></th>\n",
       "      <th>Solar.R</th>\n",
       "      <th>Wind</th>\n",
       "      <th>Temp</th>\n",
       "      <th>TWcp</th>\n",
       "      <th>TWrat</th>\n",
       "    </tr>\n",
       "  </thead>\n",
       "  <tbody>\n",
       "    <tr>\n",
       "      <th>0</th>\n",
       "      <td>190.0</td>\n",
       "      <td>7.4</td>\n",
       "      <td>67</td>\n",
       "      <td>495.8</td>\n",
       "      <td>9.05</td>\n",
       "    </tr>\n",
       "    <tr>\n",
       "      <th>1</th>\n",
       "      <td>118.0</td>\n",
       "      <td>8.0</td>\n",
       "      <td>72</td>\n",
       "      <td>576.0</td>\n",
       "      <td>9.00</td>\n",
       "    </tr>\n",
       "    <tr>\n",
       "      <th>2</th>\n",
       "      <td>149.0</td>\n",
       "      <td>12.6</td>\n",
       "      <td>74</td>\n",
       "      <td>932.4</td>\n",
       "      <td>5.87</td>\n",
       "    </tr>\n",
       "    <tr>\n",
       "      <th>3</th>\n",
       "      <td>313.0</td>\n",
       "      <td>11.5</td>\n",
       "      <td>62</td>\n",
       "      <td>713.0</td>\n",
       "      <td>5.39</td>\n",
       "    </tr>\n",
       "    <tr>\n",
       "      <th>6</th>\n",
       "      <td>299.0</td>\n",
       "      <td>8.6</td>\n",
       "      <td>65</td>\n",
       "      <td>559.0</td>\n",
       "      <td>7.56</td>\n",
       "    </tr>\n",
       "  </tbody>\n",
       "</table>\n",
       "</div>"
      ],
      "text/plain": [
       "   Solar.R  Wind  Temp   TWcp  TWrat\n",
       "0    190.0   7.4    67  495.8   9.05\n",
       "1    118.0   8.0    72  576.0   9.00\n",
       "2    149.0  12.6    74  932.4   5.87\n",
       "3    313.0  11.5    62  713.0   5.39\n",
       "6    299.0   8.6    65  559.0   7.56"
      ]
     },
     "execution_count": 5,
     "metadata": {},
     "output_type": "execute_result"
    }
   ],
   "source": [
    "X = df_airquality.drop('Ozone',axis=1)\n",
    "y = df_airquality[['Ozone']]\n",
    "X.head()"
   ]
  },
  {
   "cell_type": "markdown",
   "id": "30f8d3ec",
   "metadata": {},
   "source": [
    "# Train | Test Split"
   ]
  },
  {
   "cell_type": "code",
   "execution_count": 6,
   "id": "acf4d468",
   "metadata": {},
   "outputs": [],
   "source": [
    "X_train, X_test , y_train, y_test = train_test_split(X, y, test_size=0.3, random_state=1)\n"
   ]
  },
  {
   "cell_type": "markdown",
   "id": "3e9bafb1",
   "metadata": {},
   "source": [
    "# Scaling the Data"
   ]
  },
  {
   "cell_type": "code",
   "execution_count": 7,
   "id": "89ba0e00",
   "metadata": {},
   "outputs": [
    {
     "data": {
      "text/plain": [
       "StandardScaler()"
      ]
     },
     "execution_count": 7,
     "metadata": {},
     "output_type": "execute_result"
    }
   ],
   "source": [
    "scaler = StandardScaler()\n",
    "scaler.fit(X_train)\n"
   ]
  },
  {
   "cell_type": "markdown",
   "id": "3a5d8a51",
   "metadata": {},
   "source": [
    "# Scaling X_tran and X_test"
   ]
  },
  {
   "cell_type": "code",
   "execution_count": 8,
   "id": "6aeb61af",
   "metadata": {},
   "outputs": [],
   "source": [
    "X_train = scaler.transform(X_train)\n",
    "X_test = scaler.transform(X_test)\n"
   ]
  },
  {
   "cell_type": "markdown",
   "id": "e71d67eb",
   "metadata": {},
   "source": [
    "## 1-a )Answering Choosing an alpha value with Cross-Validation through RidgeCV "
   ]
  },
  {
   "cell_type": "code",
   "execution_count": 9,
   "id": "2849ea05",
   "metadata": {},
   "outputs": [
    {
     "data": {
      "text/plain": [
       "RidgeCV(alphas=array([0.000e+00, 5.000e-02, 1.000e-01, ..., 9.985e+01, 9.990e+01,\n",
       "       9.995e+01]),\n",
       "        cv=RepeatedKFold(n_repeats=1, n_splits=10, random_state=1),\n",
       "        scoring='neg_mean_squared_error')"
      ]
     },
     "execution_count": 9,
     "metadata": {},
     "output_type": "execute_result"
    }
   ],
   "source": [
    "CV10 = RepeatedKFold(n_splits=10, n_repeats=1, random_state=1)\n",
    "\n",
    "ridge_cv_model = RidgeCV(alphas=np.arange(0, 100, 0.05), cv=CV10, scoring='neg_mean_squared_error')\n",
    "ridge_cv_model.fit(X_train,y_train)\n"
   ]
  },
  {
   "cell_type": "code",
   "execution_count": 10,
   "id": "5e7c3530",
   "metadata": {},
   "outputs": [
    {
     "name": "stdout",
     "output_type": "stream",
     "text": [
      "alpha is :\n",
      "  9.85 \n",
      " --------------------------------------------------\n"
     ]
    }
   ],
   "source": [
    "print('alpha is :\\n ' ,np.round(ridge_cv_model.alpha_,2),'\\n' ,50*\"-\")\n"
   ]
  },
  {
   "cell_type": "markdown",
   "id": "9cb93581",
   "metadata": {},
   "source": [
    "## 1-b )Answering:\n"
   ]
  },
  {
   "cell_type": "code",
   "execution_count": 11,
   "id": "1adc50c9",
   "metadata": {},
   "outputs": [
    {
     "name": "stdout",
     "output_type": "stream",
     "text": [
      "coefs are :\n"
     ]
    },
    {
     "data": {
      "text/plain": [
       "array([[ 6.33886605, -2.14576374, 12.6012792 , -1.92722447, 11.15683668]])"
      ]
     },
     "execution_count": 11,
     "metadata": {},
     "output_type": "execute_result"
    }
   ],
   "source": [
    "print('coefs are :')\n",
    "ridge_cv_model.coef_\n"
   ]
  },
  {
   "cell_type": "markdown",
   "id": "5fb2df19",
   "metadata": {},
   "source": [
    "# least_squares_model"
   ]
  },
  {
   "cell_type": "code",
   "execution_count": 12,
   "id": "418f2c27",
   "metadata": {},
   "outputs": [
    {
     "name": "stdout",
     "output_type": "stream",
     "text": [
      "least_squares_model.coef_ are :\n"
     ]
    },
    {
     "data": {
      "text/plain": [
       "array([[  7.34044591,  33.06460397,  27.99188372, -34.86860967,\n",
       "          7.31588348]])"
      ]
     },
     "execution_count": 12,
     "metadata": {},
     "output_type": "execute_result"
    }
   ],
   "source": [
    "least_squares_model = LinearRegression().fit(X_train,y_train)\n",
    "print('least_squares_model.coef_ are :')\n",
    "\n",
    "least_squares_model.coef_\n"
   ]
  },
  {
   "cell_type": "code",
   "execution_count": 13,
   "id": "399ee8ff",
   "metadata": {},
   "outputs": [
    {
     "data": {
      "text/html": [
       "<div>\n",
       "<style scoped>\n",
       "    .dataframe tbody tr th:only-of-type {\n",
       "        vertical-align: middle;\n",
       "    }\n",
       "\n",
       "    .dataframe tbody tr th {\n",
       "        vertical-align: top;\n",
       "    }\n",
       "\n",
       "    .dataframe thead th {\n",
       "        text-align: right;\n",
       "    }\n",
       "</style>\n",
       "<table border=\"1\" class=\"dataframe\">\n",
       "  <thead>\n",
       "    <tr style=\"text-align: right;\">\n",
       "      <th></th>\n",
       "      <th>ridge_cv_model_coef</th>\n",
       "      <th>least_squares_model_coef</th>\n",
       "    </tr>\n",
       "  </thead>\n",
       "  <tbody>\n",
       "    <tr>\n",
       "      <th>1</th>\n",
       "      <td>6.34</td>\n",
       "      <td>7.34</td>\n",
       "    </tr>\n",
       "    <tr>\n",
       "      <th>2</th>\n",
       "      <td>-2.15</td>\n",
       "      <td>33.06</td>\n",
       "    </tr>\n",
       "    <tr>\n",
       "      <th>3</th>\n",
       "      <td>12.60</td>\n",
       "      <td>27.99</td>\n",
       "    </tr>\n",
       "    <tr>\n",
       "      <th>4</th>\n",
       "      <td>-1.93</td>\n",
       "      <td>-34.87</td>\n",
       "    </tr>\n",
       "    <tr>\n",
       "      <th>5</th>\n",
       "      <td>11.16</td>\n",
       "      <td>7.32</td>\n",
       "    </tr>\n",
       "  </tbody>\n",
       "</table>\n",
       "</div>"
      ],
      "text/plain": [
       "   ridge_cv_model_coef  least_squares_model_coef\n",
       "1                 6.34                      7.34\n",
       "2                -2.15                     33.06\n",
       "3                12.60                     27.99\n",
       "4                -1.93                    -34.87\n",
       "5                11.16                      7.32"
      ]
     },
     "execution_count": 13,
     "metadata": {},
     "output_type": "execute_result"
    }
   ],
   "source": [
    "my_dict = {'ridge_cv_model_coef':ridge_cv_model.coef_.reshape(-1),'least_squares_model_coef': least_squares_model.coef_.reshape(-1)}\n",
    "df_compare = pd.DataFrame(my_dict,index = [1,2,3,4,5])\n",
    "np.round(df_compare,2)\n"
   ]
  },
  {
   "cell_type": "code",
   "execution_count": 14,
   "id": "dcdee52c",
   "metadata": {},
   "outputs": [
    {
     "data": {
      "text/html": [
       "<div>\n",
       "<style scoped>\n",
       "    .dataframe tbody tr th:only-of-type {\n",
       "        vertical-align: middle;\n",
       "    }\n",
       "\n",
       "    .dataframe tbody tr th {\n",
       "        vertical-align: top;\n",
       "    }\n",
       "\n",
       "    .dataframe thead th {\n",
       "        text-align: right;\n",
       "    }\n",
       "</style>\n",
       "<table border=\"1\" class=\"dataframe\">\n",
       "  <thead>\n",
       "    <tr style=\"text-align: right;\">\n",
       "      <th></th>\n",
       "      <th>ridge_cv_model_coef</th>\n",
       "      <th>least_squares_model_coef</th>\n",
       "    </tr>\n",
       "  </thead>\n",
       "  <tbody>\n",
       "    <tr>\n",
       "      <th>1</th>\n",
       "      <td>6.338866</td>\n",
       "      <td>7.340446</td>\n",
       "    </tr>\n",
       "    <tr>\n",
       "      <th>2</th>\n",
       "      <td>-2.145764</td>\n",
       "      <td>33.064604</td>\n",
       "    </tr>\n",
       "    <tr>\n",
       "      <th>3</th>\n",
       "      <td>12.601279</td>\n",
       "      <td>27.991884</td>\n",
       "    </tr>\n",
       "  </tbody>\n",
       "</table>\n",
       "</div>"
      ],
      "text/plain": [
       "   ridge_cv_model_coef  least_squares_model_coef\n",
       "1             6.338866                  7.340446\n",
       "2            -2.145764                 33.064604\n",
       "3            12.601279                 27.991884"
      ]
     },
     "execution_count": 14,
     "metadata": {},
     "output_type": "execute_result"
    }
   ],
   "source": [
    "df_ridge_smaller = df_compare[df_compare['ridge_cv_model_coef']< df_compare['least_squares_model_coef']]\n",
    "df_ridge_smaller\n"
   ]
  },
  {
   "cell_type": "code",
   "execution_count": 15,
   "id": "951315c9",
   "metadata": {},
   "outputs": [
    {
     "data": {
      "text/html": [
       "<div>\n",
       "<style scoped>\n",
       "    .dataframe tbody tr th:only-of-type {\n",
       "        vertical-align: middle;\n",
       "    }\n",
       "\n",
       "    .dataframe tbody tr th {\n",
       "        vertical-align: top;\n",
       "    }\n",
       "\n",
       "    .dataframe thead th {\n",
       "        text-align: right;\n",
       "    }\n",
       "</style>\n",
       "<table border=\"1\" class=\"dataframe\">\n",
       "  <thead>\n",
       "    <tr style=\"text-align: right;\">\n",
       "      <th></th>\n",
       "      <th>ridge_cv_model_coef</th>\n",
       "      <th>least_squares_model_coef</th>\n",
       "    </tr>\n",
       "  </thead>\n",
       "  <tbody>\n",
       "    <tr>\n",
       "      <th>4</th>\n",
       "      <td>-1.927224</td>\n",
       "      <td>-34.868610</td>\n",
       "    </tr>\n",
       "    <tr>\n",
       "      <th>5</th>\n",
       "      <td>11.156837</td>\n",
       "      <td>7.315883</td>\n",
       "    </tr>\n",
       "  </tbody>\n",
       "</table>\n",
       "</div>"
      ],
      "text/plain": [
       "   ridge_cv_model_coef  least_squares_model_coef\n",
       "4            -1.927224                -34.868610\n",
       "5            11.156837                  7.315883"
      ]
     },
     "execution_count": 15,
     "metadata": {},
     "output_type": "execute_result"
    }
   ],
   "source": [
    "df_ridge_bigger = df_compare[df_compare['ridge_cv_model_coef']> df_compare['least_squares_model_coef']]\n",
    "df_ridge_bigger\n"
   ]
  },
  {
   "cell_type": "markdown",
   "id": "0f45d589",
   "metadata": {},
   "source": [
    "# 1-b Answeing report:"
   ]
  },
  {
   "cell_type": "markdown",
   "id": "672d019e",
   "metadata": {},
   "source": [
    "## According to upper Dataframes result ,there aren't all ridge estimates smaller than least \n",
    "\n",
    "## squares, feature 1,feature 2 and feature 3 in ridge model are smaller but  4th and 5th featire  \n",
    "\n",
    "## in ridge model are larger than least squares"
   ]
  },
  {
   "cell_type": "markdown",
   "id": "7b0c7a2f",
   "metadata": {},
   "source": [
    "# 2- LASSO Regression or L1 Regularization "
   ]
  },
  {
   "cell_type": "code",
   "execution_count": 16,
   "id": "ccca8ad4",
   "metadata": {},
   "outputs": [],
   "source": [
    "CV10 = RepeatedKFold(n_splits=10, n_repeats=1, random_state=1)\n",
    "LASSO_cv_model = LassoCV(alphas=np.arange(0.001, 100, 0.05), cv=CV10,  max_iter = 100000)\n"
   ]
  },
  {
   "cell_type": "code",
   "execution_count": 17,
   "id": "5dde6317",
   "metadata": {},
   "outputs": [
    {
     "name": "stderr",
     "output_type": "stream",
     "text": [
      "C:\\Users\\mzand\\AppData\\Roaming\\Python\\Python39\\site-packages\\sklearn\\utils\\validation.py:63: DataConversionWarning: A column-vector y was passed when a 1d array was expected. Please change the shape of y to (n_samples, ), for example using ravel().\n",
      "  return f(*args, **kwargs)\n"
     ]
    },
    {
     "data": {
      "text/plain": [
       "LassoCV(alphas=array([1.0000e-03, 5.1000e-02, 1.0100e-01, ..., 9.9851e+01, 9.9901e+01,\n",
       "       9.9951e+01]),\n",
       "        cv=RepeatedKFold(n_repeats=1, n_splits=10, random_state=1),\n",
       "        max_iter=100000)"
      ]
     },
     "execution_count": 17,
     "metadata": {},
     "output_type": "execute_result"
    }
   ],
   "source": [
    "LASSO_cv_model.fit(X_train,y_train)\n"
   ]
  },
  {
   "cell_type": "code",
   "execution_count": 20,
   "id": "ff84eb26",
   "metadata": {},
   "outputs": [
    {
     "name": "stdout",
     "output_type": "stream",
     "text": [
      "alpha is :\n",
      "  1.101\n"
     ]
    }
   ],
   "source": [
    "print('alpha is :\\n ' ,np.round(LASSO_cv_model.alpha_,3))\n"
   ]
  },
  {
   "cell_type": "markdown",
   "id": "8a8d3a24",
   "metadata": {},
   "source": [
    "## Note: in this Assignment GridSearchCV has been used to calculate 1SE alpha"
   ]
  },
  {
   "cell_type": "code",
   "execution_count": 21,
   "id": "c1f19f0d",
   "metadata": {},
   "outputs": [],
   "source": [
    "CV10 = RepeatedKFold(n_splits=10, n_repeats=1, random_state=1)\n",
    "param_grid = {'alpha': np.arange(0.001, 100, 0.05), 'max_iter': [100000]}\n",
    "lasso_gcv = GridSearchCV(Lasso(), param_grid= param_grid, cv= CV10, scoring= 'neg_mean_squared_error', n_jobs= -1)\n"
   ]
  },
  {
   "cell_type": "code",
   "execution_count": 22,
   "id": "c44adb2d",
   "metadata": {},
   "outputs": [
    {
     "data": {
      "text/plain": [
       "GridSearchCV(cv=RepeatedKFold(n_repeats=1, n_splits=10, random_state=1),\n",
       "             estimator=Lasso(), n_jobs=-1,\n",
       "             param_grid={'alpha': array([1.0000e-03, 5.1000e-02, 1.0100e-01, ..., 9.9851e+01, 9.9901e+01,\n",
       "       9.9951e+01]),\n",
       "                         'max_iter': [100000]},\n",
       "             scoring='neg_mean_squared_error')"
      ]
     },
     "execution_count": 22,
     "metadata": {},
     "output_type": "execute_result"
    }
   ],
   "source": [
    "lasso_gcv.fit(X_train, y_train)\n"
   ]
  },
  {
   "cell_type": "code",
   "execution_count": 23,
   "id": "c9a16f87",
   "metadata": {},
   "outputs": [
    {
     "data": {
      "text/plain": [
       "Lasso(alpha=1.101, max_iter=100000)"
      ]
     },
     "execution_count": 23,
     "metadata": {},
     "output_type": "execute_result"
    }
   ],
   "source": [
    "lasso_gcv.best_estimator_\n"
   ]
  },
  {
   "cell_type": "code",
   "execution_count": 24,
   "id": "82bd64bd",
   "metadata": {},
   "outputs": [
    {
     "data": {
      "text/plain": [
       "(-491.7989480146936, -409.7023805412343)"
      ]
     },
     "execution_count": 24,
     "metadata": {},
     "output_type": "execute_result"
    }
   ],
   "source": [
    "lasso_gcv.best_score_ , lasso_gcv.score(X_train, y_train)\n"
   ]
  },
  {
   "cell_type": "code",
   "execution_count": 25,
   "id": "22414ea3",
   "metadata": {},
   "outputs": [
    {
     "data": {
      "text/plain": [
       "dict_keys(['mean_fit_time', 'std_fit_time', 'mean_score_time', 'std_score_time', 'param_alpha', 'param_max_iter', 'params', 'split0_test_score', 'split1_test_score', 'split2_test_score', 'split3_test_score', 'split4_test_score', 'split5_test_score', 'split6_test_score', 'split7_test_score', 'split8_test_score', 'split9_test_score', 'mean_test_score', 'std_test_score', 'rank_test_score'])"
      ]
     },
     "execution_count": 25,
     "metadata": {},
     "output_type": "execute_result"
    }
   ],
   "source": [
    "lasso_gcv.cv_results_.keys()\n"
   ]
  },
  {
   "cell_type": "code",
   "execution_count": 26,
   "id": "e0c11e5f",
   "metadata": {},
   "outputs": [
    {
     "data": {
      "text/plain": [
       "-491.7989480146936"
      ]
     },
     "execution_count": 26,
     "metadata": {},
     "output_type": "execute_result"
    }
   ],
   "source": [
    "#  As the negative mean_squared_errors were reported the max is the best\n",
    "lasso_gcv.cv_results_.get('mean_test_score').max()\n"
   ]
  },
  {
   "cell_type": "code",
   "execution_count": 27,
   "id": "3f4ca280",
   "metadata": {},
   "outputs": [],
   "source": [
    "# here I create a dataframe from alphas and Mean Squared errors(MSE), next I calculate the std of MSEs and \n",
    "# add the std to the best MSE. Next i find the nearest MSE in dataframe and the related alpha in that row.\n",
    "\n",
    "# here the best alpha is 1.101 and MSE is 491 in the first row. when I added 1 std (226.82) to best MSE, \n",
    "# result = 718.62. The nearest MSE to 718 is 718.18 in 237th row and the related alpha is 11.801\n",
    "\n",
    "\n",
    "df_lasso = pd.DataFrame({'alpha': lasso_gcv.cv_results_.get('param_alpha'), \n",
    "                         'Mean_Score':-lasso_gcv.cv_results_.get('mean_test_score')},\n",
    "                        index= lasso_gcv.cv_results_.get('rank_test_score'))\n",
    "df_lasso.sort_index(inplace= True)\n"
   ]
  },
  {
   "cell_type": "code",
   "execution_count": 28,
   "id": "3687cbb7",
   "metadata": {},
   "outputs": [
    {
     "data": {
      "text/html": [
       "<div>\n",
       "<style scoped>\n",
       "    .dataframe tbody tr th:only-of-type {\n",
       "        vertical-align: middle;\n",
       "    }\n",
       "\n",
       "    .dataframe tbody tr th {\n",
       "        vertical-align: top;\n",
       "    }\n",
       "\n",
       "    .dataframe thead th {\n",
       "        text-align: right;\n",
       "    }\n",
       "</style>\n",
       "<table border=\"1\" class=\"dataframe\">\n",
       "  <thead>\n",
       "    <tr style=\"text-align: right;\">\n",
       "      <th></th>\n",
       "      <th>alpha</th>\n",
       "      <th>Mean_Score</th>\n",
       "    </tr>\n",
       "  </thead>\n",
       "  <tbody>\n",
       "    <tr>\n",
       "      <th>1</th>\n",
       "      <td>1.101</td>\n",
       "      <td>491.798948</td>\n",
       "    </tr>\n",
       "    <tr>\n",
       "      <th>2</th>\n",
       "      <td>1.151</td>\n",
       "      <td>491.806387</td>\n",
       "    </tr>\n",
       "    <tr>\n",
       "      <th>3</th>\n",
       "      <td>1.051</td>\n",
       "      <td>491.808456</td>\n",
       "    </tr>\n",
       "    <tr>\n",
       "      <th>4</th>\n",
       "      <td>1.201</td>\n",
       "      <td>491.830773</td>\n",
       "    </tr>\n",
       "    <tr>\n",
       "      <th>5</th>\n",
       "      <td>1.001</td>\n",
       "      <td>491.834911</td>\n",
       "    </tr>\n",
       "  </tbody>\n",
       "</table>\n",
       "</div>"
      ],
      "text/plain": [
       "   alpha  Mean_Score\n",
       "1  1.101  491.798948\n",
       "2  1.151  491.806387\n",
       "3  1.051  491.808456\n",
       "4  1.201  491.830773\n",
       "5  1.001  491.834911"
      ]
     },
     "execution_count": 28,
     "metadata": {},
     "output_type": "execute_result"
    }
   ],
   "source": [
    "df_lasso.head()\n"
   ]
  },
  {
   "cell_type": "code",
   "execution_count": 29,
   "id": "00d8f77c",
   "metadata": {},
   "outputs": [
    {
     "data": {
      "text/plain": [
       "226.82283266522086"
      ]
     },
     "execution_count": 29,
     "metadata": {},
     "output_type": "execute_result"
    }
   ],
   "source": [
    "# calculate the std of MSEs\n",
    "df_lasso.Mean_Score.std()\n"
   ]
  },
  {
   "cell_type": "code",
   "execution_count": 30,
   "id": "268c2f54",
   "metadata": {},
   "outputs": [
    {
     "data": {
      "text/plain": [
       "718.6217806799145"
      ]
     },
     "execution_count": 30,
     "metadata": {},
     "output_type": "execute_result"
    }
   ],
   "source": [
    "# add the std to the best MSE\n",
    "se_1 = df_lasso.iloc[0, 1] + df_lasso.Mean_Score.std()\n",
    "se_1\n"
   ]
  },
  {
   "cell_type": "code",
   "execution_count": 31,
   "id": "e695c381",
   "metadata": {},
   "outputs": [
    {
     "data": {
      "text/html": [
       "<div>\n",
       "<style scoped>\n",
       "    .dataframe tbody tr th:only-of-type {\n",
       "        vertical-align: middle;\n",
       "    }\n",
       "\n",
       "    .dataframe tbody tr th {\n",
       "        vertical-align: top;\n",
       "    }\n",
       "\n",
       "    .dataframe thead th {\n",
       "        text-align: right;\n",
       "    }\n",
       "</style>\n",
       "<table border=\"1\" class=\"dataframe\">\n",
       "  <thead>\n",
       "    <tr style=\"text-align: right;\">\n",
       "      <th></th>\n",
       "      <th>alpha</th>\n",
       "      <th>Mean_Score</th>\n",
       "    </tr>\n",
       "  </thead>\n",
       "  <tbody>\n",
       "    <tr>\n",
       "      <th>233</th>\n",
       "      <td>11.601</td>\n",
       "      <td>710.681866</td>\n",
       "    </tr>\n",
       "    <tr>\n",
       "      <th>234</th>\n",
       "      <td>11.651</td>\n",
       "      <td>712.543973</td>\n",
       "    </tr>\n",
       "    <tr>\n",
       "      <th>235</th>\n",
       "      <td>11.701</td>\n",
       "      <td>714.414944</td>\n",
       "    </tr>\n",
       "    <tr>\n",
       "      <th>236</th>\n",
       "      <td>11.751</td>\n",
       "      <td>716.294775</td>\n",
       "    </tr>\n",
       "    <tr>\n",
       "      <th>237</th>\n",
       "      <td>11.801</td>\n",
       "      <td>718.183468</td>\n",
       "    </tr>\n",
       "  </tbody>\n",
       "</table>\n",
       "</div>"
      ],
      "text/plain": [
       "      alpha  Mean_Score\n",
       "233  11.601  710.681866\n",
       "234  11.651  712.543973\n",
       "235  11.701  714.414944\n",
       "236  11.751  716.294775\n",
       "237  11.801  718.183468"
      ]
     },
     "execution_count": 31,
     "metadata": {},
     "output_type": "execute_result"
    }
   ],
   "source": [
    "se_1_df = df_lasso[(df_lasso.Mean_Score <= se_1)]\n",
    "se_1_df.tail()\n"
   ]
  },
  {
   "cell_type": "code",
   "execution_count": 32,
   "id": "56363bf3",
   "metadata": {},
   "outputs": [
    {
     "name": "stdout",
     "output_type": "stream",
     "text": [
      "alpha_1se is :\n",
      "\n",
      " 11.801 \n",
      " ------------------------------------------------------------------------------------------\n"
     ]
    }
   ],
   "source": [
    "alpha_1se = se_1_df.iloc[-1,0]\n",
    "print(\"alpha_1se is :\\n\\n\",alpha_1se,'\\n',30*\"---\")\n"
   ]
  },
  {
   "cell_type": "markdown",
   "id": "c458e362",
   "metadata": {},
   "source": [
    "# 2-a) Reporting alphas:"
   ]
  },
  {
   "cell_type": "markdown",
   "id": "c376f305",
   "metadata": {},
   "source": [
    "## According to upper calculation alpha is 1.101 and alpha_1se is 11.801"
   ]
  },
  {
   "cell_type": "markdown",
   "id": "b9fbb342",
   "metadata": {},
   "source": [
    "### Report parameters for each alphas in LASSO fit"
   ]
  },
  {
   "cell_type": "code",
   "execution_count": 33,
   "id": "c308cb52",
   "metadata": {},
   "outputs": [],
   "source": [
    "LASSO_ALPHA = Lasso(alpha=1.101)\n",
    "\n",
    "LASSO_ALPHA_1se = Lasso(alpha=11.801)\n"
   ]
  },
  {
   "cell_type": "code",
   "execution_count": 34,
   "id": "5fe057c5",
   "metadata": {},
   "outputs": [
    {
     "data": {
      "text/plain": [
       "Lasso(alpha=11.801)"
      ]
     },
     "execution_count": 34,
     "metadata": {},
     "output_type": "execute_result"
    }
   ],
   "source": [
    "LASSO_ALPHA.fit(X_train,y_train)\n",
    "\n",
    "LASSO_ALPHA_1se.fit(X_train,y_train)\n"
   ]
  },
  {
   "cell_type": "code",
   "execution_count": 35,
   "id": "0be70ae0",
   "metadata": {},
   "outputs": [
    {
     "name": "stdout",
     "output_type": "stream",
     "text": [
      "Coefficients in ALPHA 1se are: \n",
      "\n",
      " [('Solar.R', 0.0), ('Wind', -0.0), ('Temp', 8.49), ('TWcp', -0.0), ('TWrat', 7.31)]\n"
     ]
    }
   ],
   "source": [
    "zip_list_ALPHA_1se = zip(list(X.columns), np.round(list(LASSO_ALPHA_1se.coef_),2))\n",
    "print('Coefficients in ALPHA 1se are:','\\n\\n',list(zip_list_ALPHA_1se))\n"
   ]
  },
  {
   "cell_type": "code",
   "execution_count": 36,
   "id": "9a28de7d",
   "metadata": {},
   "outputs": [
    {
     "name": "stdout",
     "output_type": "stream",
     "text": [
      "Coefficients in Minimum ALPHA are:: \n",
      "\n",
      " [('Solar.R', 5.73), ('Wind', -0.0), ('Temp', 13.3), ('TWcp', -1.61), ('TWrat', 13.03)]\n"
     ]
    }
   ],
   "source": [
    "zip_list_ALPHA = zip(list(X.columns), np.round(list(LASSO_ALPHA.coef_),2))\n",
    "print('Coefficients in Minimum ALPHA are::','\\n\\n',list(zip_list_ALPHA))\n"
   ]
  },
  {
   "cell_type": "markdown",
   "id": "a7d76289",
   "metadata": {},
   "source": [
    "### 2-b Answer: Based on the result of LASSO for alpha and alpha1_se, two features heve been selected in \n",
    "\n",
    "### alpha1_se('Temp' , 'TWrat') but for alpha 4 features have been selected('Solar.R', 'Temp' , 'TWcp' ,'TWrat').It \n",
    "\n",
    "### seems the alpha_1SE LASSO Model is more flexible than alpha LASSO Model\n",
    "\n",
    "\n"
   ]
  },
  {
   "cell_type": "markdown",
   "id": "cf812e14",
   "metadata": {},
   "source": [
    "# c)compare variables \n",
    "\n",
    "**The variables selected in Hybrid model were ('Solar.R', 'Wind', 'Temp', 'TWcp') and the selected variables in** \n",
    "\n",
    "**Lasso are ('Solar.R', 'Temp' , 'TWcp' ,'TWrat') and ('Temp' , 'TWrat') in Lasso 1se.**\n",
    "\n",
    "**The variable Temp is common in three models and Solar.R, Temp and TWcp are selected in both Lasso and Hybrid.**"
   ]
  },
  {
   "cell_type": "markdown",
   "id": "4edcecef",
   "metadata": {},
   "source": [
    "# 3)Answaring:"
   ]
  },
  {
   "cell_type": "markdown",
   "id": "fe5895f0",
   "metadata": {},
   "source": [
    "## Train | Test Split"
   ]
  },
  {
   "cell_type": "code",
   "execution_count": 37,
   "id": "43a02ef1",
   "metadata": {},
   "outputs": [],
   "source": [
    "X_train, X_test , y_train, y_test = train_test_split(X, y, test_size=0.3, random_state=2928893)\n"
   ]
  },
  {
   "cell_type": "markdown",
   "id": "9e13fa1d",
   "metadata": {},
   "source": [
    "## Scaling the Data"
   ]
  },
  {
   "cell_type": "code",
   "execution_count": 38,
   "id": "81d9c33b",
   "metadata": {},
   "outputs": [],
   "source": [
    "scaler = StandardScaler().fit(X_train)\n"
   ]
  },
  {
   "cell_type": "markdown",
   "id": "3f0ca4c2",
   "metadata": {},
   "source": [
    "## Scaling X_tran and X_test"
   ]
  },
  {
   "cell_type": "code",
   "execution_count": 39,
   "id": "407fd92a",
   "metadata": {},
   "outputs": [],
   "source": [
    "X_train = scaler.transform(X_train)\n",
    "X_test = scaler.transform(X_test)\n"
   ]
  },
  {
   "cell_type": "code",
   "execution_count": 40,
   "id": "04f5869d",
   "metadata": {},
   "outputs": [],
   "source": [
    "#Dictionary of alphas will be made according to a previouse reporets \n",
    "alphas_dict = {'LASSO_min':1.101 ,'LASSO_1SE':11.801 ,'Ridge_alpha':9.85}\n"
   ]
  },
  {
   "cell_type": "markdown",
   "id": "3f3d2bf9",
   "metadata": {},
   "source": [
    "### Ridge model"
   ]
  },
  {
   "cell_type": "code",
   "execution_count": 41,
   "id": "a6e8022c",
   "metadata": {},
   "outputs": [],
   "source": [
    "CV10 = RepeatedKFold(n_splits=10, n_repeats=1, random_state=2928893)\n"
   ]
  },
  {
   "cell_type": "code",
   "execution_count": 42,
   "id": "4b53db15",
   "metadata": {},
   "outputs": [
    {
     "name": "stdout",
     "output_type": "stream",
     "text": [
      "Best MSE of Ridge: 177.05\n"
     ]
    }
   ],
   "source": [
    "# 3-c\n",
    "\n",
    "ridge_cv = cross_val_score(Ridge(max_iter= 100000), \n",
    "                           X_train, y_train, cv= CV10, scoring= 'neg_mean_squared_error')\n",
    "print('Best MSE of Ridge: {:.2f}'.format(-ridge_cv.max()))"
   ]
  },
  {
   "cell_type": "markdown",
   "id": "093ca7fb",
   "metadata": {},
   "source": [
    "### LASSO_min"
   ]
  },
  {
   "cell_type": "code",
   "execution_count": 43,
   "id": "5e5e9ccd",
   "metadata": {},
   "outputs": [
    {
     "name": "stdout",
     "output_type": "stream",
     "text": [
      "Best MSE of Lasso, alpha_min: 174.62\n"
     ]
    }
   ],
   "source": [
    "# 3-c\n",
    "\n",
    "lasso_cv_min = cross_val_score(Lasso(alpha= 1.101, max_iter= 1000000), \n",
    "                               X_train, y_train, cv= CV10, scoring = 'neg_mean_squared_error')\n",
    "print('Best MSE of Lasso, alpha_min: {:.2f}'.format(-lasso_cv_min.max()))"
   ]
  },
  {
   "cell_type": "markdown",
   "id": "1df94716",
   "metadata": {},
   "source": [
    "### LASSO_1SE"
   ]
  },
  {
   "cell_type": "code",
   "execution_count": 44,
   "id": "1efd4046",
   "metadata": {},
   "outputs": [
    {
     "name": "stdout",
     "output_type": "stream",
     "text": [
      "Best MSE of Lasso, alpha_1se: 285.49\n"
     ]
    }
   ],
   "source": [
    "# 3-c\n",
    "\n",
    "lasso_cv_1se = cross_val_score(Lasso(alpha= 11.801, max_iter= 1000000), \n",
    "                               X_train, y_train, cv= CV10, scoring = 'neg_mean_squared_error')\n",
    "print('Best MSE of Lasso, alpha_1se: {:.2f}'.format(-lasso_cv_1se.max()))"
   ]
  },
  {
   "cell_type": "markdown",
   "id": "5623ac75",
   "metadata": {},
   "source": [
    "## 3ii) Reporting MSPE based in best model has been selected\n",
    "\n",
    "### (using test part of dataset)"
   ]
  },
  {
   "cell_type": "code",
   "execution_count": 46,
   "id": "cebec7fb",
   "metadata": {},
   "outputs": [
    {
     "name": "stdout",
     "output_type": "stream",
     "text": [
      "The Best Model MSE is : 454.10 \n"
     ]
    }
   ],
   "source": [
    "# The best model is Lasso with Minimum alpha (1.101): lasso_cv_min\n",
    "\n",
    "lasso_model = Lasso(alpha= 1.101, max_iter= 1000000).fit(X_train, y_train)\n",
    "\n",
    "y_pred = lasso_model.predict(X_test)\n",
    "\n",
    "MSE_lasso = mean_squared_error(y_test,y_pred)\n",
    "\n",
    "print('The Best Model MSE is : {:.2f} '.format(MSE_lasso))"
   ]
  },
  {
   "cell_type": "markdown",
   "id": "c58481c7",
   "metadata": {},
   "source": [
    "## 3d) Report MSEPs for each fold "
   ]
  },
  {
   "cell_type": "code",
   "execution_count": 47,
   "id": "7366ec1d",
   "metadata": {},
   "outputs": [
    {
     "data": {
      "text/html": [
       "<div>\n",
       "<style scoped>\n",
       "    .dataframe tbody tr th:only-of-type {\n",
       "        vertical-align: middle;\n",
       "    }\n",
       "\n",
       "    .dataframe tbody tr th {\n",
       "        vertical-align: top;\n",
       "    }\n",
       "\n",
       "    .dataframe thead th {\n",
       "        text-align: right;\n",
       "    }\n",
       "</style>\n",
       "<table border=\"1\" class=\"dataframe\">\n",
       "  <thead>\n",
       "    <tr style=\"text-align: right;\">\n",
       "      <th></th>\n",
       "      <th>Lasso_Min</th>\n",
       "      <th>Lasso_1se</th>\n",
       "      <th>Ridge</th>\n",
       "    </tr>\n",
       "  </thead>\n",
       "  <tbody>\n",
       "    <tr>\n",
       "      <th>1</th>\n",
       "      <td>174.624645</td>\n",
       "      <td>285.493075</td>\n",
       "      <td>194.307798</td>\n",
       "    </tr>\n",
       "    <tr>\n",
       "      <th>2</th>\n",
       "      <td>492.149188</td>\n",
       "      <td>480.165237</td>\n",
       "      <td>498.094121</td>\n",
       "    </tr>\n",
       "    <tr>\n",
       "      <th>3</th>\n",
       "      <td>611.015584</td>\n",
       "      <td>346.401177</td>\n",
       "      <td>951.627918</td>\n",
       "    </tr>\n",
       "    <tr>\n",
       "      <th>4</th>\n",
       "      <td>245.204244</td>\n",
       "      <td>376.714419</td>\n",
       "      <td>231.714289</td>\n",
       "    </tr>\n",
       "    <tr>\n",
       "      <th>5</th>\n",
       "      <td>181.054778</td>\n",
       "      <td>325.991152</td>\n",
       "      <td>177.049667</td>\n",
       "    </tr>\n",
       "    <tr>\n",
       "      <th>6</th>\n",
       "      <td>625.917213</td>\n",
       "      <td>916.320550</td>\n",
       "      <td>608.808802</td>\n",
       "    </tr>\n",
       "    <tr>\n",
       "      <th>7</th>\n",
       "      <td>286.406773</td>\n",
       "      <td>463.492302</td>\n",
       "      <td>267.102513</td>\n",
       "    </tr>\n",
       "    <tr>\n",
       "      <th>8</th>\n",
       "      <td>671.020599</td>\n",
       "      <td>1043.007662</td>\n",
       "      <td>640.479788</td>\n",
       "    </tr>\n",
       "    <tr>\n",
       "      <th>9</th>\n",
       "      <td>660.394624</td>\n",
       "      <td>798.035795</td>\n",
       "      <td>675.594730</td>\n",
       "    </tr>\n",
       "    <tr>\n",
       "      <th>10</th>\n",
       "      <td>409.906952</td>\n",
       "      <td>726.425251</td>\n",
       "      <td>360.881799</td>\n",
       "    </tr>\n",
       "  </tbody>\n",
       "</table>\n",
       "</div>"
      ],
      "text/plain": [
       "     Lasso_Min    Lasso_1se       Ridge\n",
       "1   174.624645   285.493075  194.307798\n",
       "2   492.149188   480.165237  498.094121\n",
       "3   611.015584   346.401177  951.627918\n",
       "4   245.204244   376.714419  231.714289\n",
       "5   181.054778   325.991152  177.049667\n",
       "6   625.917213   916.320550  608.808802\n",
       "7   286.406773   463.492302  267.102513\n",
       "8   671.020599  1043.007662  640.479788\n",
       "9   660.394624   798.035795  675.594730\n",
       "10  409.906952   726.425251  360.881799"
      ]
     },
     "execution_count": 47,
     "metadata": {},
     "output_type": "execute_result"
    }
   ],
   "source": [
    "df_result_lasso1 = pd.DataFrame({'Lasso_Min': -lasso_cv_min}, index = range(1,11))\n",
    "df_result_lasso1['Lasso_1se'] = -lasso_cv_1se\n",
    "df_result_lasso1['Ridge'] = -ridge_cv\n",
    "df_result_lasso1\n"
   ]
  },
  {
   "cell_type": "code",
   "execution_count": 48,
   "id": "05b9cc7f",
   "metadata": {},
   "outputs": [
    {
     "name": "stdout",
     "output_type": "stream",
     "text": [
      "The MSE for Full data is :\n",
      "\n",
      " Lasso_Min    435.77\n",
      "Lasso_1se    576.20\n",
      "Ridge        460.57\n",
      "dtype: float64\n"
     ]
    }
   ],
   "source": [
    "print('The MSE for Full data is :\\n\\n', np.round((df_result_lasso1.mean()), 2))\n"
   ]
  },
  {
   "cell_type": "markdown",
   "id": "959ab3e4",
   "metadata": {},
   "source": [
    "# Report MSEPs for each fold based in LinerRegression"
   ]
  },
  {
   "cell_type": "markdown",
   "id": "2f3dca7a",
   "metadata": {},
   "source": [
    "**Liner regression for 10cv error with features such as Lasso_min:**\n",
    "\n",
    "**[Solar.R ,  Temp ,\t TWcp  \t,TWrat]**\n"
   ]
  },
  {
   "cell_type": "code",
   "execution_count": 49,
   "id": "ba501ab3",
   "metadata": {},
   "outputs": [
    {
     "data": {
      "text/html": [
       "<div>\n",
       "<style scoped>\n",
       "    .dataframe tbody tr th:only-of-type {\n",
       "        vertical-align: middle;\n",
       "    }\n",
       "\n",
       "    .dataframe tbody tr th {\n",
       "        vertical-align: top;\n",
       "    }\n",
       "\n",
       "    .dataframe thead th {\n",
       "        text-align: right;\n",
       "    }\n",
       "</style>\n",
       "<table border=\"1\" class=\"dataframe\">\n",
       "  <thead>\n",
       "    <tr style=\"text-align: right;\">\n",
       "      <th></th>\n",
       "      <th>Solar.R</th>\n",
       "      <th>Wind</th>\n",
       "      <th>Temp</th>\n",
       "      <th>TWcp</th>\n",
       "      <th>TWrat</th>\n",
       "    </tr>\n",
       "  </thead>\n",
       "  <tbody>\n",
       "    <tr>\n",
       "      <th>0</th>\n",
       "      <td>-1.789236</td>\n",
       "      <td>0.313920</td>\n",
       "      <td>-0.693883</td>\n",
       "      <td>0.140100</td>\n",
       "      <td>-0.553468</td>\n",
       "    </tr>\n",
       "    <tr>\n",
       "      <th>1</th>\n",
       "      <td>1.364247</td>\n",
       "      <td>0.480431</td>\n",
       "      <td>-1.623981</td>\n",
       "      <td>-0.112941</td>\n",
       "      <td>-0.755778</td>\n",
       "    </tr>\n",
       "    <tr>\n",
       "      <th>2</th>\n",
       "      <td>0.938690</td>\n",
       "      <td>0.147409</td>\n",
       "      <td>0.442904</td>\n",
       "      <td>0.433861</td>\n",
       "      <td>-0.291548</td>\n",
       "    </tr>\n",
       "    <tr>\n",
       "      <th>3</th>\n",
       "      <td>0.043930</td>\n",
       "      <td>0.480431</td>\n",
       "      <td>0.856281</td>\n",
       "      <td>1.033849</td>\n",
       "      <td>-0.378252</td>\n",
       "    </tr>\n",
       "    <tr>\n",
       "      <th>4</th>\n",
       "      <td>0.000283</td>\n",
       "      <td>-0.962665</td>\n",
       "      <td>1.683035</td>\n",
       "      <td>-0.614870</td>\n",
       "      <td>0.965665</td>\n",
       "    </tr>\n",
       "  </tbody>\n",
       "</table>\n",
       "</div>"
      ],
      "text/plain": [
       "    Solar.R      Wind      Temp      TWcp     TWrat\n",
       "0 -1.789236  0.313920 -0.693883  0.140100 -0.553468\n",
       "1  1.364247  0.480431 -1.623981 -0.112941 -0.755778\n",
       "2  0.938690  0.147409  0.442904  0.433861 -0.291548\n",
       "3  0.043930  0.480431  0.856281  1.033849 -0.378252\n",
       "4  0.000283 -0.962665  1.683035 -0.614870  0.965665"
      ]
     },
     "execution_count": 49,
     "metadata": {},
     "output_type": "execute_result"
    }
   ],
   "source": [
    "df_X_train =pd.DataFrame(X_train,columns = ['Solar.R','Wind','Temp','TWcp','TWrat']) \n",
    "df_X_train.head(5)\n"
   ]
  },
  {
   "cell_type": "markdown",
   "id": "d4b4656e",
   "metadata": {},
   "source": [
    "## LinearRegression()"
   ]
  },
  {
   "cell_type": "code",
   "execution_count": 50,
   "id": "989f361f",
   "metadata": {},
   "outputs": [],
   "source": [
    "Liner_regression_cv = cross_val_score(LinearRegression(), df_X_train[['Solar.R','Temp','TWcp','TWrat']],\n",
    "                                      y_train , scoring= 'neg_mean_squared_error', cv= CV10)\n"
   ]
  },
  {
   "cell_type": "code",
   "execution_count": 51,
   "id": "4f1e4cea",
   "metadata": {},
   "outputs": [
    {
     "data": {
      "text/html": [
       "<div>\n",
       "<style scoped>\n",
       "    .dataframe tbody tr th:only-of-type {\n",
       "        vertical-align: middle;\n",
       "    }\n",
       "\n",
       "    .dataframe tbody tr th {\n",
       "        vertical-align: top;\n",
       "    }\n",
       "\n",
       "    .dataframe thead th {\n",
       "        text-align: right;\n",
       "    }\n",
       "</style>\n",
       "<table border=\"1\" class=\"dataframe\">\n",
       "  <thead>\n",
       "    <tr style=\"text-align: right;\">\n",
       "      <th></th>\n",
       "      <th>Lasso_Min</th>\n",
       "      <th>Lasso_1se</th>\n",
       "      <th>Ridge</th>\n",
       "      <th>LinearReg</th>\n",
       "      <th>Hybrid</th>\n",
       "    </tr>\n",
       "  </thead>\n",
       "  <tbody>\n",
       "    <tr>\n",
       "      <th>1</th>\n",
       "      <td>174.624645</td>\n",
       "      <td>285.493075</td>\n",
       "      <td>194.307798</td>\n",
       "      <td>191.027993</td>\n",
       "      <td>197.915121</td>\n",
       "    </tr>\n",
       "    <tr>\n",
       "      <th>2</th>\n",
       "      <td>492.149188</td>\n",
       "      <td>480.165237</td>\n",
       "      <td>498.094121</td>\n",
       "      <td>522.982040</td>\n",
       "      <td>286.711961</td>\n",
       "    </tr>\n",
       "    <tr>\n",
       "      <th>3</th>\n",
       "      <td>611.015584</td>\n",
       "      <td>346.401177</td>\n",
       "      <td>951.627918</td>\n",
       "      <td>1329.583923</td>\n",
       "      <td>999.489579</td>\n",
       "    </tr>\n",
       "    <tr>\n",
       "      <th>4</th>\n",
       "      <td>245.204244</td>\n",
       "      <td>376.714419</td>\n",
       "      <td>231.714289</td>\n",
       "      <td>246.757220</td>\n",
       "      <td>242.203701</td>\n",
       "    </tr>\n",
       "    <tr>\n",
       "      <th>5</th>\n",
       "      <td>181.054778</td>\n",
       "      <td>325.991152</td>\n",
       "      <td>177.049667</td>\n",
       "      <td>169.649796</td>\n",
       "      <td>331.315101</td>\n",
       "    </tr>\n",
       "    <tr>\n",
       "      <th>6</th>\n",
       "      <td>625.917213</td>\n",
       "      <td>916.320550</td>\n",
       "      <td>608.808802</td>\n",
       "      <td>610.961963</td>\n",
       "      <td>499.692373</td>\n",
       "    </tr>\n",
       "    <tr>\n",
       "      <th>7</th>\n",
       "      <td>286.406773</td>\n",
       "      <td>463.492302</td>\n",
       "      <td>267.102513</td>\n",
       "      <td>271.238607</td>\n",
       "      <td>939.320947</td>\n",
       "    </tr>\n",
       "    <tr>\n",
       "      <th>8</th>\n",
       "      <td>671.020599</td>\n",
       "      <td>1043.007662</td>\n",
       "      <td>640.479788</td>\n",
       "      <td>650.387317</td>\n",
       "      <td>152.457424</td>\n",
       "    </tr>\n",
       "    <tr>\n",
       "      <th>9</th>\n",
       "      <td>660.394624</td>\n",
       "      <td>798.035795</td>\n",
       "      <td>675.594730</td>\n",
       "      <td>705.196805</td>\n",
       "      <td>261.183365</td>\n",
       "    </tr>\n",
       "    <tr>\n",
       "      <th>10</th>\n",
       "      <td>409.906952</td>\n",
       "      <td>726.425251</td>\n",
       "      <td>360.881799</td>\n",
       "      <td>371.298948</td>\n",
       "      <td>165.892714</td>\n",
       "    </tr>\n",
       "  </tbody>\n",
       "</table>\n",
       "</div>"
      ],
      "text/plain": [
       "     Lasso_Min    Lasso_1se       Ridge    LinearReg      Hybrid\n",
       "1   174.624645   285.493075  194.307798   191.027993  197.915121\n",
       "2   492.149188   480.165237  498.094121   522.982040  286.711961\n",
       "3   611.015584   346.401177  951.627918  1329.583923  999.489579\n",
       "4   245.204244   376.714419  231.714289   246.757220  242.203701\n",
       "5   181.054778   325.991152  177.049667   169.649796  331.315101\n",
       "6   625.917213   916.320550  608.808802   610.961963  499.692373\n",
       "7   286.406773   463.492302  267.102513   271.238607  939.320947\n",
       "8   671.020599  1043.007662  640.479788   650.387317  152.457424\n",
       "9   660.394624   798.035795  675.594730   705.196805  261.183365\n",
       "10  409.906952   726.425251  360.881799   371.298948  165.892714"
      ]
     },
     "execution_count": 51,
     "metadata": {},
     "output_type": "execute_result"
    }
   ],
   "source": [
    "df_result_lasso1['LinearReg'] = -Liner_regression_cv\n",
    "\n",
    "# Data of Hybrid model copied from previouse assignment : score_cv_hybrid_model4 \n",
    "df_result_lasso1['Hybrid']= [197.91512069, 286.71196058, 999.48957935, 242.20370119, 331.31510107, \\\n",
    "                             499.69237293, 939.32094704, 152.45742361, 261.18336512, 165.89271419]\n",
    "\n",
    "df_result_lasso1"
   ]
  },
  {
   "cell_type": "markdown",
   "id": "b9ac7e0a",
   "metadata": {},
   "source": [
    "## MSPE box plots"
   ]
  },
  {
   "cell_type": "code",
   "execution_count": 52,
   "id": "c5993e00",
   "metadata": {},
   "outputs": [
    {
     "data": {
      "image/png": "[encoded data removed]",
      "text/plain": [
       "<Figure size 864x576 with 5 Axes>"
      ]
     },
     "metadata": {
      "needs_background": "light"
     },
     "output_type": "display_data"
    }
   ],
   "source": [
    "fig1, ax1 = plt.subplots(1,5, sharey= True, figsize=(12,8))\n",
    "\n",
    "ax1[0].boxplot(df_result_lasso1.Lasso_Min, meanline= True, showmeans= True)\n",
    "\n",
    "ax1[1].boxplot(df_result_lasso1.Lasso_1se, meanline= True, showmeans= True)\n",
    "\n",
    "ax1[2].boxplot(df_result_lasso1.Ridge, meanline= True, showmeans= True)\n",
    "\n",
    "ax1[3].boxplot(df_result_lasso1.LinearReg, meanline= True, showmeans= True, sym='')\n",
    "\n",
    "ax1[4].boxplot(df_result_lasso1.Hybrid, meanline= True, showmeans= True, sym='')\n",
    "\n",
    "\n",
    "ax1[0].set_title('LASSO_Min_Scores')\n",
    "ax1[1].set_title('LASSO_1se_Scores')\n",
    "ax1[2].set_title('RIDGE- Scores')\n",
    "ax1[3].set_title('Liner_regression_score')\n",
    "ax1[4].set_title('Hybrid_score')\n",
    "\n",
    "plt.show()"
   ]
  },
  {
   "cell_type": "markdown",
   "id": "1921ae91",
   "metadata": {},
   "source": [
    "### The best model:\n",
    "**It seems that the feature selection on Hybrid model is the best model. the next best one is Lasso based on minimum alpha**"
   ]
  },
  {
   "cell_type": "markdown",
   "id": "70e01d82",
   "metadata": {},
   "source": [
    "## RMSPE box plots"
   ]
  },
  {
   "cell_type": "code",
   "execution_count": 53,
   "id": "d315e3ed",
   "metadata": {},
   "outputs": [],
   "source": [
    "min_df = df_result_lasso1.min().min()"
   ]
  },
  {
   "cell_type": "code",
   "execution_count": 54,
   "id": "80e0c4f1",
   "metadata": {},
   "outputs": [
    {
     "data": {
      "text/html": [
       "<div>\n",
       "<style scoped>\n",
       "    .dataframe tbody tr th:only-of-type {\n",
       "        vertical-align: middle;\n",
       "    }\n",
       "\n",
       "    .dataframe tbody tr th {\n",
       "        vertical-align: top;\n",
       "    }\n",
       "\n",
       "    .dataframe thead th {\n",
       "        text-align: right;\n",
       "    }\n",
       "</style>\n",
       "<table border=\"1\" class=\"dataframe\">\n",
       "  <thead>\n",
       "    <tr style=\"text-align: right;\">\n",
       "      <th></th>\n",
       "      <th>Lasso_Min</th>\n",
       "      <th>Lasso_1se</th>\n",
       "      <th>Ridge</th>\n",
       "      <th>LinearReg</th>\n",
       "      <th>Hybrid</th>\n",
       "    </tr>\n",
       "  </thead>\n",
       "  <tbody>\n",
       "    <tr>\n",
       "      <th>1</th>\n",
       "      <td>1.145399</td>\n",
       "      <td>1.872609</td>\n",
       "      <td>1.274505</td>\n",
       "      <td>1.252992</td>\n",
       "      <td>1.298167</td>\n",
       "    </tr>\n",
       "    <tr>\n",
       "      <th>2</th>\n",
       "      <td>3.228109</td>\n",
       "      <td>3.149504</td>\n",
       "      <td>3.267103</td>\n",
       "      <td>3.430348</td>\n",
       "      <td>1.880603</td>\n",
       "    </tr>\n",
       "    <tr>\n",
       "      <th>3</th>\n",
       "      <td>4.007778</td>\n",
       "      <td>2.272117</td>\n",
       "      <td>6.241926</td>\n",
       "      <td>8.721018</td>\n",
       "      <td>6.555860</td>\n",
       "    </tr>\n",
       "    <tr>\n",
       "      <th>4</th>\n",
       "      <td>1.608346</td>\n",
       "      <td>2.470948</td>\n",
       "      <td>1.519862</td>\n",
       "      <td>1.618532</td>\n",
       "      <td>1.588665</td>\n",
       "    </tr>\n",
       "    <tr>\n",
       "      <th>5</th>\n",
       "      <td>1.187576</td>\n",
       "      <td>2.138244</td>\n",
       "      <td>1.161306</td>\n",
       "      <td>1.112768</td>\n",
       "      <td>2.173165</td>\n",
       "    </tr>\n",
       "    <tr>\n",
       "      <th>6</th>\n",
       "      <td>4.105521</td>\n",
       "      <td>6.010337</td>\n",
       "      <td>3.993304</td>\n",
       "      <td>4.007427</td>\n",
       "      <td>3.277586</td>\n",
       "    </tr>\n",
       "    <tr>\n",
       "      <th>7</th>\n",
       "      <td>1.878602</td>\n",
       "      <td>3.040143</td>\n",
       "      <td>1.751981</td>\n",
       "      <td>1.779111</td>\n",
       "      <td>6.161202</td>\n",
       "    </tr>\n",
       "    <tr>\n",
       "      <th>8</th>\n",
       "      <td>4.401364</td>\n",
       "      <td>6.841305</td>\n",
       "      <td>4.201040</td>\n",
       "      <td>4.266026</td>\n",
       "      <td>1.000000</td>\n",
       "    </tr>\n",
       "    <tr>\n",
       "      <th>9</th>\n",
       "      <td>4.331666</td>\n",
       "      <td>5.234483</td>\n",
       "      <td>4.431367</td>\n",
       "      <td>4.625533</td>\n",
       "      <td>1.713156</td>\n",
       "    </tr>\n",
       "    <tr>\n",
       "      <th>10</th>\n",
       "      <td>2.688665</td>\n",
       "      <td>4.764775</td>\n",
       "      <td>2.367099</td>\n",
       "      <td>2.435427</td>\n",
       "      <td>1.088125</td>\n",
       "    </tr>\n",
       "  </tbody>\n",
       "</table>\n",
       "</div>"
      ],
      "text/plain": [
       "    Lasso_Min  Lasso_1se     Ridge  LinearReg    Hybrid\n",
       "1    1.145399   1.872609  1.274505   1.252992  1.298167\n",
       "2    3.228109   3.149504  3.267103   3.430348  1.880603\n",
       "3    4.007778   2.272117  6.241926   8.721018  6.555860\n",
       "4    1.608346   2.470948  1.519862   1.618532  1.588665\n",
       "5    1.187576   2.138244  1.161306   1.112768  2.173165\n",
       "6    4.105521   6.010337  3.993304   4.007427  3.277586\n",
       "7    1.878602   3.040143  1.751981   1.779111  6.161202\n",
       "8    4.401364   6.841305  4.201040   4.266026  1.000000\n",
       "9    4.331666   5.234483  4.431367   4.625533  1.713156\n",
       "10   2.688665   4.764775  2.367099   2.435427  1.088125"
      ]
     },
     "execution_count": 54,
     "metadata": {},
     "output_type": "execute_result"
    }
   ],
   "source": [
    "min_df = df_result_lasso1.min().min()\n",
    "lasso_r_mse = df_result_lasso1/ min_df\n",
    "lasso_r_mse\n"
   ]
  },
  {
   "cell_type": "code",
   "execution_count": 55,
   "id": "42d7df27",
   "metadata": {},
   "outputs": [
    {
     "data": {
      "image/png": "[encoded data removed]",
      "text/plain": [
       "<Figure size 864x576 with 5 Axes>"
      ]
     },
     "metadata": {
      "needs_background": "light"
     },
     "output_type": "display_data"
    }
   ],
   "source": [
    "fig2, ax2 = plt.subplots(1,5, sharey= True, figsize=(12,8))\n",
    "\n",
    "ax2[0].boxplot(lasso_r_mse.Lasso_Min, meanline= True, showmeans= True)\n",
    "\n",
    "ax2[1].boxplot(lasso_r_mse.Lasso_1se, meanline= True, showmeans= True)\n",
    "\n",
    "ax2[2].boxplot(lasso_r_mse.Ridge, meanline= True, showmeans= True)\n",
    "\n",
    "ax2[3].boxplot(lasso_r_mse.LinearReg, meanline= True, showmeans= True, sym='')\n",
    "\n",
    "ax2[4].boxplot(lasso_r_mse.Hybrid, meanline= True, showmeans= True, sym='')\n",
    "\n",
    "\n",
    "ax2[0].set_title('LASSO_Min_Scores')\n",
    "ax2[1].set_title('LASSO_1se_Scores')\n",
    "ax2[2].set_title('RIDGE- Scores')\n",
    "ax2[3].set_title('Liner_regression_score')\n",
    "ax2[4].set_title('Hybrid_score')\n",
    "\n",
    "plt.show()"
   ]
  }
 ],
 "metadata": {
  "kernelspec": {
   "display_name": "Python 3",
   "language": "python",
   "name": "python3"
  },
  "language_info": {
   "codemirror_mode": {
    "name": "ipython",
    "version": 3
   },
   "file_extension": ".py",
   "mimetype": "text/x-python",
   "name": "python",
   "nbconvert_exporter": "python",
   "pygments_lexer": "ipython3",
   "version": "3.9.6"
  }
 },
 "nbformat": 4,
 "nbformat_minor": 5
}
