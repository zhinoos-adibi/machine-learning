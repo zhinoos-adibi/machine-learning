{
 "cells": [
  {
   "cell_type": "markdown",
   "id": "f8b86527",
   "metadata": {},
   "source": [
    "# Assignmnet 4 - part 4"
   ]
  },
  {
   "cell_type": "code",
   "execution_count": 2,
   "id": "0179f2f4",
   "metadata": {},
   "outputs": [],
   "source": [
    "import pandas as pd\n",
    "import numpy as np\n",
    "import statsmodels.api as sm\n",
    "import matplotlib.pyplot as plt\n",
    "import seaborn as sns\n",
    "from sklearn.linear_model import LinearRegression  \n",
    "from sklearn.model_selection import train_test_split, cross_val_score, RepeatedKFold\n",
    "import sklearn\n",
    "import random\n",
    "\n",
    "sns.set()"
   ]
  },
  {
   "cell_type": "code",
   "execution_count": 3,
   "id": "3bee83b1",
   "metadata": {},
   "outputs": [
    {
     "data": {
      "text/html": [
       "<div>\n",
       "<style scoped>\n",
       "    .dataframe tbody tr th:only-of-type {\n",
       "        vertical-align: middle;\n",
       "    }\n",
       "\n",
       "    .dataframe tbody tr th {\n",
       "        vertical-align: top;\n",
       "    }\n",
       "\n",
       "    .dataframe thead th {\n",
       "        text-align: right;\n",
       "    }\n",
       "</style>\n",
       "<table border=\"1\" class=\"dataframe\">\n",
       "  <thead>\n",
       "    <tr style=\"text-align: right;\">\n",
       "      <th></th>\n",
       "      <th>Ozone</th>\n",
       "      <th>Solar.R</th>\n",
       "      <th>Wind</th>\n",
       "      <th>Temp</th>\n",
       "    </tr>\n",
       "  </thead>\n",
       "  <tbody>\n",
       "    <tr>\n",
       "      <th>0</th>\n",
       "      <td>41.0</td>\n",
       "      <td>190.0</td>\n",
       "      <td>7.4</td>\n",
       "      <td>67</td>\n",
       "    </tr>\n",
       "    <tr>\n",
       "      <th>1</th>\n",
       "      <td>36.0</td>\n",
       "      <td>118.0</td>\n",
       "      <td>8.0</td>\n",
       "      <td>72</td>\n",
       "    </tr>\n",
       "    <tr>\n",
       "      <th>2</th>\n",
       "      <td>12.0</td>\n",
       "      <td>149.0</td>\n",
       "      <td>12.6</td>\n",
       "      <td>74</td>\n",
       "    </tr>\n",
       "    <tr>\n",
       "      <th>3</th>\n",
       "      <td>18.0</td>\n",
       "      <td>313.0</td>\n",
       "      <td>11.5</td>\n",
       "      <td>62</td>\n",
       "    </tr>\n",
       "    <tr>\n",
       "      <th>4</th>\n",
       "      <td>NaN</td>\n",
       "      <td>NaN</td>\n",
       "      <td>14.3</td>\n",
       "      <td>56</td>\n",
       "    </tr>\n",
       "  </tbody>\n",
       "</table>\n",
       "</div>"
      ],
      "text/plain": [
       "   Ozone  Solar.R  Wind  Temp\n",
       "0   41.0    190.0   7.4    67\n",
       "1   36.0    118.0   8.0    72\n",
       "2   12.0    149.0  12.6    74\n",
       "3   18.0    313.0  11.5    62\n",
       "4    NaN      NaN  14.3    56"
      ]
     },
     "execution_count": 3,
     "metadata": {},
     "output_type": "execute_result"
    }
   ],
   "source": [
    "df = pd.read_csv('airquality.csv',usecols = ['Ozone','Solar.R','Wind','Temp'])\n",
    "df.head()"
   ]
  },
  {
   "cell_type": "code",
   "execution_count": 4,
   "id": "ae6e44ba",
   "metadata": {},
   "outputs": [
    {
     "data": {
      "text/plain": [
       "(111, 4)"
      ]
     },
     "execution_count": 4,
     "metadata": {},
     "output_type": "execute_result"
    }
   ],
   "source": [
    "df_airquality_part4 = df.copy()\n",
    "df_airquality_part4 = df_airquality_part4.dropna()\n",
    "df_airquality_part4.shape"
   ]
  },
  {
   "cell_type": "code",
   "execution_count": 32,
   "id": "3517992e",
   "metadata": {},
   "outputs": [
    {
     "data": {
      "text/html": [
       "<div>\n",
       "<style scoped>\n",
       "    .dataframe tbody tr th:only-of-type {\n",
       "        vertical-align: middle;\n",
       "    }\n",
       "\n",
       "    .dataframe tbody tr th {\n",
       "        vertical-align: top;\n",
       "    }\n",
       "\n",
       "    .dataframe thead th {\n",
       "        text-align: right;\n",
       "    }\n",
       "</style>\n",
       "<table border=\"1\" class=\"dataframe\">\n",
       "  <thead>\n",
       "    <tr style=\"text-align: right;\">\n",
       "      <th></th>\n",
       "      <th>Ozone</th>\n",
       "      <th>Solar.R</th>\n",
       "      <th>Wind</th>\n",
       "      <th>Temp</th>\n",
       "      <th>TWcp</th>\n",
       "      <th>TWrat</th>\n",
       "      <th>Temp_Wind_TWcp</th>\n",
       "      <th>Temp_Wind_TWrat</th>\n",
       "      <th>wind_min</th>\n",
       "      <th>wind_max</th>\n",
       "      <th>Temp_min_Wind_TWcp</th>\n",
       "      <th>Temp_max_Wind_TWcp</th>\n",
       "      <th>interaction_formula</th>\n",
       "    </tr>\n",
       "  </thead>\n",
       "  <tbody>\n",
       "    <tr>\n",
       "      <th>0</th>\n",
       "      <td>41.0</td>\n",
       "      <td>190.0</td>\n",
       "      <td>7.4</td>\n",
       "      <td>67</td>\n",
       "      <td>495.8</td>\n",
       "      <td>9.05</td>\n",
       "      <td>570.2</td>\n",
       "      <td>83.45</td>\n",
       "      <td>2.3</td>\n",
       "      <td>20.7</td>\n",
       "      <td>154.1</td>\n",
       "      <td>1386.9</td>\n",
       "      <td>55539.96</td>\n",
       "    </tr>\n",
       "    <tr>\n",
       "      <th>1</th>\n",
       "      <td>36.0</td>\n",
       "      <td>118.0</td>\n",
       "      <td>8.0</td>\n",
       "      <td>72</td>\n",
       "      <td>576.0</td>\n",
       "      <td>9.00</td>\n",
       "      <td>656.0</td>\n",
       "      <td>89.00</td>\n",
       "      <td>2.3</td>\n",
       "      <td>20.7</td>\n",
       "      <td>165.6</td>\n",
       "      <td>1490.4</td>\n",
       "      <td>29386.00</td>\n",
       "    </tr>\n",
       "    <tr>\n",
       "      <th>2</th>\n",
       "      <td>12.0</td>\n",
       "      <td>149.0</td>\n",
       "      <td>12.6</td>\n",
       "      <td>74</td>\n",
       "      <td>932.4</td>\n",
       "      <td>5.87</td>\n",
       "      <td>1019.0</td>\n",
       "      <td>92.47</td>\n",
       "      <td>2.3</td>\n",
       "      <td>20.7</td>\n",
       "      <td>170.2</td>\n",
       "      <td>1531.8</td>\n",
       "      <td>41907.16</td>\n",
       "    </tr>\n",
       "    <tr>\n",
       "      <th>3</th>\n",
       "      <td>18.0</td>\n",
       "      <td>313.0</td>\n",
       "      <td>11.5</td>\n",
       "      <td>62</td>\n",
       "      <td>713.0</td>\n",
       "      <td>5.39</td>\n",
       "      <td>786.5</td>\n",
       "      <td>78.89</td>\n",
       "      <td>2.3</td>\n",
       "      <td>20.7</td>\n",
       "      <td>142.6</td>\n",
       "      <td>1283.4</td>\n",
       "      <td>126050.25</td>\n",
       "    </tr>\n",
       "    <tr>\n",
       "      <th>6</th>\n",
       "      <td>23.0</td>\n",
       "      <td>299.0</td>\n",
       "      <td>8.6</td>\n",
       "      <td>65</td>\n",
       "      <td>559.0</td>\n",
       "      <td>7.56</td>\n",
       "      <td>632.6</td>\n",
       "      <td>81.16</td>\n",
       "      <td>2.3</td>\n",
       "      <td>20.7</td>\n",
       "      <td>149.5</td>\n",
       "      <td>1345.5</td>\n",
       "      <td>116637.96</td>\n",
       "    </tr>\n",
       "  </tbody>\n",
       "</table>\n",
       "</div>"
      ],
      "text/plain": [
       "   Ozone  Solar.R  Wind  Temp   TWcp  TWrat  Temp_Wind_TWcp  Temp_Wind_TWrat  \\\n",
       "0   41.0    190.0   7.4    67  495.8   9.05           570.2            83.45   \n",
       "1   36.0    118.0   8.0    72  576.0   9.00           656.0            89.00   \n",
       "2   12.0    149.0  12.6    74  932.4   5.87          1019.0            92.47   \n",
       "3   18.0    313.0  11.5    62  713.0   5.39           786.5            78.89   \n",
       "6   23.0    299.0   8.6    65  559.0   7.56           632.6            81.16   \n",
       "\n",
       "   wind_min  wind_max  Temp_min_Wind_TWcp  Temp_max_Wind_TWcp  \\\n",
       "0       2.3      20.7               154.1              1386.9   \n",
       "1       2.3      20.7               165.6              1490.4   \n",
       "2       2.3      20.7               170.2              1531.8   \n",
       "3       2.3      20.7               142.6              1283.4   \n",
       "6       2.3      20.7               149.5              1345.5   \n",
       "\n",
       "   interaction_formula  \n",
       "0             55539.96  \n",
       "1             29386.00  \n",
       "2             41907.16  \n",
       "3            126050.25  \n",
       "6            116637.96  "
      ]
     },
     "execution_count": 32,
     "metadata": {},
     "output_type": "execute_result"
    }
   ],
   "source": [
    "df_airquality_part4['TWcp'] = np.round(df_airquality_part4['Temp']* df_airquality_part4['Wind'],2)\n",
    "df_airquality_part4['TWrat'] = np.round(df_airquality_part4['Temp']/ df_airquality_part4['Wind'],2)\n",
    "df_airquality_part4.head()\n"
   ]
  },
  {
   "cell_type": "markdown",
   "id": "9470ef6e",
   "metadata": {},
   "source": [
    "## Assignment 4 - Part 4 - excercise 1"
   ]
  },
  {
   "cell_type": "code",
   "execution_count": 6,
   "id": "424795e8",
   "metadata": {},
   "outputs": [
    {
     "name": "stdout",
     "output_type": "stream",
     "text": [
      "The summary report of TWcp is :\n",
      "\n",
      "               TWcp\n",
      "count   111.000000\n",
      "mean    756.527027\n",
      "std     246.263629\n",
      "min     216.200000\n",
      "25%     591.950000\n",
      "50%     739.600000\n",
      "75%     888.350000\n",
      "max    1490.400000\n",
      "\n",
      "\n",
      "The summary report of TWrat is\n",
      "\n",
      " :             TWrat\n",
      "count  111.000000\n",
      "mean     9.418649\n",
      "std      5.614314\n",
      "min      3.030000\n",
      "25%      5.910000\n",
      "50%      7.570000\n",
      "75%     11.150000\n",
      "max     40.870000\n"
     ]
    }
   ],
   "source": [
    "print ('The summary report of TWcp is :\\n\\n' , df_airquality_part4[['TWcp']].describe())\n",
    "print ('\\n\\nThe summary report of TWrat is\\n\\n :' , df_airquality_part4[['TWrat']].describe())\n"
   ]
  },
  {
   "cell_type": "markdown",
   "id": "b57046ff",
   "metadata": {},
   "source": [
    " ## Assignment 4 - Part 4 - excercise 2\n",
    " **Create two new models : Model 1: Temp + Wind + TWcp.**\n",
    " \n",
    " **Model 2: Temp + Wind + TWrat**"
   ]
  },
  {
   "cell_type": "code",
   "execution_count": 7,
   "id": "a7bca76b",
   "metadata": {},
   "outputs": [
    {
     "data": {
      "text/plain": [
       "(111, 8)"
      ]
     },
     "execution_count": 7,
     "metadata": {},
     "output_type": "execute_result"
    }
   ],
   "source": [
    "df_airquality_part4['Temp_Wind_TWcp'] = df_airquality_part4['Temp']+ df_airquality_part4['Wind']+\\\n",
    "df_airquality_part4['TWcp']\n",
    "\n",
    "df_airquality_part4['Temp_Wind_TWrat'] = df_airquality_part4['Temp']+ df_airquality_part4['Wind']+\\\n",
    "df_airquality_part4['TWrat']\n",
    "df_airquality_part4.head()\n",
    "df_airquality_part4.shape"
   ]
  },
  {
   "cell_type": "code",
   "execution_count": 8,
   "id": "70906072",
   "metadata": {},
   "outputs": [],
   "source": [
    "y = df_airquality_part4 [['Ozone']]\n",
    "Temp_Wind_TWcp_df = df_airquality_part4 [['Temp_Wind_TWcp']]\n",
    "Temp_Wind_TWrat_df = df_airquality_part4 [['Temp_Wind_TWrat']]"
   ]
  },
  {
   "cell_type": "markdown",
   "id": "2f5db087",
   "metadata": {},
   "source": [
    "**Ozon Regression by Temp_Wind_TWcp Regression and Ozon Regression by Temp_Wind_TWcp Regression**"
   ]
  },
  {
   "cell_type": "code",
   "execution_count": 9,
   "id": "e5033358",
   "metadata": {
    "scrolled": false
   },
   "outputs": [
    {
     "name": "stdout",
     "output_type": "stream",
     "text": [
      "                            OLS Regression Results                            \n",
      "==============================================================================\n",
      "Dep. Variable:                  Ozone   R-squared:                       0.185\n",
      "Model:                            OLS   Adj. R-squared:                  0.177\n",
      "Method:                 Least Squares   F-statistic:                     24.71\n",
      "Date:                Wed, 01 Dec 2021   Prob (F-statistic):           2.49e-06\n",
      "Time:                        17:23:36   Log-Likelihood:                -534.69\n",
      "No. Observations:                 111   AIC:                             1073.\n",
      "Df Residuals:                     109   BIC:                             1079.\n",
      "Df Model:                           1                                         \n",
      "Covariance Type:            nonrobust                                         \n",
      "==================================================================================\n",
      "                     coef    std err          t      P>|t|      [0.025      0.975]\n",
      "----------------------------------------------------------------------------------\n",
      "const             90.7850     10.204      8.897      0.000      70.562     111.009\n",
      "Temp_Wind_TWcp    -0.0577      0.012     -4.971      0.000      -0.081      -0.035\n",
      "==============================================================================\n",
      "Omnibus:                       10.337   Durbin-Watson:                   1.219\n",
      "Prob(Omnibus):                  0.006   Jarque-Bera (JB):               11.091\n",
      "Skew:                           0.774   Prob(JB):                      0.00390\n",
      "Kurtosis:                       3.037   Cond. No.                     3.13e+03\n",
      "==============================================================================\n",
      "\n",
      "Notes:\n",
      "[1] Standard Errors assume that the covariance matrix of the errors is correctly specified.\n",
      "[2] The condition number is large, 3.13e+03. This might indicate that there are\n",
      "strong multicollinearity or other numerical problems.\n"
     ]
    },
    {
     "name": "stderr",
     "output_type": "stream",
     "text": [
      "C:\\Users\\mzand\\AppData\\Roaming\\Python\\Python39\\site-packages\\statsmodels\\tsa\\tsatools.py:142: FutureWarning: In a future version of pandas all arguments of concat except for the argument 'objs' will be keyword-only\n",
      "  x = pd.concat(x[::order], 1)\n"
     ]
    }
   ],
   "source": [
    "x1 = sm.add_constant(Temp_Wind_TWcp_df)    \n",
    "results_Temp_Wind_TWcp = sm.OLS(y,x1).fit()\n",
    "\n",
    "x2 = sm.add_constant(Temp_Wind_TWrat_df)    \n",
    "results_Temp_Wind_TWrat = sm.OLS(y,x2).fit()\n",
    "\n",
    "print(results_Temp_Wind_TWcp.summary())\n",
    "\n",
    "\n"
   ]
  },
  {
   "cell_type": "markdown",
   "id": "40f7da66",
   "metadata": {},
   "source": [
    " **Ozon Regression by Temp_Wind_TWcp Regression**"
   ]
  },
  {
   "cell_type": "code",
   "execution_count": 10,
   "id": "9da41843",
   "metadata": {},
   "outputs": [
    {
     "name": "stdout",
     "output_type": "stream",
     "text": [
      "                            OLS Regression Results                            \n",
      "==============================================================================\n",
      "Dep. Variable:                  Ozone   R-squared:                       0.547\n",
      "Model:                            OLS   Adj. R-squared:                  0.542\n",
      "Method:                 Least Squares   F-statistic:                     131.4\n",
      "Date:                Wed, 01 Dec 2021   Prob (F-statistic):           1.94e-20\n",
      "Time:                        17:23:36   Log-Likelihood:                -502.14\n",
      "No. Observations:                 111   AIC:                             1008.\n",
      "Df Residuals:                     109   BIC:                             1014.\n",
      "Df Model:                           1                                         \n",
      "Covariance Type:            nonrobust                                         \n",
      "===================================================================================\n",
      "                      coef    std err          t      P>|t|      [0.025      0.975]\n",
      "-----------------------------------------------------------------------------------\n",
      "const            -164.3758     18.138     -9.062      0.000    -200.325    -128.426\n",
      "Temp_Wind_TWrat     2.1253      0.185     11.463      0.000       1.758       2.493\n",
      "==============================================================================\n",
      "Omnibus:                       40.593   Durbin-Watson:                   1.787\n",
      "Prob(Omnibus):                  0.000   Jarque-Bera (JB):              103.940\n",
      "Skew:                           1.367   Prob(JB):                     2.69e-23\n",
      "Kurtosis:                       6.872   Cond. No.                         831.\n",
      "==============================================================================\n",
      "\n",
      "Notes:\n",
      "[1] Standard Errors assume that the covariance matrix of the errors is correctly specified.\n"
     ]
    }
   ],
   "source": [
    "print(results_Temp_Wind_TWrat.summary())"
   ]
  },
  {
   "cell_type": "markdown",
   "id": "dc4503a1",
   "metadata": {},
   "source": [
    "### Assignment 4 - Part 4 - excercise 2\n",
    "**a) Report t-test Result**"
   ]
  },
  {
   "cell_type": "code",
   "execution_count": 11,
   "id": "7da6cf68",
   "metadata": {},
   "outputs": [
    {
     "name": "stdout",
     "output_type": "stream",
     "text": [
      "p_value of const in Ozon Regression by Temp_Wind_TWcp Regression is: 0.00 \n",
      "\n",
      "p_value of Temp_Wind_TWcp in Ozon Regression by Temp_Wind_TWcp Regression is: 0.00\n",
      "  ----------------------------------------------------------------------------------------------------\n",
      "p_value of const in Ozon Regression by Temp_Wind_TWrat Regression is: 0.00 \n",
      "\n",
      "p_value of Temp_Wind_TWrat in Ozon Regression by Temp_Wind_TWrat Regression is: 0.00 \n"
     ]
    }
   ],
   "source": [
    "print('p_value of const in Ozon Regression by Temp_Wind_TWcp Regression is: 0.00 \\n' )\n",
    "print('p_value of Temp_Wind_TWcp in Ozon Regression by Temp_Wind_TWcp Regression is: 0.00\\n ',100*'-' )\n",
    "print('p_value of const in Ozon Regression by Temp_Wind_TWrat Regression is: 0.00 \\n' )\n",
    "print('p_value of Temp_Wind_TWrat in Ozon Regression by Temp_Wind_TWrat Regression is: 0.00 ' )\n"
   ]
  },
  {
   "cell_type": "markdown",
   "id": "e4ad542c",
   "metadata": {},
   "source": [
    "### Assignment 4 - Part 4 - excercise 2\n",
    "**b)According to the  p_valuse based on the t_test results there is no difference between variables**\n"
   ]
  },
  {
   "cell_type": "code",
   "execution_count": 12,
   "id": "8e5a78b7",
   "metadata": {},
   "outputs": [
    {
     "data": {
      "text/html": [
       "<div>\n",
       "<style scoped>\n",
       "    .dataframe tbody tr th:only-of-type {\n",
       "        vertical-align: middle;\n",
       "    }\n",
       "\n",
       "    .dataframe tbody tr th {\n",
       "        vertical-align: top;\n",
       "    }\n",
       "\n",
       "    .dataframe thead th {\n",
       "        text-align: right;\n",
       "    }\n",
       "</style>\n",
       "<table border=\"1\" class=\"dataframe\">\n",
       "  <thead>\n",
       "    <tr style=\"text-align: right;\">\n",
       "      <th></th>\n",
       "      <th>Ozone</th>\n",
       "      <th>Solar.R</th>\n",
       "      <th>Wind</th>\n",
       "      <th>Temp</th>\n",
       "      <th>TWcp</th>\n",
       "      <th>TWrat</th>\n",
       "      <th>Temp_Wind_TWcp</th>\n",
       "      <th>Temp_Wind_TWrat</th>\n",
       "    </tr>\n",
       "  </thead>\n",
       "  <tbody>\n",
       "    <tr>\n",
       "      <th>0</th>\n",
       "      <td>41.0</td>\n",
       "      <td>190.0</td>\n",
       "      <td>7.4</td>\n",
       "      <td>67</td>\n",
       "      <td>495.8</td>\n",
       "      <td>9.05</td>\n",
       "      <td>570.2</td>\n",
       "      <td>83.45</td>\n",
       "    </tr>\n",
       "    <tr>\n",
       "      <th>1</th>\n",
       "      <td>36.0</td>\n",
       "      <td>118.0</td>\n",
       "      <td>8.0</td>\n",
       "      <td>72</td>\n",
       "      <td>576.0</td>\n",
       "      <td>9.00</td>\n",
       "      <td>656.0</td>\n",
       "      <td>89.00</td>\n",
       "    </tr>\n",
       "    <tr>\n",
       "      <th>2</th>\n",
       "      <td>12.0</td>\n",
       "      <td>149.0</td>\n",
       "      <td>12.6</td>\n",
       "      <td>74</td>\n",
       "      <td>932.4</td>\n",
       "      <td>5.87</td>\n",
       "      <td>1019.0</td>\n",
       "      <td>92.47</td>\n",
       "    </tr>\n",
       "    <tr>\n",
       "      <th>3</th>\n",
       "      <td>18.0</td>\n",
       "      <td>313.0</td>\n",
       "      <td>11.5</td>\n",
       "      <td>62</td>\n",
       "      <td>713.0</td>\n",
       "      <td>5.39</td>\n",
       "      <td>786.5</td>\n",
       "      <td>78.89</td>\n",
       "    </tr>\n",
       "    <tr>\n",
       "      <th>6</th>\n",
       "      <td>23.0</td>\n",
       "      <td>299.0</td>\n",
       "      <td>8.6</td>\n",
       "      <td>65</td>\n",
       "      <td>559.0</td>\n",
       "      <td>7.56</td>\n",
       "      <td>632.6</td>\n",
       "      <td>81.16</td>\n",
       "    </tr>\n",
       "  </tbody>\n",
       "</table>\n",
       "</div>"
      ],
      "text/plain": [
       "   Ozone  Solar.R  Wind  Temp   TWcp  TWrat  Temp_Wind_TWcp  Temp_Wind_TWrat\n",
       "0   41.0    190.0   7.4    67  495.8   9.05           570.2            83.45\n",
       "1   36.0    118.0   8.0    72  576.0   9.00           656.0            89.00\n",
       "2   12.0    149.0  12.6    74  932.4   5.87          1019.0            92.47\n",
       "3   18.0    313.0  11.5    62  713.0   5.39           786.5            78.89\n",
       "6   23.0    299.0   8.6    65  559.0   7.56           632.6            81.16"
      ]
     },
     "execution_count": 12,
     "metadata": {},
     "output_type": "execute_result"
    }
   ],
   "source": [
    "df_airquality_part4.head()"
   ]
  },
  {
   "cell_type": "markdown",
   "id": "5ea11e14",
   "metadata": {},
   "source": [
    "### Assignment 4 - Part 4 - excercise 2\n",
    "**C) Customize the dataframe for cross produt term of question**"
   ]
  },
  {
   "cell_type": "code",
   "execution_count": 13,
   "id": "2f81512d",
   "metadata": {},
   "outputs": [
    {
     "data": {
      "text/html": [
       "<div>\n",
       "<style scoped>\n",
       "    .dataframe tbody tr th:only-of-type {\n",
       "        vertical-align: middle;\n",
       "    }\n",
       "\n",
       "    .dataframe tbody tr th {\n",
       "        vertical-align: top;\n",
       "    }\n",
       "\n",
       "    .dataframe thead th {\n",
       "        text-align: right;\n",
       "    }\n",
       "</style>\n",
       "<table border=\"1\" class=\"dataframe\">\n",
       "  <thead>\n",
       "    <tr style=\"text-align: right;\">\n",
       "      <th></th>\n",
       "      <th>Ozone</th>\n",
       "      <th>Solar.R</th>\n",
       "      <th>Wind</th>\n",
       "      <th>Temp</th>\n",
       "      <th>TWcp</th>\n",
       "      <th>TWrat</th>\n",
       "      <th>Temp_Wind_TWcp</th>\n",
       "      <th>Temp_Wind_TWrat</th>\n",
       "      <th>wind_min</th>\n",
       "      <th>wind_max</th>\n",
       "      <th>Temp_min_Wind_TWcp</th>\n",
       "      <th>Temp_max_Wind_TWcp</th>\n",
       "    </tr>\n",
       "  </thead>\n",
       "  <tbody>\n",
       "    <tr>\n",
       "      <th>0</th>\n",
       "      <td>41.0</td>\n",
       "      <td>190.0</td>\n",
       "      <td>7.4</td>\n",
       "      <td>67</td>\n",
       "      <td>495.8</td>\n",
       "      <td>9.05</td>\n",
       "      <td>570.2</td>\n",
       "      <td>83.45</td>\n",
       "      <td>2.3</td>\n",
       "      <td>20.7</td>\n",
       "      <td>154.1</td>\n",
       "      <td>1386.9</td>\n",
       "    </tr>\n",
       "    <tr>\n",
       "      <th>1</th>\n",
       "      <td>36.0</td>\n",
       "      <td>118.0</td>\n",
       "      <td>8.0</td>\n",
       "      <td>72</td>\n",
       "      <td>576.0</td>\n",
       "      <td>9.00</td>\n",
       "      <td>656.0</td>\n",
       "      <td>89.00</td>\n",
       "      <td>2.3</td>\n",
       "      <td>20.7</td>\n",
       "      <td>165.6</td>\n",
       "      <td>1490.4</td>\n",
       "    </tr>\n",
       "    <tr>\n",
       "      <th>2</th>\n",
       "      <td>12.0</td>\n",
       "      <td>149.0</td>\n",
       "      <td>12.6</td>\n",
       "      <td>74</td>\n",
       "      <td>932.4</td>\n",
       "      <td>5.87</td>\n",
       "      <td>1019.0</td>\n",
       "      <td>92.47</td>\n",
       "      <td>2.3</td>\n",
       "      <td>20.7</td>\n",
       "      <td>170.2</td>\n",
       "      <td>1531.8</td>\n",
       "    </tr>\n",
       "    <tr>\n",
       "      <th>3</th>\n",
       "      <td>18.0</td>\n",
       "      <td>313.0</td>\n",
       "      <td>11.5</td>\n",
       "      <td>62</td>\n",
       "      <td>713.0</td>\n",
       "      <td>5.39</td>\n",
       "      <td>786.5</td>\n",
       "      <td>78.89</td>\n",
       "      <td>2.3</td>\n",
       "      <td>20.7</td>\n",
       "      <td>142.6</td>\n",
       "      <td>1283.4</td>\n",
       "    </tr>\n",
       "    <tr>\n",
       "      <th>6</th>\n",
       "      <td>23.0</td>\n",
       "      <td>299.0</td>\n",
       "      <td>8.6</td>\n",
       "      <td>65</td>\n",
       "      <td>559.0</td>\n",
       "      <td>7.56</td>\n",
       "      <td>632.6</td>\n",
       "      <td>81.16</td>\n",
       "      <td>2.3</td>\n",
       "      <td>20.7</td>\n",
       "      <td>149.5</td>\n",
       "      <td>1345.5</td>\n",
       "    </tr>\n",
       "  </tbody>\n",
       "</table>\n",
       "</div>"
      ],
      "text/plain": [
       "   Ozone  Solar.R  Wind  Temp   TWcp  TWrat  Temp_Wind_TWcp  Temp_Wind_TWrat  \\\n",
       "0   41.0    190.0   7.4    67  495.8   9.05           570.2            83.45   \n",
       "1   36.0    118.0   8.0    72  576.0   9.00           656.0            89.00   \n",
       "2   12.0    149.0  12.6    74  932.4   5.87          1019.0            92.47   \n",
       "3   18.0    313.0  11.5    62  713.0   5.39           786.5            78.89   \n",
       "6   23.0    299.0   8.6    65  559.0   7.56           632.6            81.16   \n",
       "\n",
       "   wind_min  wind_max  Temp_min_Wind_TWcp  Temp_max_Wind_TWcp  \n",
       "0       2.3      20.7               154.1              1386.9  \n",
       "1       2.3      20.7               165.6              1490.4  \n",
       "2       2.3      20.7               170.2              1531.8  \n",
       "3       2.3      20.7               142.6              1283.4  \n",
       "6       2.3      20.7               149.5              1345.5  "
      ]
     },
     "execution_count": 13,
     "metadata": {},
     "output_type": "execute_result"
    }
   ],
   "source": [
    "df_airquality_part4['wind_min'] = df_airquality_part4['Wind'].min()\n",
    "df_airquality_part4['wind_max'] = df_airquality_part4['Wind'].max()\n",
    "\n",
    "df_airquality_part4['Temp_min_Wind_TWcp'] = df_airquality_part4['Temp']*df_airquality_part4['wind_min']\n",
    "df_airquality_part4['Temp_max_Wind_TWcp'] = df_airquality_part4['Temp']*df_airquality_part4['wind_max']\n",
    "df_airquality_part4.head()\n"
   ]
  },
  {
   "cell_type": "code",
   "execution_count": 14,
   "id": "328d7f3f",
   "metadata": {},
   "outputs": [
    {
     "name": "stderr",
     "output_type": "stream",
     "text": [
      "C:\\Users\\mzand\\AppData\\Roaming\\Python\\Python39\\site-packages\\statsmodels\\tsa\\tsatools.py:142: FutureWarning: In a future version of pandas all arguments of concat except for the argument 'objs' will be keyword-only\n",
      "  x = pd.concat(x[::order], 1)\n"
     ]
    },
    {
     "data": {
      "text/html": [
       "<table class=\"simpletable\">\n",
       "<caption>OLS Regression Results</caption>\n",
       "<tr>\n",
       "  <th>Dep. Variable:</th>          <td>Ozone</td>      <th>  R-squared:         </th> <td>   0.488</td>\n",
       "</tr>\n",
       "<tr>\n",
       "  <th>Model:</th>                   <td>OLS</td>       <th>  Adj. R-squared:    </th> <td>   0.483</td>\n",
       "</tr>\n",
       "<tr>\n",
       "  <th>Method:</th>             <td>Least Squares</td>  <th>  F-statistic:       </th> <td>   103.9</td>\n",
       "</tr>\n",
       "<tr>\n",
       "  <th>Date:</th>             <td>Wed, 01 Dec 2021</td> <th>  Prob (F-statistic):</th> <td>1.55e-17</td>\n",
       "</tr>\n",
       "<tr>\n",
       "  <th>Time:</th>                 <td>17:23:37</td>     <th>  Log-Likelihood:    </th> <td> -508.89</td>\n",
       "</tr>\n",
       "<tr>\n",
       "  <th>No. Observations:</th>      <td>   111</td>      <th>  AIC:               </th> <td>   1022.</td>\n",
       "</tr>\n",
       "<tr>\n",
       "  <th>Df Residuals:</th>          <td>   109</td>      <th>  BIC:               </th> <td>   1027.</td>\n",
       "</tr>\n",
       "<tr>\n",
       "  <th>Df Model:</th>              <td>     1</td>      <th>                     </th>     <td> </td>   \n",
       "</tr>\n",
       "<tr>\n",
       "  <th>Covariance Type:</th>      <td>nonrobust</td>    <th>                     </th>     <td> </td>   \n",
       "</tr>\n",
       "</table>\n",
       "<table class=\"simpletable\">\n",
       "<tr>\n",
       "           <td></td>             <th>coef</th>     <th>std err</th>      <th>t</th>      <th>P>|t|</th>  <th>[0.025</th>    <th>0.975]</th>  \n",
       "</tr>\n",
       "<tr>\n",
       "  <th>const</th>              <td> -147.6461</td> <td>   18.755</td> <td>   -7.872</td> <td> 0.000</td> <td> -184.818</td> <td> -110.474</td>\n",
       "</tr>\n",
       "<tr>\n",
       "  <th>Temp</th>               <td>    0.3878</td> <td>    0.038</td> <td>   10.192</td> <td> 0.000</td> <td>    0.312</td> <td>    0.463</td>\n",
       "</tr>\n",
       "<tr>\n",
       "  <th>Temp_min_Wind_TWcp</th> <td>    0.8919</td> <td>    0.088</td> <td>   10.192</td> <td> 0.000</td> <td>    0.718</td> <td>    1.065</td>\n",
       "</tr>\n",
       "</table>\n",
       "<table class=\"simpletable\">\n",
       "<tr>\n",
       "  <th>Omnibus:</th>       <td>51.915</td> <th>  Durbin-Watson:     </th> <td>   1.864</td>\n",
       "</tr>\n",
       "<tr>\n",
       "  <th>Prob(Omnibus):</th> <td> 0.000</td> <th>  Jarque-Bera (JB):  </th> <td> 180.588</td>\n",
       "</tr>\n",
       "<tr>\n",
       "  <th>Skew:</th>          <td> 1.634</td> <th>  Prob(JB):          </th> <td>6.11e-40</td>\n",
       "</tr>\n",
       "<tr>\n",
       "  <th>Kurtosis:</th>      <td> 8.326</td> <th>  Cond. No.          </th> <td>2.98e+16</td>\n",
       "</tr>\n",
       "</table><br/><br/>Notes:<br/>[1] Standard Errors assume that the covariance matrix of the errors is correctly specified.<br/>[2] The smallest eigenvalue is 4.84e-27. This might indicate that there are<br/>strong multicollinearity problems or that the design matrix is singular."
      ],
      "text/plain": [
       "<class 'statsmodels.iolib.summary.Summary'>\n",
       "\"\"\"\n",
       "                            OLS Regression Results                            \n",
       "==============================================================================\n",
       "Dep. Variable:                  Ozone   R-squared:                       0.488\n",
       "Model:                            OLS   Adj. R-squared:                  0.483\n",
       "Method:                 Least Squares   F-statistic:                     103.9\n",
       "Date:                Wed, 01 Dec 2021   Prob (F-statistic):           1.55e-17\n",
       "Time:                        17:23:37   Log-Likelihood:                -508.89\n",
       "No. Observations:                 111   AIC:                             1022.\n",
       "Df Residuals:                     109   BIC:                             1027.\n",
       "Df Model:                           1                                         \n",
       "Covariance Type:            nonrobust                                         \n",
       "======================================================================================\n",
       "                         coef    std err          t      P>|t|      [0.025      0.975]\n",
       "--------------------------------------------------------------------------------------\n",
       "const               -147.6461     18.755     -7.872      0.000    -184.818    -110.474\n",
       "Temp                   0.3878      0.038     10.192      0.000       0.312       0.463\n",
       "Temp_min_Wind_TWcp     0.8919      0.088     10.192      0.000       0.718       1.065\n",
       "==============================================================================\n",
       "Omnibus:                       51.915   Durbin-Watson:                   1.864\n",
       "Prob(Omnibus):                  0.000   Jarque-Bera (JB):              180.588\n",
       "Skew:                           1.634   Prob(JB):                     6.11e-40\n",
       "Kurtosis:                       8.326   Cond. No.                     2.98e+16\n",
       "==============================================================================\n",
       "\n",
       "Notes:\n",
       "[1] Standard Errors assume that the covariance matrix of the errors is correctly specified.\n",
       "[2] The smallest eigenvalue is 4.84e-27. This might indicate that there are\n",
       "strong multicollinearity problems or that the design matrix is singular.\n",
       "\"\"\""
      ]
     },
     "execution_count": 14,
     "metadata": {},
     "output_type": "execute_result"
    }
   ],
   "source": [
    "y = df_airquality_part4 [['Ozone']]\n",
    "\n",
    "temp_wind_min = df_airquality_part4 [['Temp','Temp_min_Wind_TWcp']]\n",
    "\n",
    "#print(y.shape,\"\\n\\n\",x1.shape)\n",
    "\n",
    "x = sm.add_constant(temp_wind_min)    \n",
    "results = sm.OLS(y,x).fit()\n",
    "results.summary()\n"
   ]
  },
  {
   "cell_type": "code",
   "execution_count": 15,
   "id": "05dd1bfb",
   "metadata": {},
   "outputs": [
    {
     "name": "stderr",
     "output_type": "stream",
     "text": [
      "C:\\Users\\mzand\\AppData\\Roaming\\Python\\Python39\\site-packages\\statsmodels\\tsa\\tsatools.py:142: FutureWarning: In a future version of pandas all arguments of concat except for the argument 'objs' will be keyword-only\n",
      "  x = pd.concat(x[::order], 1)\n"
     ]
    },
    {
     "data": {
      "text/html": [
       "<table class=\"simpletable\">\n",
       "<caption>OLS Regression Results</caption>\n",
       "<tr>\n",
       "  <th>Dep. Variable:</th>          <td>Ozone</td>      <th>  R-squared:         </th> <td>   0.488</td>\n",
       "</tr>\n",
       "<tr>\n",
       "  <th>Model:</th>                   <td>OLS</td>       <th>  Adj. R-squared:    </th> <td>   0.483</td>\n",
       "</tr>\n",
       "<tr>\n",
       "  <th>Method:</th>             <td>Least Squares</td>  <th>  F-statistic:       </th> <td>   103.9</td>\n",
       "</tr>\n",
       "<tr>\n",
       "  <th>Date:</th>             <td>Wed, 01 Dec 2021</td> <th>  Prob (F-statistic):</th> <td>1.55e-17</td>\n",
       "</tr>\n",
       "<tr>\n",
       "  <th>Time:</th>                 <td>17:23:37</td>     <th>  Log-Likelihood:    </th> <td> -508.89</td>\n",
       "</tr>\n",
       "<tr>\n",
       "  <th>No. Observations:</th>      <td>   111</td>      <th>  AIC:               </th> <td>   1022.</td>\n",
       "</tr>\n",
       "<tr>\n",
       "  <th>Df Residuals:</th>          <td>   109</td>      <th>  BIC:               </th> <td>   1027.</td>\n",
       "</tr>\n",
       "<tr>\n",
       "  <th>Df Model:</th>              <td>     1</td>      <th>                     </th>     <td> </td>   \n",
       "</tr>\n",
       "<tr>\n",
       "  <th>Covariance Type:</th>      <td>nonrobust</td>    <th>                     </th>     <td> </td>   \n",
       "</tr>\n",
       "</table>\n",
       "<table class=\"simpletable\">\n",
       "<tr>\n",
       "           <td></td>             <th>coef</th>     <th>std err</th>      <th>t</th>      <th>P>|t|</th>  <th>[0.025</th>    <th>0.975]</th>  \n",
       "</tr>\n",
       "<tr>\n",
       "  <th>const</th>              <td> -147.6461</td> <td>   18.755</td> <td>   -7.872</td> <td> 0.000</td> <td> -184.818</td> <td> -110.474</td>\n",
       "</tr>\n",
       "<tr>\n",
       "  <th>Temp</th>               <td>    0.0057</td> <td>    0.001</td> <td>   10.192</td> <td> 0.000</td> <td>    0.005</td> <td>    0.007</td>\n",
       "</tr>\n",
       "<tr>\n",
       "  <th>Temp_max_Wind_TWcp</th> <td>    0.1176</td> <td>    0.012</td> <td>   10.192</td> <td> 0.000</td> <td>    0.095</td> <td>    0.140</td>\n",
       "</tr>\n",
       "</table>\n",
       "<table class=\"simpletable\">\n",
       "<tr>\n",
       "  <th>Omnibus:</th>       <td>51.915</td> <th>  Durbin-Watson:     </th> <td>   1.864</td>\n",
       "</tr>\n",
       "<tr>\n",
       "  <th>Prob(Omnibus):</th> <td> 0.000</td> <th>  Jarque-Bera (JB):  </th> <td> 180.588</td>\n",
       "</tr>\n",
       "<tr>\n",
       "  <th>Skew:</th>          <td> 1.634</td> <th>  Prob(JB):          </th> <td>6.11e-40</td>\n",
       "</tr>\n",
       "<tr>\n",
       "  <th>Kurtosis:</th>      <td> 8.326</td> <th>  Cond. No.          </th> <td>1.33e+17</td>\n",
       "</tr>\n",
       "</table><br/><br/>Notes:<br/>[1] Standard Errors assume that the covariance matrix of the errors is correctly specified.<br/>[2] The smallest eigenvalue is 1.65e-26. This might indicate that there are<br/>strong multicollinearity problems or that the design matrix is singular."
      ],
      "text/plain": [
       "<class 'statsmodels.iolib.summary.Summary'>\n",
       "\"\"\"\n",
       "                            OLS Regression Results                            \n",
       "==============================================================================\n",
       "Dep. Variable:                  Ozone   R-squared:                       0.488\n",
       "Model:                            OLS   Adj. R-squared:                  0.483\n",
       "Method:                 Least Squares   F-statistic:                     103.9\n",
       "Date:                Wed, 01 Dec 2021   Prob (F-statistic):           1.55e-17\n",
       "Time:                        17:23:37   Log-Likelihood:                -508.89\n",
       "No. Observations:                 111   AIC:                             1022.\n",
       "Df Residuals:                     109   BIC:                             1027.\n",
       "Df Model:                           1                                         \n",
       "Covariance Type:            nonrobust                                         \n",
       "======================================================================================\n",
       "                         coef    std err          t      P>|t|      [0.025      0.975]\n",
       "--------------------------------------------------------------------------------------\n",
       "const               -147.6461     18.755     -7.872      0.000    -184.818    -110.474\n",
       "Temp                   0.0057      0.001     10.192      0.000       0.005       0.007\n",
       "Temp_max_Wind_TWcp     0.1176      0.012     10.192      0.000       0.095       0.140\n",
       "==============================================================================\n",
       "Omnibus:                       51.915   Durbin-Watson:                   1.864\n",
       "Prob(Omnibus):                  0.000   Jarque-Bera (JB):              180.588\n",
       "Skew:                           1.634   Prob(JB):                     6.11e-40\n",
       "Kurtosis:                       8.326   Cond. No.                     1.33e+17\n",
       "==============================================================================\n",
       "\n",
       "Notes:\n",
       "[1] Standard Errors assume that the covariance matrix of the errors is correctly specified.\n",
       "[2] The smallest eigenvalue is 1.65e-26. This might indicate that there are\n",
       "strong multicollinearity problems or that the design matrix is singular.\n",
       "\"\"\""
      ]
     },
     "execution_count": 15,
     "metadata": {},
     "output_type": "execute_result"
    }
   ],
   "source": [
    "y = df_airquality_part4 [['Ozone']]\n",
    "\n",
    "temp_wind_max = df_airquality_part4 [['Temp','Temp_max_Wind_TWcp']]\n",
    "\n",
    "\n",
    "x = sm.add_constant(temp_wind_max)    \n",
    "results = sm.OLS(y,x).fit()\n",
    "results.summary()\n"
   ]
  },
  {
   "cell_type": "markdown",
   "id": "50182404",
   "metadata": {},
   "source": [
    "### Assignment 4 - Part 4 - excercise 2 - Answer\n",
    "\n",
    "**c)When wind is at its minimum the slope of temp is: .38**\n"
   ]
  },
  {
   "cell_type": "markdown",
   "id": "ac5c4140",
   "metadata": {},
   "source": [
    "**c)When wind is at its maximum the slope of temp is: .00**"
   ]
  },
  {
   "cell_type": "code",
   "execution_count": 16,
   "id": "890a2093",
   "metadata": {},
   "outputs": [
    {
     "data": {
      "text/html": [
       "<div>\n",
       "<style scoped>\n",
       "    .dataframe tbody tr th:only-of-type {\n",
       "        vertical-align: middle;\n",
       "    }\n",
       "\n",
       "    .dataframe tbody tr th {\n",
       "        vertical-align: top;\n",
       "    }\n",
       "\n",
       "    .dataframe thead th {\n",
       "        text-align: right;\n",
       "    }\n",
       "</style>\n",
       "<table border=\"1\" class=\"dataframe\">\n",
       "  <thead>\n",
       "    <tr style=\"text-align: right;\">\n",
       "      <th></th>\n",
       "      <th>Ozone</th>\n",
       "      <th>Solar.R</th>\n",
       "      <th>Wind</th>\n",
       "      <th>Temp</th>\n",
       "      <th>TWcp</th>\n",
       "      <th>TWrat</th>\n",
       "      <th>Temp_Wind_TWcp</th>\n",
       "      <th>Temp_Wind_TWrat</th>\n",
       "      <th>wind_min</th>\n",
       "      <th>wind_max</th>\n",
       "      <th>Temp_min_Wind_TWcp</th>\n",
       "      <th>Temp_max_Wind_TWcp</th>\n",
       "    </tr>\n",
       "  </thead>\n",
       "  <tbody>\n",
       "    <tr>\n",
       "      <th>0</th>\n",
       "      <td>41.0</td>\n",
       "      <td>190.0</td>\n",
       "      <td>7.4</td>\n",
       "      <td>67</td>\n",
       "      <td>495.8</td>\n",
       "      <td>9.05</td>\n",
       "      <td>570.2</td>\n",
       "      <td>83.45</td>\n",
       "      <td>2.3</td>\n",
       "      <td>20.7</td>\n",
       "      <td>154.1</td>\n",
       "      <td>1386.9</td>\n",
       "    </tr>\n",
       "    <tr>\n",
       "      <th>1</th>\n",
       "      <td>36.0</td>\n",
       "      <td>118.0</td>\n",
       "      <td>8.0</td>\n",
       "      <td>72</td>\n",
       "      <td>576.0</td>\n",
       "      <td>9.00</td>\n",
       "      <td>656.0</td>\n",
       "      <td>89.00</td>\n",
       "      <td>2.3</td>\n",
       "      <td>20.7</td>\n",
       "      <td>165.6</td>\n",
       "      <td>1490.4</td>\n",
       "    </tr>\n",
       "    <tr>\n",
       "      <th>2</th>\n",
       "      <td>12.0</td>\n",
       "      <td>149.0</td>\n",
       "      <td>12.6</td>\n",
       "      <td>74</td>\n",
       "      <td>932.4</td>\n",
       "      <td>5.87</td>\n",
       "      <td>1019.0</td>\n",
       "      <td>92.47</td>\n",
       "      <td>2.3</td>\n",
       "      <td>20.7</td>\n",
       "      <td>170.2</td>\n",
       "      <td>1531.8</td>\n",
       "    </tr>\n",
       "    <tr>\n",
       "      <th>3</th>\n",
       "      <td>18.0</td>\n",
       "      <td>313.0</td>\n",
       "      <td>11.5</td>\n",
       "      <td>62</td>\n",
       "      <td>713.0</td>\n",
       "      <td>5.39</td>\n",
       "      <td>786.5</td>\n",
       "      <td>78.89</td>\n",
       "      <td>2.3</td>\n",
       "      <td>20.7</td>\n",
       "      <td>142.6</td>\n",
       "      <td>1283.4</td>\n",
       "    </tr>\n",
       "    <tr>\n",
       "      <th>6</th>\n",
       "      <td>23.0</td>\n",
       "      <td>299.0</td>\n",
       "      <td>8.6</td>\n",
       "      <td>65</td>\n",
       "      <td>559.0</td>\n",
       "      <td>7.56</td>\n",
       "      <td>632.6</td>\n",
       "      <td>81.16</td>\n",
       "      <td>2.3</td>\n",
       "      <td>20.7</td>\n",
       "      <td>149.5</td>\n",
       "      <td>1345.5</td>\n",
       "    </tr>\n",
       "  </tbody>\n",
       "</table>\n",
       "</div>"
      ],
      "text/plain": [
       "   Ozone  Solar.R  Wind  Temp   TWcp  TWrat  Temp_Wind_TWcp  Temp_Wind_TWrat  \\\n",
       "0   41.0    190.0   7.4    67  495.8   9.05           570.2            83.45   \n",
       "1   36.0    118.0   8.0    72  576.0   9.00           656.0            89.00   \n",
       "2   12.0    149.0  12.6    74  932.4   5.87          1019.0            92.47   \n",
       "3   18.0    313.0  11.5    62  713.0   5.39           786.5            78.89   \n",
       "6   23.0    299.0   8.6    65  559.0   7.56           632.6            81.16   \n",
       "\n",
       "   wind_min  wind_max  Temp_min_Wind_TWcp  Temp_max_Wind_TWcp  \n",
       "0       2.3      20.7               154.1              1386.9  \n",
       "1       2.3      20.7               165.6              1490.4  \n",
       "2       2.3      20.7               170.2              1531.8  \n",
       "3       2.3      20.7               142.6              1283.4  \n",
       "6       2.3      20.7               149.5              1345.5  "
      ]
     },
     "execution_count": 16,
     "metadata": {},
     "output_type": "execute_result"
    }
   ],
   "source": [
    "df_airquality_part4.head()"
   ]
  },
  {
   "cell_type": "markdown",
   "id": "7e8890e9",
   "metadata": {},
   "source": [
    "**Insert interaction_formula to the data frame to Calculate models regression in previouse exercise**"
   ]
  },
  {
   "cell_type": "code",
   "execution_count": 17,
   "id": "9cb1dd3f",
   "metadata": {},
   "outputs": [
    {
     "data": {
      "text/html": [
       "<div>\n",
       "<style scoped>\n",
       "    .dataframe tbody tr th:only-of-type {\n",
       "        vertical-align: middle;\n",
       "    }\n",
       "\n",
       "    .dataframe tbody tr th {\n",
       "        vertical-align: top;\n",
       "    }\n",
       "\n",
       "    .dataframe thead th {\n",
       "        text-align: right;\n",
       "    }\n",
       "</style>\n",
       "<table border=\"1\" class=\"dataframe\">\n",
       "  <thead>\n",
       "    <tr style=\"text-align: right;\">\n",
       "      <th></th>\n",
       "      <th>Ozone</th>\n",
       "      <th>Solar.R</th>\n",
       "      <th>Wind</th>\n",
       "      <th>Temp</th>\n",
       "      <th>TWcp</th>\n",
       "      <th>TWrat</th>\n",
       "      <th>Temp_Wind_TWcp</th>\n",
       "      <th>Temp_Wind_TWrat</th>\n",
       "      <th>wind_min</th>\n",
       "      <th>wind_max</th>\n",
       "      <th>Temp_min_Wind_TWcp</th>\n",
       "      <th>Temp_max_Wind_TWcp</th>\n",
       "      <th>interaction_formula</th>\n",
       "    </tr>\n",
       "  </thead>\n",
       "  <tbody>\n",
       "    <tr>\n",
       "      <th>0</th>\n",
       "      <td>41.0</td>\n",
       "      <td>190.0</td>\n",
       "      <td>7.4</td>\n",
       "      <td>67</td>\n",
       "      <td>495.8</td>\n",
       "      <td>9.05</td>\n",
       "      <td>570.2</td>\n",
       "      <td>83.45</td>\n",
       "      <td>2.3</td>\n",
       "      <td>20.7</td>\n",
       "      <td>154.1</td>\n",
       "      <td>1386.9</td>\n",
       "      <td>55539.96</td>\n",
       "    </tr>\n",
       "    <tr>\n",
       "      <th>1</th>\n",
       "      <td>36.0</td>\n",
       "      <td>118.0</td>\n",
       "      <td>8.0</td>\n",
       "      <td>72</td>\n",
       "      <td>576.0</td>\n",
       "      <td>9.00</td>\n",
       "      <td>656.0</td>\n",
       "      <td>89.00</td>\n",
       "      <td>2.3</td>\n",
       "      <td>20.7</td>\n",
       "      <td>165.6</td>\n",
       "      <td>1490.4</td>\n",
       "      <td>29386.00</td>\n",
       "    </tr>\n",
       "  </tbody>\n",
       "</table>\n",
       "</div>"
      ],
      "text/plain": [
       "   Ozone  Solar.R  Wind  Temp   TWcp  TWrat  Temp_Wind_TWcp  Temp_Wind_TWrat  \\\n",
       "0   41.0    190.0   7.4    67  495.8   9.05           570.2            83.45   \n",
       "1   36.0    118.0   8.0    72  576.0   9.00           656.0            89.00   \n",
       "\n",
       "   wind_min  wind_max  Temp_min_Wind_TWcp  Temp_max_Wind_TWcp  \\\n",
       "0       2.3      20.7               154.1              1386.9   \n",
       "1       2.3      20.7               165.6              1490.4   \n",
       "\n",
       "   interaction_formula  \n",
       "0             55539.96  \n",
       "1             29386.00  "
      ]
     },
     "execution_count": 17,
     "metadata": {},
     "output_type": "execute_result"
    }
   ],
   "source": [
    "df_airquality_part4['interaction_formula'] = df_airquality_part4['Solar.R'] + \\\n",
    "        df_airquality_part4['Wind'] + df_airquality_part4['Temp'] + df_airquality_part4['Solar.R']**2 + df_airquality_part4['Wind']**2 +\\\n",
    "        df_airquality_part4['Temp']**2 + df_airquality_part4['Solar.R']* df_airquality_part4['Wind'] + df_airquality_part4['Temp']* df_airquality_part4['Solar.R']+\\\n",
    "        df_airquality_part4['Temp']* df_airquality_part4['Wind']\n",
    "df_airquality_part4.head(2)"
   ]
  },
  {
   "cell_type": "markdown",
   "id": "dfa1a4cc",
   "metadata": {},
   "source": [
    "# split the dataframe"
   ]
  },
  {
   "cell_type": "code",
   "execution_count": 18,
   "id": "49a22162",
   "metadata": {},
   "outputs": [],
   "source": [
    "x_train,x_valid,y_train,y_valid = train_test_split(df_airquality_part4[['TWcp','TWrat','Temp_min_Wind_TWcp','Temp_max_Wind_TWcp','Solar.R','Wind','Temp','interaction_formula']],\\\n",
    "                                                   df_airquality_part4[['Ozone']], train_size = .75,random_state = 4099183)\n",
    "                                                                        \n",
    "#print(x_train ,\"\\n\\n\",x_valid )"
   ]
  },
  {
   "cell_type": "markdown",
   "id": "c9942b29",
   "metadata": {},
   "source": [
    "## Assignment 4 - Part 4 - excercise 3\n",
    "### Calculate models Regression for part4 of excercise"
   ]
  },
  {
   "cell_type": "code",
   "execution_count": 19,
   "id": "810d74b8",
   "metadata": {},
   "outputs": [],
   "source": [
    "reg_TWcp = LinearRegression().fit(x_train[['TWcp']],y_train)  \n",
    "reg_TWrat = LinearRegression().fit(x_train[['TWrat']],y_train)\n",
    "reg_Temp_min_Wind_TWcp = LinearRegression().fit(x_train[['Temp_min_Wind_TWcp']],y_train)\n",
    "reg_Temp_max_Wind_TWcp = LinearRegression().fit(x_train[['Temp_max_Wind_TWcp']],y_train)\n"
   ]
  },
  {
   "cell_type": "markdown",
   "id": "6da66b96",
   "metadata": {},
   "source": [
    "# Predictions"
   ]
  },
  {
   "cell_type": "code",
   "execution_count": 20,
   "id": "e69ac595",
   "metadata": {},
   "outputs": [],
   "source": [
    "TWcp_predict= reg_TWcp.predict(x_valid[['TWcp']])\n",
    "TWrat_predict= reg_TWrat.predict(x_valid[['TWrat']])\n",
    "min_Wind_TWcp_predict= reg_Temp_min_Wind_TWcp.predict(x_valid[['Temp_min_Wind_TWcp']])\n",
    "max_Wind_TWcp_predict = reg_Temp_max_Wind_TWcp.predict(x_valid[['Temp_max_Wind_TWcp']])\n",
    "\n",
    "\n"
   ]
  },
  {
   "cell_type": "markdown",
   "id": "10674abd",
   "metadata": {},
   "source": [
    "# Report MSPE"
   ]
  },
  {
   "cell_type": "code",
   "execution_count": 21,
   "id": "65310627",
   "metadata": {},
   "outputs": [
    {
     "name": "stdout",
     "output_type": "stream",
     "text": [
      "TWcp_predict_MSPE is : 1025.94\n",
      "TWrat_predict_MSPE is : 726.29\n",
      "min_Wind_TWcp_predict_MSPE is :620.32 \n",
      "max_Wind_TWcp_predict_MSPE is :620.32\n"
     ]
    }
   ],
   "source": [
    "TWcp_predict_MSPE = round(sklearn.metrics.mean_squared_error(y_valid,TWcp_predict),2)\n",
    "\n",
    "TWrat_predict_MSPE =round( sklearn.metrics.mean_squared_error(y_valid,TWrat_predict),2)\n",
    "\n",
    "min_Wind_TWcp_predict_MSPE = round(sklearn.metrics.mean_squared_error(y_valid,min_Wind_TWcp_predict),2)\n",
    "max_Wind_TWcp_predict_MSPE = round(sklearn.metrics.mean_squared_error(y_valid,max_Wind_TWcp_predict),2)\n",
    "print(f\"TWcp_predict_MSPE is : {TWcp_predict_MSPE}\" )\n",
    "print(f\"TWrat_predict_MSPE is : {TWrat_predict_MSPE}\")\n",
    "print(f\"min_Wind_TWcp_predict_MSPE is :{min_Wind_TWcp_predict_MSPE} \")\n",
    "print(f\"max_Wind_TWcp_predict_MSPE is :{max_Wind_TWcp_predict_MSPE}\" )\n"
   ]
  },
  {
   "cell_type": "markdown",
   "id": "d15e96d3",
   "metadata": {},
   "source": [
    "### Assignment 4 - Part 4 - excercise 3 - Answer\n",
    "**a) models with cross product term win the competition**"
   ]
  },
  {
   "cell_type": "markdown",
   "id": "5f3a55e2",
   "metadata": {},
   "source": [
    "## Assignment 4 - Part 4 - excercise 4\n",
    "### Cross Validation"
   ]
  },
  {
   "cell_type": "markdown",
   "id": "7723dce1",
   "metadata": {},
   "source": [
    "**Calculate models regression in previouse  exercise**"
   ]
  },
  {
   "cell_type": "code",
   "execution_count": 22,
   "id": "a3e1b9ac",
   "metadata": {},
   "outputs": [],
   "source": [
    "reg_Solar = LinearRegression().fit(x_train[['Solar.R']],y_train)  \n",
    "reg_Wind = LinearRegression().fit(x_train[['Wind']],y_train)\n",
    "reg_Temp = LinearRegression().fit(x_train[['Temp']],y_train)\n",
    "reg_interaction_formula = LinearRegression().fit(x_train[['interaction_formula']],y_train)\n",
    "reg_Solar_Wind_Temp = LinearRegression().fit(x_train[['Solar.R','Wind','Temp']] ,y_train )"
   ]
  },
  {
   "cell_type": "markdown",
   "id": "70fec622",
   "metadata": {},
   "source": [
    "**Cross validation**"
   ]
  },
  {
   "cell_type": "code",
   "execution_count": 23,
   "id": "9055fce4",
   "metadata": {},
   "outputs": [
    {
     "name": "stdout",
     "output_type": "stream",
     "text": [
      "Mean Squared Predict Error for Solar is : 1292.68\n",
      "Mean Squared Predict Error for Wind is : 1045.91\n",
      "Mean Squared Predict Error for Temp is : 624.69\n",
      "Mean Squared Predict Error for Interaction Formula is : 1362.91\n",
      "Mean Squared Predict Error for Solar, Wind and Temp is : 584.85\n",
      "Mean Squared Predict Error for TWcp is : 1194.11\n",
      "Mean Squared Predict Error for TWrat is : 1093.35\n",
      "Mean Squared Predict Error for min_Wind_TWcp is : 624.69\n",
      "Mean Squared Predict Error for max_Wind_TWcp is : 624.69\n"
     ]
    }
   ],
   "source": [
    "rcv = RepeatedKFold(n_splits= 10, n_repeats= 20, random_state= 4099183)\n",
    "#previouse excercise Models\n",
    "score_cv_sloar = cross_val_score(reg_Solar, x_valid[['Solar.R']], y_valid, scoring= 'neg_mean_squared_error', cv= rcv)\n",
    "score_cv_wind = cross_val_score(reg_Wind, x_valid[['Wind']], y_valid, scoring= 'neg_mean_squared_error', cv= rcv)\n",
    "score_cv_temp = cross_val_score(reg_Temp, x_valid[['Temp']], y_valid, scoring= 'neg_mean_squared_error', cv= rcv)\n",
    "score_cv_inter = cross_val_score(reg_interaction_formula, x_valid[['interaction_formula']], y_valid, scoring= 'neg_mean_squared_error', cv= rcv)\n",
    "score_cv_Solar_Wind_Temp = cross_val_score(reg_Solar_Wind_Temp, x_valid[['Solar.R','Wind','Temp']], y_valid, scoring= 'neg_mean_squared_error', cv= rcv)\n",
    "\n",
    "#part4 excercise Models\n",
    "    \n",
    "score_cv_TWcp = cross_val_score(reg_TWcp, x_valid[['TWcp']], y_valid, scoring= 'neg_mean_squared_error', cv= rcv)\n",
    "score_cv_TWrat = cross_val_score(reg_TWrat, x_valid[['TWrat']], y_valid, scoring= 'neg_mean_squared_error', cv= rcv)\n",
    "score_cv_min_Wind_TWcp = cross_val_score(reg_Temp_min_Wind_TWcp, x_valid[['Temp_min_Wind_TWcp']], y_valid, scoring= 'neg_mean_squared_error', cv= rcv)\n",
    "score_cv_max_Wind_TWcp = cross_val_score(reg_Temp_max_Wind_TWcp, x_valid[['Temp_max_Wind_TWcp']], y_valid, scoring= 'neg_mean_squared_error', cv= rcv)\n",
    "\n",
    "\n",
    "print('Mean Squared Predict Error for Solar is : %.2f' %-score_cv_sloar.mean())\n",
    "print('Mean Squared Predict Error for Wind is : %.2f' %-score_cv_wind.mean())\n",
    "print('Mean Squared Predict Error for Temp is : %.2f' %-score_cv_temp.mean())\n",
    "print('Mean Squared Predict Error for Interaction Formula is : %.2f' %-score_cv_inter.mean())\n",
    "print('Mean Squared Predict Error for Solar, Wind and Temp is : %.2f' %-score_cv_Solar_Wind_Temp.mean())\n",
    "\n",
    "print('Mean Squared Predict Error for TWcp is : %.2f' %-score_cv_TWcp.mean())\n",
    "print('Mean Squared Predict Error for TWrat is : %.2f' %-score_cv_TWrat.mean())\n",
    "print('Mean Squared Predict Error for min_Wind_TWcp is : %.2f' %-score_cv_min_Wind_TWcp.mean())\n",
    "print('Mean Squared Predict Error for max_Wind_TWcp is : %.2f' %-score_cv_max_Wind_TWcp.mean())\n"
   ]
  },
  {
   "cell_type": "markdown",
   "id": "e6e544a1",
   "metadata": {},
   "source": [
    "### Assignment 4 - Part 4 - excercise 4\n",
    "### 4-a) Box plot of RMSPE"
   ]
  },
  {
   "cell_type": "code",
   "execution_count": 24,
   "id": "59ffd931",
   "metadata": {},
   "outputs": [],
   "source": [
    "RMSPE_Solar = -score_cv_sloar/(-score_cv_sloar).min()\n",
    "RMSPE_Wind = -score_cv_wind/(-score_cv_wind).min()\n",
    "RMSPE_Temp = -score_cv_temp/(-score_cv_temp).min()\n",
    "RMSPE_Solar_Wind_Temp = -score_cv_Solar_Wind_Temp/(-score_cv_Solar_Wind_Temp).min()\n",
    "RMSPE_inter = -score_cv_inter/(-score_cv_inter).min()\n",
    "\n",
    "RMSPE_TWcp = -score_cv_TWcp/(-score_cv_TWcp).min()\n",
    "RMSPE_TWrat = -score_cv_TWrat/(-score_cv_TWrat).min()\n",
    "RMSPE_min_Wind_TWcp = -score_cv_min_Wind_TWcp/(-score_cv_min_Wind_TWcp).min()\n",
    "RMSPE_max_Wind_TWcp = -score_cv_max_Wind_TWcp/(-score_cv_max_Wind_TWcp).min()\n"
   ]
  },
  {
   "cell_type": "code",
   "execution_count": 25,
   "id": "fd803df4",
   "metadata": {},
   "outputs": [
    {
     "data": {
      "image/png": "[encoded data removed]",
      "text/plain": [
       "<Figure size 864x576 with 9 Axes>"
      ]
     },
     "metadata": {},
     "output_type": "display_data"
    }
   ],
   "source": [
    "fig2, ax2 = plt.subplots(3,3, sharey= True, figsize=(12,8))\n",
    "\n",
    "ax2[0,0].boxplot(RMSPE_Solar, sym= '')\n",
    "\n",
    "ax2[0,1].boxplot(RMSPE_Wind, sym= '')\n",
    "\n",
    "ax2[0,2].boxplot(RMSPE_Temp, sym= '')\n",
    "\n",
    "ax2[1,0].boxplot(RMSPE_Solar_Wind_Temp, sym= '')\n",
    "\n",
    "ax2[1,1].boxplot(RMSPE_inter, sym= '')\n",
    "\n",
    "ax2[1,2].boxplot(RMSPE_TWcp, sym= '')\n",
    "\n",
    "ax2[2,0].boxplot(RMSPE_TWrat, sym= '')\n",
    "\n",
    "ax2[2,1].boxplot(RMSPE_min_Wind_TWcp, sym= '')\n",
    "\n",
    "ax2[2,2].boxplot(RMSPE_max_Wind_TWcp, sym= '')\n",
    "\n",
    "ax2[0,0].set_title('1- Solar')\n",
    "ax2[0,1].set_title('2- Wind')\n",
    "ax2[0,2].set_title('3- Temp')\n",
    "ax2[1,0].set_title('4-variables')\n",
    "ax2[1,1].set_title('5- Interaction')\n",
    "\n",
    "ax2[1,2].set_title('6- RMSPE_TWcp')\n",
    "ax2[2,0].set_title('7- RMSPE_TWrat')\n",
    "ax2[2,1].set_title('8- min_Wind_TWcp')\n",
    "ax2[2,2].set_title('9- max_Wind_TWcp')\n",
    "\n",
    "plt.show()"
   ]
  },
  {
   "cell_type": "code",
   "execution_count": 31,
   "id": "d335a15a",
   "metadata": {},
   "outputs": [
    {
     "data": {
      "image/png": "[encoded data removed]",
      "text/plain": [
       "<Figure size 864x576 with 3 Axes>"
      ]
     },
     "metadata": {},
     "output_type": "display_data"
    }
   ],
   "source": [
    "fig3, ax3 = plt.subplots(1,3 , sharey= True, figsize=(12,8))\n",
    "\n",
    "\n",
    "ax3[0].boxplot(RMSPE_inter, sym= '')\n",
    "\n",
    "ax3[1].boxplot(RMSPE_TWcp, sym= '')\n",
    "\n",
    "ax3[2].boxplot(RMSPE_min_Wind_TWcp, sym= '')\n",
    "\n",
    "ax3[0].set_title('5- Interaction')\n",
    "ax3[1].set_title('6- RMSPE_TWcp')\n",
    "ax3[2].set_title('7- RMSPE_TWrat')\n",
    "\n",
    "plt.show()"
   ]
  },
  {
   "cell_type": "markdown",
   "id": "df1f67cb",
   "metadata": {},
   "source": [
    "### Assignment 4 - Part 4 - excercise 4\n",
    "\n",
    "**b) According to the box plots charts, the Interaction model is the best.**\n",
    "\n"
   ]
  }
 ],
 "metadata": {
  "kernelspec": {
   "display_name": "Python 3",
   "language": "python",
   "name": "python3"
  },
  "language_info": {
   "codemirror_mode": {
    "name": "ipython",
    "version": 3
   },
   "file_extension": ".py",
   "mimetype": "text/x-python",
   "name": "python",
   "nbconvert_exporter": "python",
   "pygments_lexer": "ipython3",
   "version": "3.9.6"
  }
 },
 "nbformat": 4,
 "nbformat_minor": 5
}
